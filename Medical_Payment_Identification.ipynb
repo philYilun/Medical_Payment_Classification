{
 "cells": [
  {
   "cell_type": "markdown",
   "metadata": {},
   "source": [
    "### Identify Research Payment V.S. General Payment based on Medical Transaction features\n",
    "The purpose of this analysis is to build a model to identify medical payment types <br>\n",
    "This tesk is an aggregated workflow to build a ml process, more like in real cases <br>\n",
    "\n",
    "The analysis including 3 parts <br>\n",
    "#### 1. Understand features and select/create features\n",
    "- drop features with too many missing value, taken into consideration as missing are not correlated to the final result\n",
    "- winsorize / normalize variables, to avoid \n",
    "  - 1. curse of dimension when transforming categorical variable to lables \n",
    "  - 2. impact of outlier to the model, by transform the variable into normal distribution\n",
    "- check data leakage, some of the feature have totally different value for Research payment v.s. General Payment. Understand how those 2 share similar features is critical to avoid data leakage\n",
    "\n",
    "#### 2. Building model and train/select\n",
    "- baseline model as tree and logistic regression to understand how features contribute to the result by looking at baseline model coefficients\n",
    "- refine model by \n",
    "  - 1. grouping descriptions with regular expression to reduce dimension\n",
    "  - 2. spliting some field that could be the combination of multiple dimensions\n",
    "  - 3. try to find patterns in street/zip <br>\n",
    "<b> select the model by <br>\n",
    "  - 4. hyper parameter tuning with cross validation and random search\n",
    "  - 5. ensemble (RF, Voting, XGBoosting)\n",
    "    \n",
    "#### 3. Findings\n",
    "- amount of payment and location are the most important feature, especially if it is of higher amount and if in U.S. the probability for research funding is high\n",
    "- also whether the payment is covered by insurance (covered by insurance indicate it is a general payment)\n",
    "- what is payment method (cash indicate it is a general payment)\n",
    "- what is the area of treatment, as the research fund is not similarly distributed as the general medical spend - for Oncology the payment is more likely to be research\n",
    "- other reasons including devices, and code number for cases\n",
    "\n",
    "#### 4. Result\n",
    "- the predicted result 95% accuracy for testing set with runed tree, and 98 with XGB model"
   ]
  },
  {
   "cell_type": "markdown",
   "metadata": {},
   "source": [
    "### Part 0. Sub Sampling the base\n",
    "* imbalanced sample\n",
    "* subsample method"
   ]
  },
  {
   "cell_type": "code",
   "execution_count": 176,
   "metadata": {},
   "outputs": [],
   "source": [
    "\n",
    "## data processing\n",
    "import pandas as pd\n",
    "import numpy as np\n",
    "import csv\n",
    " \n",
    "import random  \n",
    "import os\n",
    "\n",
    "#plotting\n",
    "import seaborn as sns\n",
    "import matplotlib.pyplot as plt\n",
    "from scipy import stats\n",
    "\n",
    "#preprocessing\n",
    "from sklearn.preprocessing import OneHotEncoder\n",
    "from sklearn.preprocessing import StandardScaler\n",
    "from sklearn.impute import SimpleImputer\n",
    "\n",
    "#pipeline\n",
    "from sklearn.compose import ColumnTransformer\n",
    "from sklearn.compose import make_column_transformer\n",
    "from sklearn.pipeline import make_pipeline\n",
    "from sklearn.pipeline import Pipeline\n",
    "\n",
    "#model selection\n",
    "from sklearn.model_selection import GridSearchCV,RandomizedSearchCV\n",
    "from sklearn.model_selection import train_test_split\n",
    "from sklearn.model_selection import cross_val_score\n",
    "\n",
    "#model\n",
    "from sklearn.linear_model import LogisticRegression\n",
    "from sklearn.svm import LinearSVC\n",
    "from sklearn.tree import DecisionTreeClassifier, export_graphviz\n",
    "from sklearn.ensemble import GradientBoostingRegressor\n",
    "from sklearn.ensemble import RandomForestClassifier, VotingClassifier\n",
    "import xgboost as xgb\n",
    "import graphviz\n",
    "\n",
    "# model evaluation\n",
    "from sklearn.metrics import precision_recall_curve, roc_curve\n",
    "from sklearn.metrics import r2_score\n",
    "import datetime"
   ]
  },
  {
   "cell_type": "code",
   "execution_count": 4,
   "metadata": {},
   "outputs": [],
   "source": [
    "\n",
    "total_gen_row=11239734#sum(1 for i in open('OP_DTL_GNRL_PGYR2017_P06282019.csv'))\n",
    "total_res_row=653489#sum(1 for i in open('OP_DTL_RSRCH_PGYR2017_P06282019.csv'))\n",
    "\n",
    "total_gen_row,total_res_row\n",
    "#(11239734, 653489)\n",
    "\n",
    "nsamples_res=200000\n",
    "\n",
    "skiprows_gen = np.sort(np.random.choice(range(1, total_gen_row), replace = False, size = total_gen_row - nsamples_res))\n",
    "skiprows_res = np.sort(np.random.choice(range(1, total_res_row), replace = False, size = total_res_row - nsamples_res))\n"
   ]
  },
  {
   "cell_type": "code",
   "execution_count": 5,
   "metadata": {},
   "outputs": [
    {
     "name": "stderr",
     "output_type": "stream",
     "text": [
      "C:\\Users\\Yilun\\Anaconda3\\lib\\site-packages\\IPython\\core\\interactiveshell.py:3058: DtypeWarning: Columns (16,17,21,22,23,24,67,72) have mixed types. Specify dtype option on import or set low_memory=False.\n",
      "  interactivity=interactivity, compiler=compiler, result=result)\n",
      "C:\\Users\\Yilun\\Anaconda3\\lib\\site-packages\\IPython\\core\\interactiveshell.py:3058: DtypeWarning: Columns (2,5,7,8,9,10,17,18,19,20,21,22,23,24,37,38,44,45,50,52,62,67,68,69,70,71,72,73,74,75,76,79,80,81,87,88,89,90,91,92,93,94,95,96,99,100,101,107,108,109,110,111,112,113,114,115,116,119,120,121,151,156,161,162,163) have mixed types. Specify dtype option on import or set low_memory=False.\n",
      "  interactivity=interactivity, compiler=compiler, result=result)\n"
     ]
    }
   ],
   "source": [
    "\n",
    "gen = pd.read_csv(\"OP_DTL_GNRL_PGYR2017_P06282019.csv\", skiprows = skiprows_gen, parse_dates=['Date_of_Payment'])\n",
    "res = pd.read_csv(\"OP_DTL_RSRCH_PGYR2017_P06282019.csv\", skiprows = skiprows_res, parse_dates=['Date_of_Payment'])\n"
   ]
  },
  {
   "cell_type": "code",
   "execution_count": 8,
   "metadata": {},
   "outputs": [],
   "source": [
    "gen.to_csv('gen.csv')"
   ]
  },
  {
   "cell_type": "code",
   "execution_count": 9,
   "metadata": {},
   "outputs": [],
   "source": [
    "res.to_csv('res.csv')"
   ]
  },
  {
   "cell_type": "code",
   "execution_count": 5,
   "metadata": {},
   "outputs": [
    {
     "name": "stderr",
     "output_type": "stream",
     "text": [
      "C:\\Users\\Yilun\\Anaconda3\\lib\\site-packages\\IPython\\core\\interactiveshell.py:3058: DtypeWarning: Columns (17,18,22,23,24,25,68,73) have mixed types. Specify dtype option on import or set low_memory=False.\n",
      "  interactivity=interactivity, compiler=compiler, result=result)\n",
      "C:\\Users\\Yilun\\Anaconda3\\lib\\site-packages\\IPython\\core\\interactiveshell.py:3058: DtypeWarning: Columns (3,6,8,9,10,11,18,19,20,21,22,23,24,25,38,39,45,46,51,53,63,68,69,70,71,72,73,74,75,76,77,80,81,82,88,89,90,91,92,93,94,95,96,97,100,101,102,108,109,110,111,112,113,114,115,116,117,120,121,122,152,157,162,163,164) have mixed types. Specify dtype option on import or set low_memory=False.\n",
      "  interactivity=interactivity, compiler=compiler, result=result)\n"
     ]
    }
   ],
   "source": [
    "gen=pd.read_csv('gen.csv')\n",
    "res=pd.read_csv('res.csv')"
   ]
  },
  {
   "cell_type": "markdown",
   "metadata": {},
   "source": [
    " warnings show mixed types of data in multiple columns, which is a sign to \n",
    "    1. check the null and missing value\n",
    "    2. check whether some numerical value is converted into categorical or vice versa"
   ]
  },
  {
   "cell_type": "markdown",
   "metadata": {},
   "source": [
    "### Part 1. Understand Features"
   ]
  },
  {
   "cell_type": "code",
   "execution_count": 13,
   "metadata": {},
   "outputs": [
    {
     "data": {
      "text/plain": [
       "((199999, 75), (199999, 176))"
      ]
     },
     "execution_count": 13,
     "metadata": {},
     "output_type": "execute_result"
    }
   ],
   "source": [
    "gen.shape,res.shape"
   ]
  },
  {
   "cell_type": "markdown",
   "metadata": {},
   "source": [
    "Feature could be grouped by feature name at the first glance\n",
    "1. check data type\n",
    "2. check feature unique value\n",
    "3. check feature null value\n",
    "4. check data leakage"
   ]
  },
  {
   "cell_type": "code",
   "execution_count": 6,
   "metadata": {},
   "outputs": [],
   "source": [
    "gen['Tag']=0\n",
    "res['Tag']=1"
   ]
  },
  {
   "cell_type": "code",
   "execution_count": 7,
   "metadata": {},
   "outputs": [],
   "source": [
    "#combine 2 sets of data with different result to 1, leaving columns that are in common in both sets\n",
    "#the common features are 66\n",
    "comb=pd.concat([gen,res],axis=0,verify_integrity=False,sort=True,join=\"inner\")\n",
    "comb.shape"
   ]
  },
  {
   "cell_type": "code",
   "execution_count": 8,
   "metadata": {},
   "outputs": [
    {
     "data": {
      "text/plain": [
       "(399998, 66)"
      ]
     },
     "execution_count": 8,
     "metadata": {},
     "output_type": "execute_result"
    }
   ],
   "source": [
    "comb.shape"
   ]
  },
  {
   "cell_type": "markdown",
   "metadata": {},
   "source": [
    "Create a table showing each variable''s missing ratio and unique value"
   ]
  },
  {
   "cell_type": "code",
   "execution_count": 13,
   "metadata": {},
   "outputs": [
    {
     "name": "stderr",
     "output_type": "stream",
     "text": [
      "C:\\Users\\Yilun\\Anaconda3\\lib\\site-packages\\ipykernel_launcher.py:19: FutureWarning: Sorting because non-concatenation axis is not aligned. A future version\n",
      "of pandas will change to not sort by default.\n",
      "\n",
      "To accept the future behavior, pass 'sort=False'.\n",
      "\n",
      "To retain the current behavior and silence the warning, pass 'sort=True'.\n",
      "\n"
     ]
    }
   ],
   "source": [
    "#unique check\n",
    "\n",
    "unique=pd.DataFrame(comb.groupby('Tag').nunique())\n",
    "unique_dfT=unique.T\n",
    "unique_dfT['Overall_Unique']=comb.nunique()\n",
    "unique_dfT.columns=['0_unique','1_unique','Overall_Unique']\n",
    "\n",
    "#null check\n",
    "def null_check(x):\n",
    "    return sum(x.isnull())\n",
    "\n",
    "nulldf=comb.groupby('Tag').agg(null_check) \n",
    "nulldfT=nulldf.T\n",
    "\n",
    "nulldfT.rename(columns={0: \"0_Null\", 1: \"1_Null\"},inplace=True)\n",
    "nulldfT['Overall_Null_Ratio']    =nulldfT.apply(lambda x:sum(x[:2]),axis=1)/400000\n",
    "nulldfT['0_Null_Ratio']    =nulldfT['0_Null']/200000\n",
    "nulldfT['1_Null_Ratio']    =nulldfT['1_Null']/200000 \n",
    "dfinfo=pd.concat([nulldfT,unique_dfT],axis=1) \n",
    "\n",
    "dfinfo.shape\n",
    "\n",
    "pd.set_option('max_colwidth', 100)\n",
    "pd.set_option('display.max_rows', 500)\n",
    "dfinfo"
   ]
  },
  {
   "cell_type": "code",
   "execution_count": 23,
   "metadata": {
    "scrolled": true
   },
   "outputs": [
    {
     "data": {
      "text/html": [
       "<div>\n",
       "<style scoped>\n",
       "    .dataframe tbody tr th:only-of-type {\n",
       "        vertical-align: middle;\n",
       "    }\n",
       "\n",
       "    .dataframe tbody tr th {\n",
       "        vertical-align: top;\n",
       "    }\n",
       "\n",
       "    .dataframe thead th {\n",
       "        text-align: right;\n",
       "    }\n",
       "</style>\n",
       "<table border=\"1\" class=\"dataframe\">\n",
       "  <thead>\n",
       "    <tr style=\"text-align: right;\">\n",
       "      <th></th>\n",
       "      <th>0_Null</th>\n",
       "      <th>1_Null</th>\n",
       "      <th>Overall_Null_Ratio</th>\n",
       "      <th>0_Null_Ratio</th>\n",
       "      <th>1_Null_Ratio</th>\n",
       "      <th>0_unique</th>\n",
       "      <th>1_unique</th>\n",
       "      <th>Overall_Unique</th>\n",
       "    </tr>\n",
       "  </thead>\n",
       "  <tbody>\n",
       "    <tr>\n",
       "      <th>Applicable_Manufacturer_or_Applicable_GPO_Making_Payment_Country</th>\n",
       "      <td>0.0</td>\n",
       "      <td>0.0</td>\n",
       "      <td>0.000000</td>\n",
       "      <td>0.000000</td>\n",
       "      <td>0.000000</td>\n",
       "      <td>20</td>\n",
       "      <td>18</td>\n",
       "      <td>24</td>\n",
       "    </tr>\n",
       "    <tr>\n",
       "      <th>Applicable_Manufacturer_or_Applicable_GPO_Making_Payment_ID</th>\n",
       "      <td>0.0</td>\n",
       "      <td>0.0</td>\n",
       "      <td>0.000000</td>\n",
       "      <td>0.000000</td>\n",
       "      <td>0.000000</td>\n",
       "      <td>1009</td>\n",
       "      <td>562</td>\n",
       "      <td>1126</td>\n",
       "    </tr>\n",
       "    <tr>\n",
       "      <th>Applicable_Manufacturer_or_Applicable_GPO_Making_Payment_Name</th>\n",
       "      <td>0.0</td>\n",
       "      <td>0.0</td>\n",
       "      <td>0.000000</td>\n",
       "      <td>0.000000</td>\n",
       "      <td>0.000000</td>\n",
       "      <td>1022</td>\n",
       "      <td>569</td>\n",
       "      <td>1155</td>\n",
       "    </tr>\n",
       "    <tr>\n",
       "      <th>Applicable_Manufacturer_or_Applicable_GPO_Making_Payment_State</th>\n",
       "      <td>1738.0</td>\n",
       "      <td>19704.0</td>\n",
       "      <td>0.053605</td>\n",
       "      <td>0.008690</td>\n",
       "      <td>0.098520</td>\n",
       "      <td>42</td>\n",
       "      <td>35</td>\n",
       "      <td>44</td>\n",
       "    </tr>\n",
       "    <tr>\n",
       "      <th>Associated_Drug_or_Biological_NDC_1</th>\n",
       "      <td>53897.0</td>\n",
       "      <td>102822.0</td>\n",
       "      <td>0.391798</td>\n",
       "      <td>0.269485</td>\n",
       "      <td>0.514110</td>\n",
       "      <td>925</td>\n",
       "      <td>658</td>\n",
       "      <td>1111</td>\n",
       "    </tr>\n",
       "    <tr>\n",
       "      <th>Associated_Drug_or_Biological_NDC_2</th>\n",
       "      <td>161457.0</td>\n",
       "      <td>196124.0</td>\n",
       "      <td>0.893953</td>\n",
       "      <td>0.807285</td>\n",
       "      <td>0.980620</td>\n",
       "      <td>400</td>\n",
       "      <td>35</td>\n",
       "      <td>415</td>\n",
       "    </tr>\n",
       "    <tr>\n",
       "      <th>Associated_Drug_or_Biological_NDC_3</th>\n",
       "      <td>186352.0</td>\n",
       "      <td>199578.0</td>\n",
       "      <td>0.964825</td>\n",
       "      <td>0.931760</td>\n",
       "      <td>0.997890</td>\n",
       "      <td>258</td>\n",
       "      <td>14</td>\n",
       "      <td>268</td>\n",
       "    </tr>\n",
       "    <tr>\n",
       "      <th>Associated_Drug_or_Biological_NDC_4</th>\n",
       "      <td>196669.0</td>\n",
       "      <td>199902.0</td>\n",
       "      <td>0.991428</td>\n",
       "      <td>0.983345</td>\n",
       "      <td>0.999510</td>\n",
       "      <td>132</td>\n",
       "      <td>6</td>\n",
       "      <td>136</td>\n",
       "    </tr>\n",
       "    <tr>\n",
       "      <th>Associated_Drug_or_Biological_NDC_5</th>\n",
       "      <td>199511.0</td>\n",
       "      <td>199949.0</td>\n",
       "      <td>0.998650</td>\n",
       "      <td>0.997555</td>\n",
       "      <td>0.999745</td>\n",
       "      <td>46</td>\n",
       "      <td>4</td>\n",
       "      <td>50</td>\n",
       "    </tr>\n",
       "    <tr>\n",
       "      <th>Change_Type</th>\n",
       "      <td>0.0</td>\n",
       "      <td>0.0</td>\n",
       "      <td>0.000000</td>\n",
       "      <td>0.000000</td>\n",
       "      <td>0.000000</td>\n",
       "      <td>4</td>\n",
       "      <td>4</td>\n",
       "      <td>4</td>\n",
       "    </tr>\n",
       "    <tr>\n",
       "      <th>Covered_Recipient_Type</th>\n",
       "      <td>0.0</td>\n",
       "      <td>0.0</td>\n",
       "      <td>0.000000</td>\n",
       "      <td>0.000000</td>\n",
       "      <td>0.000000</td>\n",
       "      <td>2</td>\n",
       "      <td>4</td>\n",
       "      <td>4</td>\n",
       "    </tr>\n",
       "    <tr>\n",
       "      <th>Covered_or_Noncovered_Indicator_1</th>\n",
       "      <td>9414.0</td>\n",
       "      <td>26005.0</td>\n",
       "      <td>0.088548</td>\n",
       "      <td>0.047070</td>\n",
       "      <td>0.130025</td>\n",
       "      <td>2</td>\n",
       "      <td>2</td>\n",
       "      <td>2</td>\n",
       "    </tr>\n",
       "    <tr>\n",
       "      <th>Covered_or_Noncovered_Indicator_2</th>\n",
       "      <td>155646.0</td>\n",
       "      <td>188880.0</td>\n",
       "      <td>0.861315</td>\n",
       "      <td>0.778230</td>\n",
       "      <td>0.944400</td>\n",
       "      <td>2</td>\n",
       "      <td>2</td>\n",
       "      <td>2</td>\n",
       "    </tr>\n",
       "    <tr>\n",
       "      <th>Covered_or_Noncovered_Indicator_3</th>\n",
       "      <td>183198.0</td>\n",
       "      <td>198320.0</td>\n",
       "      <td>0.953795</td>\n",
       "      <td>0.915990</td>\n",
       "      <td>0.991600</td>\n",
       "      <td>2</td>\n",
       "      <td>2</td>\n",
       "      <td>2</td>\n",
       "    </tr>\n",
       "    <tr>\n",
       "      <th>Covered_or_Noncovered_Indicator_4</th>\n",
       "      <td>195285.0</td>\n",
       "      <td>199324.0</td>\n",
       "      <td>0.986522</td>\n",
       "      <td>0.976425</td>\n",
       "      <td>0.996620</td>\n",
       "      <td>2</td>\n",
       "      <td>2</td>\n",
       "      <td>2</td>\n",
       "    </tr>\n",
       "    <tr>\n",
       "      <th>Covered_or_Noncovered_Indicator_5</th>\n",
       "      <td>198651.0</td>\n",
       "      <td>199473.0</td>\n",
       "      <td>0.995310</td>\n",
       "      <td>0.993255</td>\n",
       "      <td>0.997365</td>\n",
       "      <td>2</td>\n",
       "      <td>2</td>\n",
       "      <td>2</td>\n",
       "    </tr>\n",
       "    <tr>\n",
       "      <th>Date_of_Payment</th>\n",
       "      <td>0.0</td>\n",
       "      <td>0.0</td>\n",
       "      <td>0.000000</td>\n",
       "      <td>0.000000</td>\n",
       "      <td>0.000000</td>\n",
       "      <td>365</td>\n",
       "      <td>364</td>\n",
       "      <td>365</td>\n",
       "    </tr>\n",
       "    <tr>\n",
       "      <th>Delay_in_Publication_Indicator</th>\n",
       "      <td>0.0</td>\n",
       "      <td>0.0</td>\n",
       "      <td>0.000000</td>\n",
       "      <td>0.000000</td>\n",
       "      <td>0.000000</td>\n",
       "      <td>1</td>\n",
       "      <td>1</td>\n",
       "      <td>1</td>\n",
       "    </tr>\n",
       "    <tr>\n",
       "      <th>Dispute_Status_for_Publication</th>\n",
       "      <td>0.0</td>\n",
       "      <td>0.0</td>\n",
       "      <td>0.000000</td>\n",
       "      <td>0.000000</td>\n",
       "      <td>0.000000</td>\n",
       "      <td>2</td>\n",
       "      <td>2</td>\n",
       "      <td>2</td>\n",
       "    </tr>\n",
       "    <tr>\n",
       "      <th>Form_of_Payment_or_Transfer_of_Value</th>\n",
       "      <td>0.0</td>\n",
       "      <td>0.0</td>\n",
       "      <td>0.000000</td>\n",
       "      <td>0.000000</td>\n",
       "      <td>0.000000</td>\n",
       "      <td>5</td>\n",
       "      <td>2</td>\n",
       "      <td>5</td>\n",
       "    </tr>\n",
       "    <tr>\n",
       "      <th>Indicate_Drug_or_Biological_or_Device_or_Medical_Supply_1</th>\n",
       "      <td>13464.0</td>\n",
       "      <td>58780.0</td>\n",
       "      <td>0.180610</td>\n",
       "      <td>0.067320</td>\n",
       "      <td>0.293900</td>\n",
       "      <td>4</td>\n",
       "      <td>4</td>\n",
       "      <td>4</td>\n",
       "    </tr>\n",
       "    <tr>\n",
       "      <th>Indicate_Drug_or_Biological_or_Device_or_Medical_Supply_2</th>\n",
       "      <td>156493.0</td>\n",
       "      <td>190249.0</td>\n",
       "      <td>0.866855</td>\n",
       "      <td>0.782465</td>\n",
       "      <td>0.951245</td>\n",
       "      <td>4</td>\n",
       "      <td>4</td>\n",
       "      <td>4</td>\n",
       "    </tr>\n",
       "    <tr>\n",
       "      <th>Indicate_Drug_or_Biological_or_Device_or_Medical_Supply_3</th>\n",
       "      <td>183562.0</td>\n",
       "      <td>198321.0</td>\n",
       "      <td>0.954708</td>\n",
       "      <td>0.917810</td>\n",
       "      <td>0.991605</td>\n",
       "      <td>4</td>\n",
       "      <td>3</td>\n",
       "      <td>4</td>\n",
       "    </tr>\n",
       "    <tr>\n",
       "      <th>Indicate_Drug_or_Biological_or_Device_or_Medical_Supply_4</th>\n",
       "      <td>195356.0</td>\n",
       "      <td>199324.0</td>\n",
       "      <td>0.986700</td>\n",
       "      <td>0.976780</td>\n",
       "      <td>0.996620</td>\n",
       "      <td>4</td>\n",
       "      <td>4</td>\n",
       "      <td>4</td>\n",
       "    </tr>\n",
       "    <tr>\n",
       "      <th>Indicate_Drug_or_Biological_or_Device_or_Medical_Supply_5</th>\n",
       "      <td>198677.0</td>\n",
       "      <td>199473.0</td>\n",
       "      <td>0.995375</td>\n",
       "      <td>0.993385</td>\n",
       "      <td>0.997365</td>\n",
       "      <td>4</td>\n",
       "      <td>4</td>\n",
       "      <td>4</td>\n",
       "    </tr>\n",
       "    <tr>\n",
       "      <th>Name_of_Drug_or_Biological_or_Device_or_Medical_Supply_1</th>\n",
       "      <td>13942.0</td>\n",
       "      <td>59794.0</td>\n",
       "      <td>0.184340</td>\n",
       "      <td>0.069710</td>\n",
       "      <td>0.298970</td>\n",
       "      <td>4203</td>\n",
       "      <td>1821</td>\n",
       "      <td>5026</td>\n",
       "    </tr>\n",
       "    <tr>\n",
       "      <th>Name_of_Drug_or_Biological_or_Device_or_Medical_Supply_2</th>\n",
       "      <td>156473.0</td>\n",
       "      <td>190250.0</td>\n",
       "      <td>0.866807</td>\n",
       "      <td>0.782365</td>\n",
       "      <td>0.951250</td>\n",
       "      <td>1227</td>\n",
       "      <td>140</td>\n",
       "      <td>1306</td>\n",
       "    </tr>\n",
       "    <tr>\n",
       "      <th>Name_of_Drug_or_Biological_or_Device_or_Medical_Supply_3</th>\n",
       "      <td>183536.0</td>\n",
       "      <td>198321.0</td>\n",
       "      <td>0.954642</td>\n",
       "      <td>0.917680</td>\n",
       "      <td>0.991605</td>\n",
       "      <td>810</td>\n",
       "      <td>78</td>\n",
       "      <td>866</td>\n",
       "    </tr>\n",
       "    <tr>\n",
       "      <th>Name_of_Drug_or_Biological_or_Device_or_Medical_Supply_4</th>\n",
       "      <td>195328.0</td>\n",
       "      <td>199324.0</td>\n",
       "      <td>0.986630</td>\n",
       "      <td>0.976640</td>\n",
       "      <td>0.996620</td>\n",
       "      <td>408</td>\n",
       "      <td>41</td>\n",
       "      <td>439</td>\n",
       "    </tr>\n",
       "    <tr>\n",
       "      <th>Name_of_Drug_or_Biological_or_Device_or_Medical_Supply_5</th>\n",
       "      <td>198667.0</td>\n",
       "      <td>199473.0</td>\n",
       "      <td>0.995350</td>\n",
       "      <td>0.993335</td>\n",
       "      <td>0.997365</td>\n",
       "      <td>167</td>\n",
       "      <td>28</td>\n",
       "      <td>186</td>\n",
       "    </tr>\n",
       "    <tr>\n",
       "      <th>Payment_Publication_Date</th>\n",
       "      <td>0.0</td>\n",
       "      <td>0.0</td>\n",
       "      <td>0.000000</td>\n",
       "      <td>0.000000</td>\n",
       "      <td>0.000000</td>\n",
       "      <td>1</td>\n",
       "      <td>1</td>\n",
       "      <td>1</td>\n",
       "    </tr>\n",
       "    <tr>\n",
       "      <th>Physician_First_Name</th>\n",
       "      <td>765.0</td>\n",
       "      <td>191181.0</td>\n",
       "      <td>0.479865</td>\n",
       "      <td>0.003825</td>\n",
       "      <td>0.955905</td>\n",
       "      <td>19982</td>\n",
       "      <td>1493</td>\n",
       "      <td>20205</td>\n",
       "    </tr>\n",
       "    <tr>\n",
       "      <th>Physician_Last_Name</th>\n",
       "      <td>772.0</td>\n",
       "      <td>191181.0</td>\n",
       "      <td>0.479882</td>\n",
       "      <td>0.003860</td>\n",
       "      <td>0.955905</td>\n",
       "      <td>57823</td>\n",
       "      <td>3053</td>\n",
       "      <td>58721</td>\n",
       "    </tr>\n",
       "    <tr>\n",
       "      <th>Physician_License_State_code1</th>\n",
       "      <td>767.0</td>\n",
       "      <td>191181.0</td>\n",
       "      <td>0.479870</td>\n",
       "      <td>0.003835</td>\n",
       "      <td>0.955905</td>\n",
       "      <td>55</td>\n",
       "      <td>51</td>\n",
       "      <td>55</td>\n",
       "    </tr>\n",
       "    <tr>\n",
       "      <th>Physician_License_State_code2</th>\n",
       "      <td>196007.0</td>\n",
       "      <td>199739.0</td>\n",
       "      <td>0.989365</td>\n",
       "      <td>0.980035</td>\n",
       "      <td>0.998695</td>\n",
       "      <td>51</td>\n",
       "      <td>31</td>\n",
       "      <td>51</td>\n",
       "    </tr>\n",
       "    <tr>\n",
       "      <th>Physician_License_State_code3</th>\n",
       "      <td>199091.0</td>\n",
       "      <td>199926.0</td>\n",
       "      <td>0.997542</td>\n",
       "      <td>0.995455</td>\n",
       "      <td>0.999630</td>\n",
       "      <td>47</td>\n",
       "      <td>15</td>\n",
       "      <td>47</td>\n",
       "    </tr>\n",
       "    <tr>\n",
       "      <th>Physician_License_State_code4</th>\n",
       "      <td>199847.0</td>\n",
       "      <td>199985.0</td>\n",
       "      <td>0.999580</td>\n",
       "      <td>0.999235</td>\n",
       "      <td>0.999925</td>\n",
       "      <td>29</td>\n",
       "      <td>6</td>\n",
       "      <td>29</td>\n",
       "    </tr>\n",
       "    <tr>\n",
       "      <th>Physician_License_State_code5</th>\n",
       "      <td>199971.0</td>\n",
       "      <td>199999.0</td>\n",
       "      <td>0.999925</td>\n",
       "      <td>0.999855</td>\n",
       "      <td>0.999995</td>\n",
       "      <td>15</td>\n",
       "      <td>0</td>\n",
       "      <td>15</td>\n",
       "    </tr>\n",
       "    <tr>\n",
       "      <th>Physician_Middle_Name</th>\n",
       "      <td>82333.0</td>\n",
       "      <td>194099.0</td>\n",
       "      <td>0.691080</td>\n",
       "      <td>0.411665</td>\n",
       "      <td>0.970495</td>\n",
       "      <td>8659</td>\n",
       "      <td>470</td>\n",
       "      <td>8764</td>\n",
       "    </tr>\n",
       "    <tr>\n",
       "      <th>Physician_Name_Suffix</th>\n",
       "      <td>194740.0</td>\n",
       "      <td>199743.0</td>\n",
       "      <td>0.986208</td>\n",
       "      <td>0.973700</td>\n",
       "      <td>0.998715</td>\n",
       "      <td>34</td>\n",
       "      <td>13</td>\n",
       "      <td>35</td>\n",
       "    </tr>\n",
       "    <tr>\n",
       "      <th>Physician_Primary_Type</th>\n",
       "      <td>765.0</td>\n",
       "      <td>191181.0</td>\n",
       "      <td>0.479865</td>\n",
       "      <td>0.003825</td>\n",
       "      <td>0.955905</td>\n",
       "      <td>6</td>\n",
       "      <td>5</td>\n",
       "      <td>6</td>\n",
       "    </tr>\n",
       "    <tr>\n",
       "      <th>Physician_Profile_ID</th>\n",
       "      <td>765.0</td>\n",
       "      <td>191181.0</td>\n",
       "      <td>0.479865</td>\n",
       "      <td>0.003825</td>\n",
       "      <td>0.955905</td>\n",
       "      <td>117471</td>\n",
       "      <td>3580</td>\n",
       "      <td>119547</td>\n",
       "    </tr>\n",
       "    <tr>\n",
       "      <th>Physician_Specialty</th>\n",
       "      <td>1033.0</td>\n",
       "      <td>191183.0</td>\n",
       "      <td>0.480540</td>\n",
       "      <td>0.005165</td>\n",
       "      <td>0.955915</td>\n",
       "      <td>300</td>\n",
       "      <td>156</td>\n",
       "      <td>303</td>\n",
       "    </tr>\n",
       "    <tr>\n",
       "      <th>Product_Category_or_Therapeutic_Area_1</th>\n",
       "      <td>14056.0</td>\n",
       "      <td>68480.0</td>\n",
       "      <td>0.206340</td>\n",
       "      <td>0.070280</td>\n",
       "      <td>0.342400</td>\n",
       "      <td>1085</td>\n",
       "      <td>623</td>\n",
       "      <td>1233</td>\n",
       "    </tr>\n",
       "    <tr>\n",
       "      <th>Product_Category_or_Therapeutic_Area_2</th>\n",
       "      <td>156576.0</td>\n",
       "      <td>190251.0</td>\n",
       "      <td>0.867067</td>\n",
       "      <td>0.782880</td>\n",
       "      <td>0.951255</td>\n",
       "      <td>363</td>\n",
       "      <td>78</td>\n",
       "      <td>390</td>\n",
       "    </tr>\n",
       "    <tr>\n",
       "      <th>Product_Category_or_Therapeutic_Area_3</th>\n",
       "      <td>183637.0</td>\n",
       "      <td>198321.0</td>\n",
       "      <td>0.954895</td>\n",
       "      <td>0.918185</td>\n",
       "      <td>0.991605</td>\n",
       "      <td>274</td>\n",
       "      <td>46</td>\n",
       "      <td>295</td>\n",
       "    </tr>\n",
       "    <tr>\n",
       "      <th>Product_Category_or_Therapeutic_Area_4</th>\n",
       "      <td>195404.0</td>\n",
       "      <td>199324.0</td>\n",
       "      <td>0.986820</td>\n",
       "      <td>0.977020</td>\n",
       "      <td>0.996620</td>\n",
       "      <td>178</td>\n",
       "      <td>25</td>\n",
       "      <td>190</td>\n",
       "    </tr>\n",
       "    <tr>\n",
       "      <th>Product_Category_or_Therapeutic_Area_5</th>\n",
       "      <td>198718.0</td>\n",
       "      <td>199473.0</td>\n",
       "      <td>0.995478</td>\n",
       "      <td>0.993590</td>\n",
       "      <td>0.997365</td>\n",
       "      <td>91</td>\n",
       "      <td>16</td>\n",
       "      <td>101</td>\n",
       "    </tr>\n",
       "    <tr>\n",
       "      <th>Program_Year</th>\n",
       "      <td>0.0</td>\n",
       "      <td>0.0</td>\n",
       "      <td>0.000000</td>\n",
       "      <td>0.000000</td>\n",
       "      <td>0.000000</td>\n",
       "      <td>1</td>\n",
       "      <td>1</td>\n",
       "      <td>1</td>\n",
       "    </tr>\n",
       "    <tr>\n",
       "      <th>Recipient_City</th>\n",
       "      <td>1.0</td>\n",
       "      <td>196.0</td>\n",
       "      <td>0.000492</td>\n",
       "      <td>0.000005</td>\n",
       "      <td>0.000980</td>\n",
       "      <td>9383</td>\n",
       "      <td>3691</td>\n",
       "      <td>9931</td>\n",
       "    </tr>\n",
       "    <tr>\n",
       "      <th>Recipient_Country</th>\n",
       "      <td>0.0</td>\n",
       "      <td>196.0</td>\n",
       "      <td>0.000490</td>\n",
       "      <td>0.000000</td>\n",
       "      <td>0.000980</td>\n",
       "      <td>4</td>\n",
       "      <td>8</td>\n",
       "      <td>9</td>\n",
       "    </tr>\n",
       "    <tr>\n",
       "      <th>Recipient_Postal_Code</th>\n",
       "      <td>199994.0</td>\n",
       "      <td>199825.0</td>\n",
       "      <td>0.999548</td>\n",
       "      <td>0.999970</td>\n",
       "      <td>0.999125</td>\n",
       "      <td>5</td>\n",
       "      <td>20</td>\n",
       "      <td>25</td>\n",
       "    </tr>\n",
       "    <tr>\n",
       "      <th>Recipient_Primary_Business_Street_Address_Line1</th>\n",
       "      <td>0.0</td>\n",
       "      <td>196.0</td>\n",
       "      <td>0.000490</td>\n",
       "      <td>0.000000</td>\n",
       "      <td>0.000980</td>\n",
       "      <td>93345</td>\n",
       "      <td>27333</td>\n",
       "      <td>114326</td>\n",
       "    </tr>\n",
       "    <tr>\n",
       "      <th>Recipient_Primary_Business_Street_Address_Line2</th>\n",
       "      <td>128304.0</td>\n",
       "      <td>146114.0</td>\n",
       "      <td>0.686045</td>\n",
       "      <td>0.641520</td>\n",
       "      <td>0.730570</td>\n",
       "      <td>13225</td>\n",
       "      <td>5912</td>\n",
       "      <td>17576</td>\n",
       "    </tr>\n",
       "    <tr>\n",
       "      <th>Recipient_Province</th>\n",
       "      <td>199994.0</td>\n",
       "      <td>199885.0</td>\n",
       "      <td>0.999698</td>\n",
       "      <td>0.999970</td>\n",
       "      <td>0.999425</td>\n",
       "      <td>5</td>\n",
       "      <td>9</td>\n",
       "      <td>14</td>\n",
       "    </tr>\n",
       "    <tr>\n",
       "      <th>Recipient_State</th>\n",
       "      <td>5.0</td>\n",
       "      <td>370.0</td>\n",
       "      <td>0.000937</td>\n",
       "      <td>0.000025</td>\n",
       "      <td>0.001850</td>\n",
       "      <td>57</td>\n",
       "      <td>54</td>\n",
       "      <td>57</td>\n",
       "    </tr>\n",
       "    <tr>\n",
       "      <th>Recipient_Zip_Code</th>\n",
       "      <td>5.0</td>\n",
       "      <td>370.0</td>\n",
       "      <td>0.000937</td>\n",
       "      <td>0.000025</td>\n",
       "      <td>0.001850</td>\n",
       "      <td>51021</td>\n",
       "      <td>9824</td>\n",
       "      <td>54811</td>\n",
       "    </tr>\n",
       "    <tr>\n",
       "      <th>Record_ID</th>\n",
       "      <td>0.0</td>\n",
       "      <td>0.0</td>\n",
       "      <td>0.000000</td>\n",
       "      <td>0.000000</td>\n",
       "      <td>0.000000</td>\n",
       "      <td>199999</td>\n",
       "      <td>199999</td>\n",
       "      <td>399998</td>\n",
       "    </tr>\n",
       "    <tr>\n",
       "      <th>Related_Product_Indicator</th>\n",
       "      <td>0.0</td>\n",
       "      <td>0.0</td>\n",
       "      <td>0.000000</td>\n",
       "      <td>0.000000</td>\n",
       "      <td>0.000000</td>\n",
       "      <td>2</td>\n",
       "      <td>2</td>\n",
       "      <td>2</td>\n",
       "    </tr>\n",
       "    <tr>\n",
       "      <th>Submitting_Applicable_Manufacturer_or_Applicable_GPO_Name</th>\n",
       "      <td>0.0</td>\n",
       "      <td>0.0</td>\n",
       "      <td>0.000000</td>\n",
       "      <td>0.000000</td>\n",
       "      <td>0.000000</td>\n",
       "      <td>915</td>\n",
       "      <td>498</td>\n",
       "      <td>1016</td>\n",
       "    </tr>\n",
       "    <tr>\n",
       "      <th>Tag</th>\n",
       "      <td>NaN</td>\n",
       "      <td>NaN</td>\n",
       "      <td>NaN</td>\n",
       "      <td>NaN</td>\n",
       "      <td>NaN</td>\n",
       "      <td>1</td>\n",
       "      <td>1</td>\n",
       "      <td>2</td>\n",
       "    </tr>\n",
       "    <tr>\n",
       "      <th>Teaching_Hospital_CCN</th>\n",
       "      <td>199234.0</td>\n",
       "      <td>168058.0</td>\n",
       "      <td>0.918230</td>\n",
       "      <td>0.996170</td>\n",
       "      <td>0.840290</td>\n",
       "      <td>372</td>\n",
       "      <td>634</td>\n",
       "      <td>721</td>\n",
       "    </tr>\n",
       "    <tr>\n",
       "      <th>Teaching_Hospital_ID</th>\n",
       "      <td>199234.0</td>\n",
       "      <td>168058.0</td>\n",
       "      <td>0.918230</td>\n",
       "      <td>0.996170</td>\n",
       "      <td>0.840290</td>\n",
       "      <td>372</td>\n",
       "      <td>634</td>\n",
       "      <td>721</td>\n",
       "    </tr>\n",
       "    <tr>\n",
       "      <th>Teaching_Hospital_Name</th>\n",
       "      <td>199234.0</td>\n",
       "      <td>168058.0</td>\n",
       "      <td>0.918230</td>\n",
       "      <td>0.996170</td>\n",
       "      <td>0.840290</td>\n",
       "      <td>383</td>\n",
       "      <td>862</td>\n",
       "      <td>959</td>\n",
       "    </tr>\n",
       "    <tr>\n",
       "      <th>Total_Amount_of_Payment_USDollars</th>\n",
       "      <td>0.0</td>\n",
       "      <td>0.0</td>\n",
       "      <td>0.000000</td>\n",
       "      <td>0.000000</td>\n",
       "      <td>0.000000</td>\n",
       "      <td>19894</td>\n",
       "      <td>62898</td>\n",
       "      <td>74533</td>\n",
       "    </tr>\n",
       "  </tbody>\n",
       "</table>\n",
       "</div>"
      ],
      "text/plain": [
       "                                                                    0_Null  \\\n",
       "Applicable_Manufacturer_or_Applicable_GPO_Making_Payment_Country       0.0   \n",
       "Applicable_Manufacturer_or_Applicable_GPO_Making_Payment_ID            0.0   \n",
       "Applicable_Manufacturer_or_Applicable_GPO_Making_Payment_Name          0.0   \n",
       "Applicable_Manufacturer_or_Applicable_GPO_Making_Payment_State      1738.0   \n",
       "Associated_Drug_or_Biological_NDC_1                                53897.0   \n",
       "Associated_Drug_or_Biological_NDC_2                               161457.0   \n",
       "Associated_Drug_or_Biological_NDC_3                               186352.0   \n",
       "Associated_Drug_or_Biological_NDC_4                               196669.0   \n",
       "Associated_Drug_or_Biological_NDC_5                               199511.0   \n",
       "Change_Type                                                            0.0   \n",
       "Covered_Recipient_Type                                                 0.0   \n",
       "Covered_or_Noncovered_Indicator_1                                   9414.0   \n",
       "Covered_or_Noncovered_Indicator_2                                 155646.0   \n",
       "Covered_or_Noncovered_Indicator_3                                 183198.0   \n",
       "Covered_or_Noncovered_Indicator_4                                 195285.0   \n",
       "Covered_or_Noncovered_Indicator_5                                 198651.0   \n",
       "Date_of_Payment                                                        0.0   \n",
       "Delay_in_Publication_Indicator                                         0.0   \n",
       "Dispute_Status_for_Publication                                         0.0   \n",
       "Form_of_Payment_or_Transfer_of_Value                                   0.0   \n",
       "Indicate_Drug_or_Biological_or_Device_or_Medical_Supply_1          13464.0   \n",
       "Indicate_Drug_or_Biological_or_Device_or_Medical_Supply_2         156493.0   \n",
       "Indicate_Drug_or_Biological_or_Device_or_Medical_Supply_3         183562.0   \n",
       "Indicate_Drug_or_Biological_or_Device_or_Medical_Supply_4         195356.0   \n",
       "Indicate_Drug_or_Biological_or_Device_or_Medical_Supply_5         198677.0   \n",
       "Name_of_Drug_or_Biological_or_Device_or_Medical_Supply_1           13942.0   \n",
       "Name_of_Drug_or_Biological_or_Device_or_Medical_Supply_2          156473.0   \n",
       "Name_of_Drug_or_Biological_or_Device_or_Medical_Supply_3          183536.0   \n",
       "Name_of_Drug_or_Biological_or_Device_or_Medical_Supply_4          195328.0   \n",
       "Name_of_Drug_or_Biological_or_Device_or_Medical_Supply_5          198667.0   \n",
       "Payment_Publication_Date                                               0.0   \n",
       "Physician_First_Name                                                 765.0   \n",
       "Physician_Last_Name                                                  772.0   \n",
       "Physician_License_State_code1                                        767.0   \n",
       "Physician_License_State_code2                                     196007.0   \n",
       "Physician_License_State_code3                                     199091.0   \n",
       "Physician_License_State_code4                                     199847.0   \n",
       "Physician_License_State_code5                                     199971.0   \n",
       "Physician_Middle_Name                                              82333.0   \n",
       "Physician_Name_Suffix                                             194740.0   \n",
       "Physician_Primary_Type                                               765.0   \n",
       "Physician_Profile_ID                                                 765.0   \n",
       "Physician_Specialty                                                 1033.0   \n",
       "Product_Category_or_Therapeutic_Area_1                             14056.0   \n",
       "Product_Category_or_Therapeutic_Area_2                            156576.0   \n",
       "Product_Category_or_Therapeutic_Area_3                            183637.0   \n",
       "Product_Category_or_Therapeutic_Area_4                            195404.0   \n",
       "Product_Category_or_Therapeutic_Area_5                            198718.0   \n",
       "Program_Year                                                           0.0   \n",
       "Recipient_City                                                         1.0   \n",
       "Recipient_Country                                                      0.0   \n",
       "Recipient_Postal_Code                                             199994.0   \n",
       "Recipient_Primary_Business_Street_Address_Line1                        0.0   \n",
       "Recipient_Primary_Business_Street_Address_Line2                   128304.0   \n",
       "Recipient_Province                                                199994.0   \n",
       "Recipient_State                                                        5.0   \n",
       "Recipient_Zip_Code                                                     5.0   \n",
       "Record_ID                                                              0.0   \n",
       "Related_Product_Indicator                                              0.0   \n",
       "Submitting_Applicable_Manufacturer_or_Applicable_GPO_Name              0.0   \n",
       "Tag                                                                    NaN   \n",
       "Teaching_Hospital_CCN                                             199234.0   \n",
       "Teaching_Hospital_ID                                              199234.0   \n",
       "Teaching_Hospital_Name                                            199234.0   \n",
       "Total_Amount_of_Payment_USDollars                                      0.0   \n",
       "\n",
       "                                                                    1_Null  \\\n",
       "Applicable_Manufacturer_or_Applicable_GPO_Making_Payment_Country       0.0   \n",
       "Applicable_Manufacturer_or_Applicable_GPO_Making_Payment_ID            0.0   \n",
       "Applicable_Manufacturer_or_Applicable_GPO_Making_Payment_Name          0.0   \n",
       "Applicable_Manufacturer_or_Applicable_GPO_Making_Payment_State     19704.0   \n",
       "Associated_Drug_or_Biological_NDC_1                               102822.0   \n",
       "Associated_Drug_or_Biological_NDC_2                               196124.0   \n",
       "Associated_Drug_or_Biological_NDC_3                               199578.0   \n",
       "Associated_Drug_or_Biological_NDC_4                               199902.0   \n",
       "Associated_Drug_or_Biological_NDC_5                               199949.0   \n",
       "Change_Type                                                            0.0   \n",
       "Covered_Recipient_Type                                                 0.0   \n",
       "Covered_or_Noncovered_Indicator_1                                  26005.0   \n",
       "Covered_or_Noncovered_Indicator_2                                 188880.0   \n",
       "Covered_or_Noncovered_Indicator_3                                 198320.0   \n",
       "Covered_or_Noncovered_Indicator_4                                 199324.0   \n",
       "Covered_or_Noncovered_Indicator_5                                 199473.0   \n",
       "Date_of_Payment                                                        0.0   \n",
       "Delay_in_Publication_Indicator                                         0.0   \n",
       "Dispute_Status_for_Publication                                         0.0   \n",
       "Form_of_Payment_or_Transfer_of_Value                                   0.0   \n",
       "Indicate_Drug_or_Biological_or_Device_or_Medical_Supply_1          58780.0   \n",
       "Indicate_Drug_or_Biological_or_Device_or_Medical_Supply_2         190249.0   \n",
       "Indicate_Drug_or_Biological_or_Device_or_Medical_Supply_3         198321.0   \n",
       "Indicate_Drug_or_Biological_or_Device_or_Medical_Supply_4         199324.0   \n",
       "Indicate_Drug_or_Biological_or_Device_or_Medical_Supply_5         199473.0   \n",
       "Name_of_Drug_or_Biological_or_Device_or_Medical_Supply_1           59794.0   \n",
       "Name_of_Drug_or_Biological_or_Device_or_Medical_Supply_2          190250.0   \n",
       "Name_of_Drug_or_Biological_or_Device_or_Medical_Supply_3          198321.0   \n",
       "Name_of_Drug_or_Biological_or_Device_or_Medical_Supply_4          199324.0   \n",
       "Name_of_Drug_or_Biological_or_Device_or_Medical_Supply_5          199473.0   \n",
       "Payment_Publication_Date                                               0.0   \n",
       "Physician_First_Name                                              191181.0   \n",
       "Physician_Last_Name                                               191181.0   \n",
       "Physician_License_State_code1                                     191181.0   \n",
       "Physician_License_State_code2                                     199739.0   \n",
       "Physician_License_State_code3                                     199926.0   \n",
       "Physician_License_State_code4                                     199985.0   \n",
       "Physician_License_State_code5                                     199999.0   \n",
       "Physician_Middle_Name                                             194099.0   \n",
       "Physician_Name_Suffix                                             199743.0   \n",
       "Physician_Primary_Type                                            191181.0   \n",
       "Physician_Profile_ID                                              191181.0   \n",
       "Physician_Specialty                                               191183.0   \n",
       "Product_Category_or_Therapeutic_Area_1                             68480.0   \n",
       "Product_Category_or_Therapeutic_Area_2                            190251.0   \n",
       "Product_Category_or_Therapeutic_Area_3                            198321.0   \n",
       "Product_Category_or_Therapeutic_Area_4                            199324.0   \n",
       "Product_Category_or_Therapeutic_Area_5                            199473.0   \n",
       "Program_Year                                                           0.0   \n",
       "Recipient_City                                                       196.0   \n",
       "Recipient_Country                                                    196.0   \n",
       "Recipient_Postal_Code                                             199825.0   \n",
       "Recipient_Primary_Business_Street_Address_Line1                      196.0   \n",
       "Recipient_Primary_Business_Street_Address_Line2                   146114.0   \n",
       "Recipient_Province                                                199885.0   \n",
       "Recipient_State                                                      370.0   \n",
       "Recipient_Zip_Code                                                   370.0   \n",
       "Record_ID                                                              0.0   \n",
       "Related_Product_Indicator                                              0.0   \n",
       "Submitting_Applicable_Manufacturer_or_Applicable_GPO_Name              0.0   \n",
       "Tag                                                                    NaN   \n",
       "Teaching_Hospital_CCN                                             168058.0   \n",
       "Teaching_Hospital_ID                                              168058.0   \n",
       "Teaching_Hospital_Name                                            168058.0   \n",
       "Total_Amount_of_Payment_USDollars                                      0.0   \n",
       "\n",
       "                                                                  Overall_Null_Ratio  \\\n",
       "Applicable_Manufacturer_or_Applicable_GPO_Making_Payment_Country            0.000000   \n",
       "Applicable_Manufacturer_or_Applicable_GPO_Making_Payment_ID                 0.000000   \n",
       "Applicable_Manufacturer_or_Applicable_GPO_Making_Payment_Name               0.000000   \n",
       "Applicable_Manufacturer_or_Applicable_GPO_Making_Payment_State              0.053605   \n",
       "Associated_Drug_or_Biological_NDC_1                                         0.391798   \n",
       "Associated_Drug_or_Biological_NDC_2                                         0.893953   \n",
       "Associated_Drug_or_Biological_NDC_3                                         0.964825   \n",
       "Associated_Drug_or_Biological_NDC_4                                         0.991428   \n",
       "Associated_Drug_or_Biological_NDC_5                                         0.998650   \n",
       "Change_Type                                                                 0.000000   \n",
       "Covered_Recipient_Type                                                      0.000000   \n",
       "Covered_or_Noncovered_Indicator_1                                           0.088548   \n",
       "Covered_or_Noncovered_Indicator_2                                           0.861315   \n",
       "Covered_or_Noncovered_Indicator_3                                           0.953795   \n",
       "Covered_or_Noncovered_Indicator_4                                           0.986522   \n",
       "Covered_or_Noncovered_Indicator_5                                           0.995310   \n",
       "Date_of_Payment                                                             0.000000   \n",
       "Delay_in_Publication_Indicator                                              0.000000   \n",
       "Dispute_Status_for_Publication                                              0.000000   \n",
       "Form_of_Payment_or_Transfer_of_Value                                        0.000000   \n",
       "Indicate_Drug_or_Biological_or_Device_or_Medical_Supply_1                   0.180610   \n",
       "Indicate_Drug_or_Biological_or_Device_or_Medical_Supply_2                   0.866855   \n",
       "Indicate_Drug_or_Biological_or_Device_or_Medical_Supply_3                   0.954708   \n",
       "Indicate_Drug_or_Biological_or_Device_or_Medical_Supply_4                   0.986700   \n",
       "Indicate_Drug_or_Biological_or_Device_or_Medical_Supply_5                   0.995375   \n",
       "Name_of_Drug_or_Biological_or_Device_or_Medical_Supply_1                    0.184340   \n",
       "Name_of_Drug_or_Biological_or_Device_or_Medical_Supply_2                    0.866807   \n",
       "Name_of_Drug_or_Biological_or_Device_or_Medical_Supply_3                    0.954642   \n",
       "Name_of_Drug_or_Biological_or_Device_or_Medical_Supply_4                    0.986630   \n",
       "Name_of_Drug_or_Biological_or_Device_or_Medical_Supply_5                    0.995350   \n",
       "Payment_Publication_Date                                                    0.000000   \n",
       "Physician_First_Name                                                        0.479865   \n",
       "Physician_Last_Name                                                         0.479882   \n",
       "Physician_License_State_code1                                               0.479870   \n",
       "Physician_License_State_code2                                               0.989365   \n",
       "Physician_License_State_code3                                               0.997542   \n",
       "Physician_License_State_code4                                               0.999580   \n",
       "Physician_License_State_code5                                               0.999925   \n",
       "Physician_Middle_Name                                                       0.691080   \n",
       "Physician_Name_Suffix                                                       0.986208   \n",
       "Physician_Primary_Type                                                      0.479865   \n",
       "Physician_Profile_ID                                                        0.479865   \n",
       "Physician_Specialty                                                         0.480540   \n",
       "Product_Category_or_Therapeutic_Area_1                                      0.206340   \n",
       "Product_Category_or_Therapeutic_Area_2                                      0.867067   \n",
       "Product_Category_or_Therapeutic_Area_3                                      0.954895   \n",
       "Product_Category_or_Therapeutic_Area_4                                      0.986820   \n",
       "Product_Category_or_Therapeutic_Area_5                                      0.995478   \n",
       "Program_Year                                                                0.000000   \n",
       "Recipient_City                                                              0.000492   \n",
       "Recipient_Country                                                           0.000490   \n",
       "Recipient_Postal_Code                                                       0.999548   \n",
       "Recipient_Primary_Business_Street_Address_Line1                             0.000490   \n",
       "Recipient_Primary_Business_Street_Address_Line2                             0.686045   \n",
       "Recipient_Province                                                          0.999698   \n",
       "Recipient_State                                                             0.000937   \n",
       "Recipient_Zip_Code                                                          0.000937   \n",
       "Record_ID                                                                   0.000000   \n",
       "Related_Product_Indicator                                                   0.000000   \n",
       "Submitting_Applicable_Manufacturer_or_Applicable_GPO_Name                   0.000000   \n",
       "Tag                                                                              NaN   \n",
       "Teaching_Hospital_CCN                                                       0.918230   \n",
       "Teaching_Hospital_ID                                                        0.918230   \n",
       "Teaching_Hospital_Name                                                      0.918230   \n",
       "Total_Amount_of_Payment_USDollars                                           0.000000   \n",
       "\n",
       "                                                                  0_Null_Ratio  \\\n",
       "Applicable_Manufacturer_or_Applicable_GPO_Making_Payment_Country      0.000000   \n",
       "Applicable_Manufacturer_or_Applicable_GPO_Making_Payment_ID           0.000000   \n",
       "Applicable_Manufacturer_or_Applicable_GPO_Making_Payment_Name         0.000000   \n",
       "Applicable_Manufacturer_or_Applicable_GPO_Making_Payment_State        0.008690   \n",
       "Associated_Drug_or_Biological_NDC_1                                   0.269485   \n",
       "Associated_Drug_or_Biological_NDC_2                                   0.807285   \n",
       "Associated_Drug_or_Biological_NDC_3                                   0.931760   \n",
       "Associated_Drug_or_Biological_NDC_4                                   0.983345   \n",
       "Associated_Drug_or_Biological_NDC_5                                   0.997555   \n",
       "Change_Type                                                           0.000000   \n",
       "Covered_Recipient_Type                                                0.000000   \n",
       "Covered_or_Noncovered_Indicator_1                                     0.047070   \n",
       "Covered_or_Noncovered_Indicator_2                                     0.778230   \n",
       "Covered_or_Noncovered_Indicator_3                                     0.915990   \n",
       "Covered_or_Noncovered_Indicator_4                                     0.976425   \n",
       "Covered_or_Noncovered_Indicator_5                                     0.993255   \n",
       "Date_of_Payment                                                       0.000000   \n",
       "Delay_in_Publication_Indicator                                        0.000000   \n",
       "Dispute_Status_for_Publication                                        0.000000   \n",
       "Form_of_Payment_or_Transfer_of_Value                                  0.000000   \n",
       "Indicate_Drug_or_Biological_or_Device_or_Medical_Supply_1             0.067320   \n",
       "Indicate_Drug_or_Biological_or_Device_or_Medical_Supply_2             0.782465   \n",
       "Indicate_Drug_or_Biological_or_Device_or_Medical_Supply_3             0.917810   \n",
       "Indicate_Drug_or_Biological_or_Device_or_Medical_Supply_4             0.976780   \n",
       "Indicate_Drug_or_Biological_or_Device_or_Medical_Supply_5             0.993385   \n",
       "Name_of_Drug_or_Biological_or_Device_or_Medical_Supply_1              0.069710   \n",
       "Name_of_Drug_or_Biological_or_Device_or_Medical_Supply_2              0.782365   \n",
       "Name_of_Drug_or_Biological_or_Device_or_Medical_Supply_3              0.917680   \n",
       "Name_of_Drug_or_Biological_or_Device_or_Medical_Supply_4              0.976640   \n",
       "Name_of_Drug_or_Biological_or_Device_or_Medical_Supply_5              0.993335   \n",
       "Payment_Publication_Date                                              0.000000   \n",
       "Physician_First_Name                                                  0.003825   \n",
       "Physician_Last_Name                                                   0.003860   \n",
       "Physician_License_State_code1                                         0.003835   \n",
       "Physician_License_State_code2                                         0.980035   \n",
       "Physician_License_State_code3                                         0.995455   \n",
       "Physician_License_State_code4                                         0.999235   \n",
       "Physician_License_State_code5                                         0.999855   \n",
       "Physician_Middle_Name                                                 0.411665   \n",
       "Physician_Name_Suffix                                                 0.973700   \n",
       "Physician_Primary_Type                                                0.003825   \n",
       "Physician_Profile_ID                                                  0.003825   \n",
       "Physician_Specialty                                                   0.005165   \n",
       "Product_Category_or_Therapeutic_Area_1                                0.070280   \n",
       "Product_Category_or_Therapeutic_Area_2                                0.782880   \n",
       "Product_Category_or_Therapeutic_Area_3                                0.918185   \n",
       "Product_Category_or_Therapeutic_Area_4                                0.977020   \n",
       "Product_Category_or_Therapeutic_Area_5                                0.993590   \n",
       "Program_Year                                                          0.000000   \n",
       "Recipient_City                                                        0.000005   \n",
       "Recipient_Country                                                     0.000000   \n",
       "Recipient_Postal_Code                                                 0.999970   \n",
       "Recipient_Primary_Business_Street_Address_Line1                       0.000000   \n",
       "Recipient_Primary_Business_Street_Address_Line2                       0.641520   \n",
       "Recipient_Province                                                    0.999970   \n",
       "Recipient_State                                                       0.000025   \n",
       "Recipient_Zip_Code                                                    0.000025   \n",
       "Record_ID                                                             0.000000   \n",
       "Related_Product_Indicator                                             0.000000   \n",
       "Submitting_Applicable_Manufacturer_or_Applicable_GPO_Name             0.000000   \n",
       "Tag                                                                        NaN   \n",
       "Teaching_Hospital_CCN                                                 0.996170   \n",
       "Teaching_Hospital_ID                                                  0.996170   \n",
       "Teaching_Hospital_Name                                                0.996170   \n",
       "Total_Amount_of_Payment_USDollars                                     0.000000   \n",
       "\n",
       "                                                                  1_Null_Ratio  \\\n",
       "Applicable_Manufacturer_or_Applicable_GPO_Making_Payment_Country      0.000000   \n",
       "Applicable_Manufacturer_or_Applicable_GPO_Making_Payment_ID           0.000000   \n",
       "Applicable_Manufacturer_or_Applicable_GPO_Making_Payment_Name         0.000000   \n",
       "Applicable_Manufacturer_or_Applicable_GPO_Making_Payment_State        0.098520   \n",
       "Associated_Drug_or_Biological_NDC_1                                   0.514110   \n",
       "Associated_Drug_or_Biological_NDC_2                                   0.980620   \n",
       "Associated_Drug_or_Biological_NDC_3                                   0.997890   \n",
       "Associated_Drug_or_Biological_NDC_4                                   0.999510   \n",
       "Associated_Drug_or_Biological_NDC_5                                   0.999745   \n",
       "Change_Type                                                           0.000000   \n",
       "Covered_Recipient_Type                                                0.000000   \n",
       "Covered_or_Noncovered_Indicator_1                                     0.130025   \n",
       "Covered_or_Noncovered_Indicator_2                                     0.944400   \n",
       "Covered_or_Noncovered_Indicator_3                                     0.991600   \n",
       "Covered_or_Noncovered_Indicator_4                                     0.996620   \n",
       "Covered_or_Noncovered_Indicator_5                                     0.997365   \n",
       "Date_of_Payment                                                       0.000000   \n",
       "Delay_in_Publication_Indicator                                        0.000000   \n",
       "Dispute_Status_for_Publication                                        0.000000   \n",
       "Form_of_Payment_or_Transfer_of_Value                                  0.000000   \n",
       "Indicate_Drug_or_Biological_or_Device_or_Medical_Supply_1             0.293900   \n",
       "Indicate_Drug_or_Biological_or_Device_or_Medical_Supply_2             0.951245   \n",
       "Indicate_Drug_or_Biological_or_Device_or_Medical_Supply_3             0.991605   \n",
       "Indicate_Drug_or_Biological_or_Device_or_Medical_Supply_4             0.996620   \n",
       "Indicate_Drug_or_Biological_or_Device_or_Medical_Supply_5             0.997365   \n",
       "Name_of_Drug_or_Biological_or_Device_or_Medical_Supply_1              0.298970   \n",
       "Name_of_Drug_or_Biological_or_Device_or_Medical_Supply_2              0.951250   \n",
       "Name_of_Drug_or_Biological_or_Device_or_Medical_Supply_3              0.991605   \n",
       "Name_of_Drug_or_Biological_or_Device_or_Medical_Supply_4              0.996620   \n",
       "Name_of_Drug_or_Biological_or_Device_or_Medical_Supply_5              0.997365   \n",
       "Payment_Publication_Date                                              0.000000   \n",
       "Physician_First_Name                                                  0.955905   \n",
       "Physician_Last_Name                                                   0.955905   \n",
       "Physician_License_State_code1                                         0.955905   \n",
       "Physician_License_State_code2                                         0.998695   \n",
       "Physician_License_State_code3                                         0.999630   \n",
       "Physician_License_State_code4                                         0.999925   \n",
       "Physician_License_State_code5                                         0.999995   \n",
       "Physician_Middle_Name                                                 0.970495   \n",
       "Physician_Name_Suffix                                                 0.998715   \n",
       "Physician_Primary_Type                                                0.955905   \n",
       "Physician_Profile_ID                                                  0.955905   \n",
       "Physician_Specialty                                                   0.955915   \n",
       "Product_Category_or_Therapeutic_Area_1                                0.342400   \n",
       "Product_Category_or_Therapeutic_Area_2                                0.951255   \n",
       "Product_Category_or_Therapeutic_Area_3                                0.991605   \n",
       "Product_Category_or_Therapeutic_Area_4                                0.996620   \n",
       "Product_Category_or_Therapeutic_Area_5                                0.997365   \n",
       "Program_Year                                                          0.000000   \n",
       "Recipient_City                                                        0.000980   \n",
       "Recipient_Country                                                     0.000980   \n",
       "Recipient_Postal_Code                                                 0.999125   \n",
       "Recipient_Primary_Business_Street_Address_Line1                       0.000980   \n",
       "Recipient_Primary_Business_Street_Address_Line2                       0.730570   \n",
       "Recipient_Province                                                    0.999425   \n",
       "Recipient_State                                                       0.001850   \n",
       "Recipient_Zip_Code                                                    0.001850   \n",
       "Record_ID                                                             0.000000   \n",
       "Related_Product_Indicator                                             0.000000   \n",
       "Submitting_Applicable_Manufacturer_or_Applicable_GPO_Name             0.000000   \n",
       "Tag                                                                        NaN   \n",
       "Teaching_Hospital_CCN                                                 0.840290   \n",
       "Teaching_Hospital_ID                                                  0.840290   \n",
       "Teaching_Hospital_Name                                                0.840290   \n",
       "Total_Amount_of_Payment_USDollars                                     0.000000   \n",
       "\n",
       "                                                                  0_unique  \\\n",
       "Applicable_Manufacturer_or_Applicable_GPO_Making_Payment_Country        20   \n",
       "Applicable_Manufacturer_or_Applicable_GPO_Making_Payment_ID           1009   \n",
       "Applicable_Manufacturer_or_Applicable_GPO_Making_Payment_Name         1022   \n",
       "Applicable_Manufacturer_or_Applicable_GPO_Making_Payment_State          42   \n",
       "Associated_Drug_or_Biological_NDC_1                                    925   \n",
       "Associated_Drug_or_Biological_NDC_2                                    400   \n",
       "Associated_Drug_or_Biological_NDC_3                                    258   \n",
       "Associated_Drug_or_Biological_NDC_4                                    132   \n",
       "Associated_Drug_or_Biological_NDC_5                                     46   \n",
       "Change_Type                                                              4   \n",
       "Covered_Recipient_Type                                                   2   \n",
       "Covered_or_Noncovered_Indicator_1                                        2   \n",
       "Covered_or_Noncovered_Indicator_2                                        2   \n",
       "Covered_or_Noncovered_Indicator_3                                        2   \n",
       "Covered_or_Noncovered_Indicator_4                                        2   \n",
       "Covered_or_Noncovered_Indicator_5                                        2   \n",
       "Date_of_Payment                                                        365   \n",
       "Delay_in_Publication_Indicator                                           1   \n",
       "Dispute_Status_for_Publication                                           2   \n",
       "Form_of_Payment_or_Transfer_of_Value                                     5   \n",
       "Indicate_Drug_or_Biological_or_Device_or_Medical_Supply_1                4   \n",
       "Indicate_Drug_or_Biological_or_Device_or_Medical_Supply_2                4   \n",
       "Indicate_Drug_or_Biological_or_Device_or_Medical_Supply_3                4   \n",
       "Indicate_Drug_or_Biological_or_Device_or_Medical_Supply_4                4   \n",
       "Indicate_Drug_or_Biological_or_Device_or_Medical_Supply_5                4   \n",
       "Name_of_Drug_or_Biological_or_Device_or_Medical_Supply_1              4203   \n",
       "Name_of_Drug_or_Biological_or_Device_or_Medical_Supply_2              1227   \n",
       "Name_of_Drug_or_Biological_or_Device_or_Medical_Supply_3               810   \n",
       "Name_of_Drug_or_Biological_or_Device_or_Medical_Supply_4               408   \n",
       "Name_of_Drug_or_Biological_or_Device_or_Medical_Supply_5               167   \n",
       "Payment_Publication_Date                                                 1   \n",
       "Physician_First_Name                                                 19982   \n",
       "Physician_Last_Name                                                  57823   \n",
       "Physician_License_State_code1                                           55   \n",
       "Physician_License_State_code2                                           51   \n",
       "Physician_License_State_code3                                           47   \n",
       "Physician_License_State_code4                                           29   \n",
       "Physician_License_State_code5                                           15   \n",
       "Physician_Middle_Name                                                 8659   \n",
       "Physician_Name_Suffix                                                   34   \n",
       "Physician_Primary_Type                                                   6   \n",
       "Physician_Profile_ID                                                117471   \n",
       "Physician_Specialty                                                    300   \n",
       "Product_Category_or_Therapeutic_Area_1                                1085   \n",
       "Product_Category_or_Therapeutic_Area_2                                 363   \n",
       "Product_Category_or_Therapeutic_Area_3                                 274   \n",
       "Product_Category_or_Therapeutic_Area_4                                 178   \n",
       "Product_Category_or_Therapeutic_Area_5                                  91   \n",
       "Program_Year                                                             1   \n",
       "Recipient_City                                                        9383   \n",
       "Recipient_Country                                                        4   \n",
       "Recipient_Postal_Code                                                    5   \n",
       "Recipient_Primary_Business_Street_Address_Line1                      93345   \n",
       "Recipient_Primary_Business_Street_Address_Line2                      13225   \n",
       "Recipient_Province                                                       5   \n",
       "Recipient_State                                                         57   \n",
       "Recipient_Zip_Code                                                   51021   \n",
       "Record_ID                                                           199999   \n",
       "Related_Product_Indicator                                                2   \n",
       "Submitting_Applicable_Manufacturer_or_Applicable_GPO_Name              915   \n",
       "Tag                                                                      1   \n",
       "Teaching_Hospital_CCN                                                  372   \n",
       "Teaching_Hospital_ID                                                   372   \n",
       "Teaching_Hospital_Name                                                 383   \n",
       "Total_Amount_of_Payment_USDollars                                    19894   \n",
       "\n",
       "                                                                  1_unique  \\\n",
       "Applicable_Manufacturer_or_Applicable_GPO_Making_Payment_Country        18   \n",
       "Applicable_Manufacturer_or_Applicable_GPO_Making_Payment_ID            562   \n",
       "Applicable_Manufacturer_or_Applicable_GPO_Making_Payment_Name          569   \n",
       "Applicable_Manufacturer_or_Applicable_GPO_Making_Payment_State          35   \n",
       "Associated_Drug_or_Biological_NDC_1                                    658   \n",
       "Associated_Drug_or_Biological_NDC_2                                     35   \n",
       "Associated_Drug_or_Biological_NDC_3                                     14   \n",
       "Associated_Drug_or_Biological_NDC_4                                      6   \n",
       "Associated_Drug_or_Biological_NDC_5                                      4   \n",
       "Change_Type                                                              4   \n",
       "Covered_Recipient_Type                                                   4   \n",
       "Covered_or_Noncovered_Indicator_1                                        2   \n",
       "Covered_or_Noncovered_Indicator_2                                        2   \n",
       "Covered_or_Noncovered_Indicator_3                                        2   \n",
       "Covered_or_Noncovered_Indicator_4                                        2   \n",
       "Covered_or_Noncovered_Indicator_5                                        2   \n",
       "Date_of_Payment                                                        364   \n",
       "Delay_in_Publication_Indicator                                           1   \n",
       "Dispute_Status_for_Publication                                           2   \n",
       "Form_of_Payment_or_Transfer_of_Value                                     2   \n",
       "Indicate_Drug_or_Biological_or_Device_or_Medical_Supply_1                4   \n",
       "Indicate_Drug_or_Biological_or_Device_or_Medical_Supply_2                4   \n",
       "Indicate_Drug_or_Biological_or_Device_or_Medical_Supply_3                3   \n",
       "Indicate_Drug_or_Biological_or_Device_or_Medical_Supply_4                4   \n",
       "Indicate_Drug_or_Biological_or_Device_or_Medical_Supply_5                4   \n",
       "Name_of_Drug_or_Biological_or_Device_or_Medical_Supply_1              1821   \n",
       "Name_of_Drug_or_Biological_or_Device_or_Medical_Supply_2               140   \n",
       "Name_of_Drug_or_Biological_or_Device_or_Medical_Supply_3                78   \n",
       "Name_of_Drug_or_Biological_or_Device_or_Medical_Supply_4                41   \n",
       "Name_of_Drug_or_Biological_or_Device_or_Medical_Supply_5                28   \n",
       "Payment_Publication_Date                                                 1   \n",
       "Physician_First_Name                                                  1493   \n",
       "Physician_Last_Name                                                   3053   \n",
       "Physician_License_State_code1                                           51   \n",
       "Physician_License_State_code2                                           31   \n",
       "Physician_License_State_code3                                           15   \n",
       "Physician_License_State_code4                                            6   \n",
       "Physician_License_State_code5                                            0   \n",
       "Physician_Middle_Name                                                  470   \n",
       "Physician_Name_Suffix                                                   13   \n",
       "Physician_Primary_Type                                                   5   \n",
       "Physician_Profile_ID                                                  3580   \n",
       "Physician_Specialty                                                    156   \n",
       "Product_Category_or_Therapeutic_Area_1                                 623   \n",
       "Product_Category_or_Therapeutic_Area_2                                  78   \n",
       "Product_Category_or_Therapeutic_Area_3                                  46   \n",
       "Product_Category_or_Therapeutic_Area_4                                  25   \n",
       "Product_Category_or_Therapeutic_Area_5                                  16   \n",
       "Program_Year                                                             1   \n",
       "Recipient_City                                                        3691   \n",
       "Recipient_Country                                                        8   \n",
       "Recipient_Postal_Code                                                   20   \n",
       "Recipient_Primary_Business_Street_Address_Line1                      27333   \n",
       "Recipient_Primary_Business_Street_Address_Line2                       5912   \n",
       "Recipient_Province                                                       9   \n",
       "Recipient_State                                                         54   \n",
       "Recipient_Zip_Code                                                    9824   \n",
       "Record_ID                                                           199999   \n",
       "Related_Product_Indicator                                                2   \n",
       "Submitting_Applicable_Manufacturer_or_Applicable_GPO_Name              498   \n",
       "Tag                                                                      1   \n",
       "Teaching_Hospital_CCN                                                  634   \n",
       "Teaching_Hospital_ID                                                   634   \n",
       "Teaching_Hospital_Name                                                 862   \n",
       "Total_Amount_of_Payment_USDollars                                    62898   \n",
       "\n",
       "                                                                  Overall_Unique  \n",
       "Applicable_Manufacturer_or_Applicable_GPO_Making_Payment_Country              24  \n",
       "Applicable_Manufacturer_or_Applicable_GPO_Making_Payment_ID                 1126  \n",
       "Applicable_Manufacturer_or_Applicable_GPO_Making_Payment_Name               1155  \n",
       "Applicable_Manufacturer_or_Applicable_GPO_Making_Payment_State                44  \n",
       "Associated_Drug_or_Biological_NDC_1                                         1111  \n",
       "Associated_Drug_or_Biological_NDC_2                                          415  \n",
       "Associated_Drug_or_Biological_NDC_3                                          268  \n",
       "Associated_Drug_or_Biological_NDC_4                                          136  \n",
       "Associated_Drug_or_Biological_NDC_5                                           50  \n",
       "Change_Type                                                                    4  \n",
       "Covered_Recipient_Type                                                         4  \n",
       "Covered_or_Noncovered_Indicator_1                                              2  \n",
       "Covered_or_Noncovered_Indicator_2                                              2  \n",
       "Covered_or_Noncovered_Indicator_3                                              2  \n",
       "Covered_or_Noncovered_Indicator_4                                              2  \n",
       "Covered_or_Noncovered_Indicator_5                                              2  \n",
       "Date_of_Payment                                                              365  \n",
       "Delay_in_Publication_Indicator                                                 1  \n",
       "Dispute_Status_for_Publication                                                 2  \n",
       "Form_of_Payment_or_Transfer_of_Value                                           5  \n",
       "Indicate_Drug_or_Biological_or_Device_or_Medical_Supply_1                      4  \n",
       "Indicate_Drug_or_Biological_or_Device_or_Medical_Supply_2                      4  \n",
       "Indicate_Drug_or_Biological_or_Device_or_Medical_Supply_3                      4  \n",
       "Indicate_Drug_or_Biological_or_Device_or_Medical_Supply_4                      4  \n",
       "Indicate_Drug_or_Biological_or_Device_or_Medical_Supply_5                      4  \n",
       "Name_of_Drug_or_Biological_or_Device_or_Medical_Supply_1                    5026  \n",
       "Name_of_Drug_or_Biological_or_Device_or_Medical_Supply_2                    1306  \n",
       "Name_of_Drug_or_Biological_or_Device_or_Medical_Supply_3                     866  \n",
       "Name_of_Drug_or_Biological_or_Device_or_Medical_Supply_4                     439  \n",
       "Name_of_Drug_or_Biological_or_Device_or_Medical_Supply_5                     186  \n",
       "Payment_Publication_Date                                                       1  \n",
       "Physician_First_Name                                                       20205  \n",
       "Physician_Last_Name                                                        58721  \n",
       "Physician_License_State_code1                                                 55  \n",
       "Physician_License_State_code2                                                 51  \n",
       "Physician_License_State_code3                                                 47  \n",
       "Physician_License_State_code4                                                 29  \n",
       "Physician_License_State_code5                                                 15  \n",
       "Physician_Middle_Name                                                       8764  \n",
       "Physician_Name_Suffix                                                         35  \n",
       "Physician_Primary_Type                                                         6  \n",
       "Physician_Profile_ID                                                      119547  \n",
       "Physician_Specialty                                                          303  \n",
       "Product_Category_or_Therapeutic_Area_1                                      1233  \n",
       "Product_Category_or_Therapeutic_Area_2                                       390  \n",
       "Product_Category_or_Therapeutic_Area_3                                       295  \n",
       "Product_Category_or_Therapeutic_Area_4                                       190  \n",
       "Product_Category_or_Therapeutic_Area_5                                       101  \n",
       "Program_Year                                                                   1  \n",
       "Recipient_City                                                              9931  \n",
       "Recipient_Country                                                              9  \n",
       "Recipient_Postal_Code                                                         25  \n",
       "Recipient_Primary_Business_Street_Address_Line1                           114326  \n",
       "Recipient_Primary_Business_Street_Address_Line2                            17576  \n",
       "Recipient_Province                                                            14  \n",
       "Recipient_State                                                               57  \n",
       "Recipient_Zip_Code                                                         54811  \n",
       "Record_ID                                                                 399998  \n",
       "Related_Product_Indicator                                                      2  \n",
       "Submitting_Applicable_Manufacturer_or_Applicable_GPO_Name                   1016  \n",
       "Tag                                                                            2  \n",
       "Teaching_Hospital_CCN                                                        721  \n",
       "Teaching_Hospital_ID                                                         721  \n",
       "Teaching_Hospital_Name                                                       959  \n",
       "Total_Amount_of_Payment_USDollars                                          74533  "
      ]
     },
     "execution_count": 23,
     "metadata": {},
     "output_type": "execute_result"
    }
   ],
   "source": [
    "pd.set_option('max_colwidth', 100)\n",
    "pd.set_option('display.max_rows', 500)\n",
    "dfinfo"
   ]
  },
  {
   "cell_type": "markdown",
   "metadata": {},
   "source": [
    "Criteria to drop feature\n",
    "1. too much missing\n",
    "all Associated_Drug_or_Biological_NDC_2 - 5\n",
    "2. no overlapping value for research or general"
   ]
  },
  {
   "cell_type": "code",
   "execution_count": 14,
   "metadata": {},
   "outputs": [],
   "source": [
    "# quick func to check the top in categorical data\n",
    "def top_cat(X):\n",
    "    l1=comb[comb['Tag']==0][X].value_counts()[:10]\n",
    "    l2=comb[comb['Tag']==1][X].value_counts()[:10]\n",
    "    print('gen')\n",
    "    print(l1)\n",
    "    print('res')\n",
    "    print(l2)\n",
    "    print('In common')\n",
    "    print(len(set(l1.index).intersection(set(l2.index))))"
   ]
  },
  {
   "cell_type": "code",
   "execution_count": 53,
   "metadata": {},
   "outputs": [
    {
     "name": "stdout",
     "output_type": "stream",
     "text": [
      "gen\n",
      "50458-580-30    5106\n",
      "0169-4060-90    4537\n",
      "00031-062-10    3713\n",
      "0078-0659-20    3097\n",
      "55513-710-01    2712\n",
      "50458-140-30    2655\n",
      "0006-0277-82    2408\n",
      "0002-1433-80    2205\n",
      "00597-0152-0    2194\n",
      "0074-4339-02    2173\n",
      "Name: Associated_Drug_or_Biological_NDC_1, dtype: int64\n",
      "res\n",
      "0006-3029-01    9569\n",
      "62856-529-60    8506\n",
      "64406-006-02    3553\n",
      "0597-0140-30    2828\n",
      "0169-2660-15    2751\n",
      "65757-300-01    2083\n",
      "0597-0152-30    1914\n",
      "0069-0187-21    1788\n",
      "0024-5901-00    1718\n",
      "62856-710-30    1570\n",
      "Name: Associated_Drug_or_Biological_NDC_1, dtype: int64\n",
      "In common\n",
      "0\n"
     ]
    }
   ],
   "source": [
    "top_cat(\"Associated_Drug_or_Biological_NDC_1\")"
   ]
  },
  {
   "cell_type": "markdown",
   "metadata": {},
   "source": [
    "this shows this metric highly likely leaking information or providing really distinguishable value <br>\n",
    "Considering there are overlap between the 2, we might want to add it back"
   ]
  },
  {
   "cell_type": "code",
   "execution_count": 54,
   "metadata": {},
   "outputs": [
    {
     "name": "stdout",
     "output_type": "stream",
     "text": [
      "gen\n",
      "Covered        185343\n",
      "Non-Covered      5078\n",
      "Name: Covered_or_Noncovered_Indicator_1, dtype: int64\n",
      "res\n",
      "Covered        125299\n",
      "Non-Covered     48416\n",
      "Name: Covered_or_Noncovered_Indicator_1, dtype: int64\n",
      "In common\n",
      "2\n"
     ]
    }
   ],
   "source": [
    "top_cat(\"Covered_or_Noncovered_Indicator_1\")"
   ]
  },
  {
   "cell_type": "code",
   "execution_count": 55,
   "metadata": {},
   "outputs": [
    {
     "name": "stdout",
     "output_type": "stream",
     "text": [
      "gen\n",
      "Diabetes                         10129\n",
      "RESPIRATORY                       9173\n",
      "Cardiovascular & Metabolism       7845\n",
      "Immunology                        6088\n",
      "CARDIOVASCULAR                    5757\n",
      "NEUROSCIENCE                      5246\n",
      "Endocrinology                     5144\n",
      "Cardiovascular and Metabolism     4788\n",
      "GASTROENTEROLOGY                  4546\n",
      "DIABETES                          4251\n",
      "Name: Product_Category_or_Therapeutic_Area_1, dtype: int64\n",
      "res\n",
      "ONCOLOGY                        17976\n",
      "Nutrition and Weight Loss        8506\n",
      "Oncology                         7939\n",
      "DIABETES                         7699\n",
      "Diabetes                         6411\n",
      "Cardiology/Vascular Diseases     5854\n",
      "NEUROLOGY                        5851\n",
      "CNS                              3767\n",
      "Immunology                       3748\n",
      "CARDIOVASCULAR                   3553\n",
      "Name: Product_Category_or_Therapeutic_Area_1, dtype: int64\n",
      "In common\n",
      "4\n"
     ]
    }
   ],
   "source": [
    "top_cat(\"Product_Category_or_Therapeutic_Area_1\")"
   ]
  },
  {
   "cell_type": "markdown",
   "metadata": {},
   "source": [
    "The above 2 is normal, no need to drop"
   ]
  },
  {
   "cell_type": "markdown",
   "metadata": {},
   "source": [
    " build a filter of thefinal columns <br>\n",
    " rule on missing value \n",
    "1. overall missing >60%\n",
    "2. research or general missing >80%\n"
   ]
  },
  {
   "cell_type": "code",
   "execution_count": 56,
   "metadata": {},
   "outputs": [
    {
     "data": {
      "text/plain": [
       "Index(['0_Null', '1_Null', 'Overall_Null_Ratio', '0_Null_Ratio',\n",
       "       '1_Null_Ratio', '0_unique', '1_unique', 'Overall_Unique'],\n",
       "      dtype='object')"
      ]
     },
     "execution_count": 56,
     "metadata": {},
     "output_type": "execute_result"
    }
   ],
   "source": [
    "dfinfo.columns"
   ]
  },
  {
   "cell_type": "code",
   "execution_count": 15,
   "metadata": {},
   "outputs": [],
   "source": [
    "dfinfo_1=dfinfo[(dfinfo['0_Null_Ratio']<0.8)&(dfinfo['1_Null_Ratio']<0.8)&(dfinfo['Overall_Null_Ratio']<0.6)&(dfinfo['Overall_Unique']>1)&(dfinfo['Overall_Unique']<399997)]"
   ]
  },
  {
   "cell_type": "code",
   "execution_count": 16,
   "metadata": {},
   "outputs": [],
   "source": [
    "var_set_1=dfinfo_1.index"
   ]
  },
  {
   "cell_type": "code",
   "execution_count": 17,
   "metadata": {},
   "outputs": [
    {
     "data": {
      "text/plain": [
       "Applicable_Manufacturer_or_Applicable_GPO_Making_Payment_Country            object\n",
       "Applicable_Manufacturer_or_Applicable_GPO_Making_Payment_ID                  int64\n",
       "Applicable_Manufacturer_or_Applicable_GPO_Making_Payment_Name               object\n",
       "Applicable_Manufacturer_or_Applicable_GPO_Making_Payment_State              object\n",
       "Associated_Drug_or_Biological_NDC_1                                         object\n",
       "Change_Type                                                                 object\n",
       "Covered_Recipient_Type                                                      object\n",
       "Covered_or_Noncovered_Indicator_1                                           object\n",
       "Date_of_Payment                                                     datetime64[ns]\n",
       "Dispute_Status_for_Publication                                              object\n",
       "Form_of_Payment_or_Transfer_of_Value                                        object\n",
       "Indicate_Drug_or_Biological_or_Device_or_Medical_Supply_1                   object\n",
       "Name_of_Drug_or_Biological_or_Device_or_Medical_Supply_1                    object\n",
       "Product_Category_or_Therapeutic_Area_1                                      object\n",
       "Recipient_City                                                              object\n",
       "Recipient_Country                                                           object\n",
       "Recipient_Primary_Business_Street_Address_Line1                             object\n",
       "Recipient_State                                                             object\n",
       "Recipient_Zip_Code                                                          object\n",
       "Related_Product_Indicator                                                   object\n",
       "Submitting_Applicable_Manufacturer_or_Applicable_GPO_Name                   object\n",
       "Total_Amount_of_Payment_USDollars                                          float64\n",
       "dtype: object"
      ]
     },
     "execution_count": 17,
     "metadata": {},
     "output_type": "execute_result"
    }
   ],
   "source": [
    "comb.loc[:,var_set_1].dtypes"
   ]
  },
  {
   "cell_type": "code",
   "execution_count": 77,
   "metadata": {},
   "outputs": [
    {
     "name": "stdout",
     "output_type": "stream",
     "text": [
      "gen\n",
      "100000000286    10537\n",
      "100000000278     8937\n",
      "100000000232     8504\n",
      "100000000146     7886\n",
      "100000000144     7179\n",
      "100000000053     6955\n",
      "100000000203     6147\n",
      "100000005449     5931\n",
      "100000000228     5845\n",
      "100000000234     5754\n",
      "Name: Applicable_Manufacturer_or_Applicable_GPO_Making_Payment_ID, dtype: int64\n",
      "res\n",
      "100000000286    14400\n",
      "100000000053    13319\n",
      "100000000263    12007\n",
      "100000000136    10836\n",
      "100000000255     8724\n",
      "100000000067     8723\n",
      "100000000204     7754\n",
      "100000000163     6681\n",
      "100000000193     5899\n",
      "100000010579     5474\n",
      "Name: Applicable_Manufacturer_or_Applicable_GPO_Making_Payment_ID, dtype: int64\n",
      "In common\n",
      "2\n"
     ]
    }
   ],
   "source": [
    "top_cat(\"Applicable_Manufacturer_or_Applicable_GPO_Making_Payment_ID\")"
   ]
  },
  {
   "cell_type": "code",
   "execution_count": 78,
   "metadata": {},
   "outputs": [
    {
     "name": "stdout",
     "output_type": "stream",
     "text": [
      "gen\n",
      "XARELTO      5112\n",
      "Victoza      4537\n",
      "FARXIGA      3713\n",
      "ENTRESTO     3093\n",
      "ELIQUIS      3024\n",
      "JARDIANCE    2733\n",
      "Prolia       2712\n",
      "INVOKANA     2665\n",
      "JANUVIA      2408\n",
      "TRULICITY    2205\n",
      "Name: Name_of_Drug_or_Biological_or_Device_or_Medical_Supply_1, dtype: int64\n",
      "res\n",
      "KEYTRUDA               9569\n",
      "Belviq                 8506\n",
      "TECFIDERA              3553\n",
      "TRADJENTA              2828\n",
      "Tresiba                2751\n",
      "Non-Covered Product    2508\n",
      "Sentus                 2216\n",
      "Vivitrol 380mg         2083\n",
      "SAR231893              1950\n",
      "JARDIANCE              1851\n",
      "Name: Name_of_Drug_or_Biological_or_Device_or_Medical_Supply_1, dtype: int64\n",
      "In common\n",
      "1\n"
     ]
    }
   ],
   "source": [
    "top_cat(\"Name_of_Drug_or_Biological_or_Device_or_Medical_Supply_1\")"
   ]
  },
  {
   "cell_type": "code",
   "execution_count": null,
   "metadata": {},
   "outputs": [],
   "source": [
    "# except for amount, drop those cat var who has more than 100 cont"
   ]
  },
  {
   "cell_type": "code",
   "execution_count": 18,
   "metadata": {},
   "outputs": [],
   "source": [
    "var_set_2=dfinfo_1[(dfinfo_1['Overall_Unique']<100)].index"
   ]
  },
  {
   "cell_type": "code",
   "execution_count": 19,
   "metadata": {},
   "outputs": [],
   "source": [
    "var_2=var_set_2.tolist()\n",
    "var_2.append('Total_Amount_of_Payment_USDollars')"
   ]
  },
  {
   "cell_type": "markdown",
   "metadata": {},
   "source": [
    "### Step 2. Bivariate analysis"
   ]
  },
  {
   "cell_type": "code",
   "execution_count": 10,
   "metadata": {},
   "outputs": [
    {
     "data": {
      "text/plain": [
       "(array([7.50000e+01, 1.64100e+03, 2.25130e+04, 1.65282e+05, 7.36010e+04,\n",
       "        8.51800e+04, 4.22620e+04, 8.77900e+03, 6.31000e+02, 3.40000e+01]),\n",
       " array([-4.60517019, -2.48019474, -0.3552193 ,  1.76975614,  3.89473159,\n",
       "         6.01970703,  8.14468247, 10.26965792, 12.39463336, 14.5196088 ,\n",
       "        16.64458425]),\n",
       " <a list of 10 Patch objects>)"
      ]
     },
     "execution_count": 10,
     "metadata": {},
     "output_type": "execute_result"
    },
    {
     "data": {
      "image/png": "[encoded data removed]",
      "text/plain": [
       "<Figure size 432x288 with 1 Axes>"
      ]
     },
     "metadata": {
      "needs_background": "light"
     },
     "output_type": "display_data"
    }
   ],
   "source": [
    "#first check the cont var : payment dollar\n",
    "plt.hist(np.log(comb.Total_Amount_of_Payment_USDollars))"
   ]
  },
  {
   "cell_type": "code",
   "execution_count": 11,
   "metadata": {},
   "outputs": [
    {
     "data": {
      "text/plain": [
       "Tag\n",
       "0     311.429872\n",
       "1    7634.153894\n",
       "Name: Total_Amount_of_Payment_USDollars, dtype: float64"
      ]
     },
     "execution_count": 11,
     "metadata": {},
     "output_type": "execute_result"
    }
   ],
   "source": [
    "comb.groupby('Tag').mean()['Total_Amount_of_Payment_USDollars']"
   ]
  },
  {
   "cell_type": "code",
   "execution_count": 98,
   "metadata": {},
   "outputs": [
    {
     "data": {
      "text/plain": [
       "<matplotlib.collections.PathCollection at 0x1969f3a8080>"
      ]
     },
     "execution_count": 98,
     "metadata": {},
     "output_type": "execute_result"
    },
    {
     "data": {
      "image/png": "[encoded data removed]",
      "text/plain": [
       "<Figure size 432x288 with 1 Axes>"
      ]
     },
     "metadata": {
      "needs_background": "light"
     },
     "output_type": "display_data"
    }
   ],
   "source": [
    "plt.scatter(np.log(comb.Total_Amount_of_Payment_USDollars),comb.Tag,alpha=0.2)"
   ]
  },
  {
   "cell_type": "code",
   "execution_count": null,
   "metadata": {},
   "outputs": [],
   "source": [
    "# then check categorical variables"
   ]
  },
  {
   "cell_type": "code",
   "execution_count": 109,
   "metadata": {},
   "outputs": [
    {
     "data": {
      "image/png": "[encoded data removed]",
      "text/plain": [
       "<Figure size 1440x3960 with 11 Axes>"
      ]
     },
     "metadata": {
      "needs_background": "light"
     },
     "output_type": "display_data"
    }
   ],
   "source": [
    "fig, ax = plt.subplots(  len(var_2[:-1]), figsize = (20, len(var_2[:-1])*5))\n",
    "i=0\n",
    "for v in var_2[:-1]:\n",
    "    sns.countplot(v, hue='Tag', data = comb, ax = ax[i])\n",
    "    i+=1\n",
    "\n",
    "plt.tight_layout()"
   ]
  },
  {
   "cell_type": "markdown",
   "metadata": {},
   "source": [
    "change type is a highly likely variable to be leaking result\n",
    "need to be dropped"
   ]
  },
  {
   "cell_type": "code",
   "execution_count": 36,
   "metadata": {},
   "outputs": [
    {
     "data": {
      "text/plain": [
       "['Applicable_Manufacturer_or_Applicable_GPO_Making_Payment_Country',\n",
       " 'Applicable_Manufacturer_or_Applicable_GPO_Making_Payment_State',\n",
       " 'Change_Type',\n",
       " 'Covered_or_Noncovered_Indicator_1',\n",
       " 'Dispute_Status_for_Publication',\n",
       " 'Form_of_Payment_or_Transfer_of_Value',\n",
       " 'Indicate_Drug_or_Biological_or_Device_or_Medical_Supply_1',\n",
       " 'Recipient_Country',\n",
       " 'Recipient_State',\n",
       " 'Related_Product_Indicator',\n",
       " 'Total_Amount_of_Payment_USDollars']"
      ]
     },
     "execution_count": 36,
     "metadata": {},
     "output_type": "execute_result"
    }
   ],
   "source": [
    "var_2"
   ]
  },
  {
   "cell_type": "code",
   "execution_count": 32,
   "metadata": {},
   "outputs": [],
   "source": [
    "var_2.remove('Covered_Recipient_Type')"
   ]
  },
  {
   "cell_type": "markdown",
   "metadata": {},
   "source": [
    "\n",
    "### Step 3. Modeling"
   ]
  },
  {
   "cell_type": "markdown",
   "metadata": {},
   "source": [
    "1. fill missing as 'NA'"
   ]
  },
  {
   "cell_type": "code",
   "execution_count": null,
   "metadata": {},
   "outputs": [],
   "source": [
    "comb_reg=comb.copy()[var_2]\n",
    "comb_reg.fillna('NA',inplace=True)\n",
    "X_trainval,X_test,y_trainval,y_test=train_test_split(comb_reg,comb['Tag'])\n",
    "X_train,X_val,y_train,y_val=train_test_split(X_trainval,y_trainval)\n",
    "\n",
    "cat=comb_reg.dtypes=='object'\n",
    "cont=comb_reg.dtypes!='object'\n",
    "\n",
    "prep = ColumnTransformer([(\"OneHot\", OneHotEncoder(handle_unknown='ignore'),cat), ('pt', 'passthrough',cont)])\n",
    "\n",
    "log = Pipeline([('preprocessing', prep), ('LogReg',LogisticRegression())])\n",
    "\n",
    "log.fit(X_train,y_train)\n",
    "\n",
    "#LogReg seems to have a fair result. Check the actual parameter for the model -- which variable plays a more important role\n",
    " \n",
    "\n",
    "log.score(X_train,y_train)"
   ]
  },
  {
   "cell_type": "code",
   "execution_count": 81,
   "metadata": {
    "scrolled": true
   },
   "outputs": [
    {
     "data": {
      "image/png": "[encoded data removed]",
      "text/plain": [
       "<Figure size 1800x576 with 1 Axes>"
      ]
     },
     "metadata": {
      "needs_background": "light"
     },
     "output_type": "display_data"
    }
   ],
   "source": [
    "cols = log.named_steps['preprocessing'].named_transformers_['OneHot'].get_feature_names().tolist() \\\n",
    "+ ['Total_Amount_of_Payment_USDollars']\n",
    "fig, ax = plt.subplots(1, 1, figsize=(25, 8))\n",
    "plt.xticks(rotation='vertical')\n",
    "sns.barplot(x=cols, y=log.named_steps['LogReg'].coef_[0])\n",
    "plt.show()"
   ]
  },
  {
   "cell_type": "code",
   "execution_count": null,
   "metadata": {},
   "outputs": [],
   "source": [
    "# second model is tree"
   ]
  },
  {
   "cell_type": "code",
   "execution_count": 82,
   "metadata": {},
   "outputs": [],
   "source": [
    "tree = Pipeline([('preprocessing', prep), ('Tree',DecisionTreeClassifier( \n",
    "                                        min_impurity_decrease=0.03,\n",
    "                                     \n",
    "                                        min_samples_leaf=400, min_samples_split=400,\n",
    "                                        min_weight_fraction_leaf=0.01,))])\n",
    "\n",
    "tree.fit(X_train,y_train)\n",
    "\n",
    "print(\"{0} training accuracy: {1:.3f} and test accuracy: {2:.3f}\".\\\n",
    "      format('tree',\\\n",
    "              tree.score(X_train,y_train),tree.score(X_test,y_test)))\n",
    "\n",
    "tree_dot = export_graphviz(tree.named_steps['Tree'], out_file=None, feature_names=cols)\n",
    "graph = graphviz.Source(tree_dot)\n",
    "graph.render(cleanup=True)\n",
    "graph"
   ]
  },
  {
   "cell_type": "code",
   "execution_count": 88,
   "metadata": {},
   "outputs": [
    {
     "name": "stdout",
     "output_type": "stream",
     "text": [
      "tree training accuracy: 0.878 and test accuracy: 0.877\n"
     ]
    },
    {
     "data": {
      "image/svg+xml": [
       "<?xml version=\"1.0\" encoding=\"UTF-8\" standalone=\"no\"?>\r\n",
       "<!DOCTYPE svg PUBLIC \"-//W3C//DTD SVG 1.1//EN\"\r\n",
       " \"http://www.w3.org/Graphics/SVG/1.1/DTD/svg11.dtd\">\r\n",
       "<!-- Generated by graphviz version 2.38.0 (20140413.2041)\r\n",
       " -->\r\n",
       "<!-- Title: Tree Pages: 1 -->\r\n",
       "<svg width=\"716pt\" height=\"373pt\"\r\n",
       " viewBox=\"0.00 0.00 716.00 373.00\" xmlns=\"http://www.w3.org/2000/svg\" xmlns:xlink=\"http://www.w3.org/1999/xlink\">\r\n",
       "<g id=\"graph0\" class=\"graph\" transform=\"scale(1 1) rotate(0) translate(4 369)\">\r\n",
       "<title>Tree</title>\r\n",
       "<polygon fill=\"white\" stroke=\"none\" points=\"-4,4 -4,-369 712,-369 712,4 -4,4\"/>\r\n",
       "<!-- 0 -->\r\n",
       "<g id=\"node1\" class=\"node\"><title>0</title>\r\n",
       "<polygon fill=\"none\" stroke=\"black\" points=\"521,-365 221,-365 221,-297 521,-297 521,-365\"/>\r\n",
       "<text text-anchor=\"middle\" x=\"371\" y=\"-349.8\" font-family=\"Times New Roman,serif\" font-size=\"14.00\">Total_Amount_of_Payment_USDollars &lt;= 32.395</text>\r\n",
       "<text text-anchor=\"middle\" x=\"371\" y=\"-334.8\" font-family=\"Times New Roman,serif\" font-size=\"14.00\">gini = 0.5</text>\r\n",
       "<text text-anchor=\"middle\" x=\"371\" y=\"-319.8\" font-family=\"Times New Roman,serif\" font-size=\"14.00\">samples = 224998</text>\r\n",
       "<text text-anchor=\"middle\" x=\"371\" y=\"-304.8\" font-family=\"Times New Roman,serif\" font-size=\"14.00\">value = [112632, 112366]</text>\r\n",
       "</g>\r\n",
       "<!-- 1 -->\r\n",
       "<g id=\"node2\" class=\"node\"><title>1</title>\r\n",
       "<polygon fill=\"none\" stroke=\"black\" points=\"340,-261 128,-261 128,-193 340,-193 340,-261\"/>\r\n",
       "<text text-anchor=\"middle\" x=\"234\" y=\"-245.8\" font-family=\"Times New Roman,serif\" font-size=\"14.00\">x5_Cash or cash equivalent &lt;= 0.5</text>\r\n",
       "<text text-anchor=\"middle\" x=\"234\" y=\"-230.8\" font-family=\"Times New Roman,serif\" font-size=\"14.00\">gini = 0.187</text>\r\n",
       "<text text-anchor=\"middle\" x=\"234\" y=\"-215.8\" font-family=\"Times New Roman,serif\" font-size=\"14.00\">samples = 99094</text>\r\n",
       "<text text-anchor=\"middle\" x=\"234\" y=\"-200.8\" font-family=\"Times New Roman,serif\" font-size=\"14.00\">value = [88748, 10346]</text>\r\n",
       "</g>\r\n",
       "<!-- 0&#45;&gt;1 -->\r\n",
       "<g id=\"edge1\" class=\"edge\"><title>0&#45;&gt;1</title>\r\n",
       "<path fill=\"none\" stroke=\"black\" d=\"M326.52,-296.884C313.838,-287.442 299.899,-277.064 286.774,-267.292\"/>\r\n",
       "<polygon fill=\"black\" stroke=\"black\" points=\"288.837,-264.464 278.726,-261.299 284.656,-270.079 288.837,-264.464\"/>\r\n",
       "<text text-anchor=\"middle\" x=\"282.348\" y=\"-282.336\" font-family=\"Times New Roman,serif\" font-size=\"14.00\">True</text>\r\n",
       "</g>\r\n",
       "<!-- 6 -->\r\n",
       "<g id=\"node7\" class=\"node\"><title>6</title>\r\n",
       "<polygon fill=\"none\" stroke=\"black\" points=\"658,-261 358,-261 358,-193 658,-193 658,-261\"/>\r\n",
       "<text text-anchor=\"middle\" x=\"508\" y=\"-245.8\" font-family=\"Times New Roman,serif\" font-size=\"14.00\">Total_Amount_of_Payment_USDollars &lt;= 169.89</text>\r\n",
       "<text text-anchor=\"middle\" x=\"508\" y=\"-230.8\" font-family=\"Times New Roman,serif\" font-size=\"14.00\">gini = 0.307</text>\r\n",
       "<text text-anchor=\"middle\" x=\"508\" y=\"-215.8\" font-family=\"Times New Roman,serif\" font-size=\"14.00\">samples = 125904</text>\r\n",
       "<text text-anchor=\"middle\" x=\"508\" y=\"-200.8\" font-family=\"Times New Roman,serif\" font-size=\"14.00\">value = [23884, 102020]</text>\r\n",
       "</g>\r\n",
       "<!-- 0&#45;&gt;6 -->\r\n",
       "<g id=\"edge6\" class=\"edge\"><title>0&#45;&gt;6</title>\r\n",
       "<path fill=\"none\" stroke=\"black\" d=\"M415.48,-296.884C428.162,-287.442 442.101,-277.064 455.226,-267.292\"/>\r\n",
       "<polygon fill=\"black\" stroke=\"black\" points=\"457.344,-270.079 463.274,-261.299 453.163,-264.464 457.344,-270.079\"/>\r\n",
       "<text text-anchor=\"middle\" x=\"459.652\" y=\"-282.336\" font-family=\"Times New Roman,serif\" font-size=\"14.00\">False</text>\r\n",
       "</g>\r\n",
       "<!-- 2 -->\r\n",
       "<g id=\"node3\" class=\"node\"><title>2</title>\r\n",
       "<polygon fill=\"none\" stroke=\"black\" points=\"180,-157 42,-157 42,-89 180,-89 180,-157\"/>\r\n",
       "<text text-anchor=\"middle\" x=\"111\" y=\"-141.8\" font-family=\"Times New Roman,serif\" font-size=\"14.00\">x1_NA &lt;= 0.5</text>\r\n",
       "<text text-anchor=\"middle\" x=\"111\" y=\"-126.8\" font-family=\"Times New Roman,serif\" font-size=\"14.00\">gini = 0.089</text>\r\n",
       "<text text-anchor=\"middle\" x=\"111\" y=\"-111.8\" font-family=\"Times New Roman,serif\" font-size=\"14.00\">samples = 83192</text>\r\n",
       "<text text-anchor=\"middle\" x=\"111\" y=\"-96.8\" font-family=\"Times New Roman,serif\" font-size=\"14.00\">value = [79314, 3878]</text>\r\n",
       "</g>\r\n",
       "<!-- 1&#45;&gt;2 -->\r\n",
       "<g id=\"edge2\" class=\"edge\"><title>1&#45;&gt;2</title>\r\n",
       "<path fill=\"none\" stroke=\"black\" d=\"M194.065,-192.884C182.895,-183.62 170.637,-173.455 159.049,-163.845\"/>\r\n",
       "<polygon fill=\"black\" stroke=\"black\" points=\"161.087,-160.989 151.155,-157.299 156.619,-166.377 161.087,-160.989\"/>\r\n",
       "</g>\r\n",
       "<!-- 5 -->\r\n",
       "<g id=\"node6\" class=\"node\"><title>5</title>\r\n",
       "<polygon fill=\"none\" stroke=\"black\" points=\"329.5,-149.5 198.5,-149.5 198.5,-96.5 329.5,-96.5 329.5,-149.5\"/>\r\n",
       "<text text-anchor=\"middle\" x=\"264\" y=\"-134.3\" font-family=\"Times New Roman,serif\" font-size=\"14.00\">gini = 0.483</text>\r\n",
       "<text text-anchor=\"middle\" x=\"264\" y=\"-119.3\" font-family=\"Times New Roman,serif\" font-size=\"14.00\">samples = 15902</text>\r\n",
       "<text text-anchor=\"middle\" x=\"264\" y=\"-104.3\" font-family=\"Times New Roman,serif\" font-size=\"14.00\">value = [9434, 6468]</text>\r\n",
       "</g>\r\n",
       "<!-- 1&#45;&gt;5 -->\r\n",
       "<g id=\"edge5\" class=\"edge\"><title>1&#45;&gt;5</title>\r\n",
       "<path fill=\"none\" stroke=\"black\" d=\"M243.74,-192.884C246.91,-182.106 250.439,-170.108 253.652,-159.184\"/>\r\n",
       "<polygon fill=\"black\" stroke=\"black\" points=\"257.03,-160.101 256.494,-149.52 250.315,-158.126 257.03,-160.101\"/>\r\n",
       "</g>\r\n",
       "<!-- 3 -->\r\n",
       "<g id=\"node4\" class=\"node\"><title>3</title>\r\n",
       "<polygon fill=\"none\" stroke=\"black\" points=\"138,-53 0,-53 0,-0 138,-0 138,-53\"/>\r\n",
       "<text text-anchor=\"middle\" x=\"69\" y=\"-37.8\" font-family=\"Times New Roman,serif\" font-size=\"14.00\">gini = 0.044</text>\r\n",
       "<text text-anchor=\"middle\" x=\"69\" y=\"-22.8\" font-family=\"Times New Roman,serif\" font-size=\"14.00\">samples = 80491</text>\r\n",
       "<text text-anchor=\"middle\" x=\"69\" y=\"-7.8\" font-family=\"Times New Roman,serif\" font-size=\"14.00\">value = [78678, 1813]</text>\r\n",
       "</g>\r\n",
       "<!-- 2&#45;&gt;3 -->\r\n",
       "<g id=\"edge3\" class=\"edge\"><title>2&#45;&gt;3</title>\r\n",
       "<path fill=\"none\" stroke=\"black\" d=\"M96.3104,-88.9485C92.5293,-80.4408 88.4472,-71.2562 84.6206,-62.6464\"/>\r\n",
       "<polygon fill=\"black\" stroke=\"black\" points=\"87.6983,-60.9533 80.4385,-53.2367 81.3016,-63.7963 87.6983,-60.9533\"/>\r\n",
       "</g>\r\n",
       "<!-- 4 -->\r\n",
       "<g id=\"node5\" class=\"node\"><title>4</title>\r\n",
       "<polygon fill=\"none\" stroke=\"black\" points=\"281.5,-53 156.5,-53 156.5,-0 281.5,-0 281.5,-53\"/>\r\n",
       "<text text-anchor=\"middle\" x=\"219\" y=\"-37.8\" font-family=\"Times New Roman,serif\" font-size=\"14.00\">gini = 0.36</text>\r\n",
       "<text text-anchor=\"middle\" x=\"219\" y=\"-22.8\" font-family=\"Times New Roman,serif\" font-size=\"14.00\">samples = 2701</text>\r\n",
       "<text text-anchor=\"middle\" x=\"219\" y=\"-7.8\" font-family=\"Times New Roman,serif\" font-size=\"14.00\">value = [636, 2065]</text>\r\n",
       "</g>\r\n",
       "<!-- 2&#45;&gt;4 -->\r\n",
       "<g id=\"edge4\" class=\"edge\"><title>2&#45;&gt;4</title>\r\n",
       "<path fill=\"none\" stroke=\"black\" d=\"M148.773,-88.9485C159.542,-79.526 171.259,-69.2731 181.982,-59.8906\"/>\r\n",
       "<polygon fill=\"black\" stroke=\"black\" points=\"184.366,-62.4558 189.587,-53.2367 179.756,-57.1878 184.366,-62.4558\"/>\r\n",
       "</g>\r\n",
       "<!-- 7 -->\r\n",
       "<g id=\"node8\" class=\"node\"><title>7</title>\r\n",
       "<polygon fill=\"none\" stroke=\"black\" points=\"551.5,-157 406.5,-157 406.5,-89 551.5,-89 551.5,-157\"/>\r\n",
       "<text text-anchor=\"middle\" x=\"479\" y=\"-141.8\" font-family=\"Times New Roman,serif\" font-size=\"14.00\">x6_Device &lt;= 0.5</text>\r\n",
       "<text text-anchor=\"middle\" x=\"479\" y=\"-126.8\" font-family=\"Times New Roman,serif\" font-size=\"14.00\">gini = 0.495</text>\r\n",
       "<text text-anchor=\"middle\" x=\"479\" y=\"-111.8\" font-family=\"Times New Roman,serif\" font-size=\"14.00\">samples = 34940</text>\r\n",
       "<text text-anchor=\"middle\" x=\"479\" y=\"-96.8\" font-family=\"Times New Roman,serif\" font-size=\"14.00\">value = [15764, 19176]</text>\r\n",
       "</g>\r\n",
       "<!-- 6&#45;&gt;7 -->\r\n",
       "<g id=\"edge7\" class=\"edge\"><title>6&#45;&gt;7</title>\r\n",
       "<path fill=\"none\" stroke=\"black\" d=\"M498.585,-192.884C496.255,-184.689 493.724,-175.789 491.28,-167.192\"/>\r\n",
       "<polygon fill=\"black\" stroke=\"black\" points=\"494.569,-165.961 488.467,-157.299 487.836,-167.875 494.569,-165.961\"/>\r\n",
       "</g>\r\n",
       "<!-- 10 -->\r\n",
       "<g id=\"node11\" class=\"node\"><title>10</title>\r\n",
       "<polygon fill=\"none\" stroke=\"black\" points=\"708,-149.5 570,-149.5 570,-96.5 708,-96.5 708,-149.5\"/>\r\n",
       "<text text-anchor=\"middle\" x=\"639\" y=\"-134.3\" font-family=\"Times New Roman,serif\" font-size=\"14.00\">gini = 0.163</text>\r\n",
       "<text text-anchor=\"middle\" x=\"639\" y=\"-119.3\" font-family=\"Times New Roman,serif\" font-size=\"14.00\">samples = 90964</text>\r\n",
       "<text text-anchor=\"middle\" x=\"639\" y=\"-104.3\" font-family=\"Times New Roman,serif\" font-size=\"14.00\">value = [8120, 82844]</text>\r\n",
       "</g>\r\n",
       "<!-- 6&#45;&gt;10 -->\r\n",
       "<g id=\"edge10\" class=\"edge\"><title>6&#45;&gt;10</title>\r\n",
       "<path fill=\"none\" stroke=\"black\" d=\"M550.532,-192.884C565.787,-181.006 582.944,-167.646 598.061,-155.876\"/>\r\n",
       "<polygon fill=\"black\" stroke=\"black\" points=\"600.484,-158.425 606.224,-149.52 596.184,-152.902 600.484,-158.425\"/>\r\n",
       "</g>\r\n",
       "<!-- 8 -->\r\n",
       "<g id=\"node9\" class=\"node\"><title>8</title>\r\n",
       "<polygon fill=\"none\" stroke=\"black\" points=\"493,-53 355,-53 355,-0 493,-0 493,-53\"/>\r\n",
       "<text text-anchor=\"middle\" x=\"424\" y=\"-37.8\" font-family=\"Times New Roman,serif\" font-size=\"14.00\">gini = 0.447</text>\r\n",
       "<text text-anchor=\"middle\" x=\"424\" y=\"-22.8\" font-family=\"Times New Roman,serif\" font-size=\"14.00\">samples = 26748</text>\r\n",
       "<text text-anchor=\"middle\" x=\"424\" y=\"-7.8\" font-family=\"Times New Roman,serif\" font-size=\"14.00\">value = [9029, 17719]</text>\r\n",
       "</g>\r\n",
       "<!-- 7&#45;&gt;8 -->\r\n",
       "<g id=\"edge8\" class=\"edge\"><title>7&#45;&gt;8</title>\r\n",
       "<path fill=\"none\" stroke=\"black\" d=\"M459.764,-88.9485C454.706,-80.2579 449.236,-70.8608 444.133,-62.0917\"/>\r\n",
       "<polygon fill=\"black\" stroke=\"black\" points=\"447.034,-60.1189 438.979,-53.2367 440.984,-63.6401 447.034,-60.1189\"/>\r\n",
       "</g>\r\n",
       "<!-- 9 -->\r\n",
       "<g id=\"node10\" class=\"node\"><title>9</title>\r\n",
       "<polygon fill=\"none\" stroke=\"black\" points=\"642.5,-53 511.5,-53 511.5,-0 642.5,-0 642.5,-53\"/>\r\n",
       "<text text-anchor=\"middle\" x=\"577\" y=\"-37.8\" font-family=\"Times New Roman,serif\" font-size=\"14.00\">gini = 0.292</text>\r\n",
       "<text text-anchor=\"middle\" x=\"577\" y=\"-22.8\" font-family=\"Times New Roman,serif\" font-size=\"14.00\">samples = 8192</text>\r\n",
       "<text text-anchor=\"middle\" x=\"577\" y=\"-7.8\" font-family=\"Times New Roman,serif\" font-size=\"14.00\">value = [6735, 1457]</text>\r\n",
       "</g>\r\n",
       "<!-- 7&#45;&gt;9 -->\r\n",
       "<g id=\"edge9\" class=\"edge\"><title>7&#45;&gt;9</title>\r\n",
       "<path fill=\"none\" stroke=\"black\" d=\"M513.276,-88.9485C522.857,-79.709 533.267,-69.671 542.842,-60.4381\"/>\r\n",
       "<polygon fill=\"black\" stroke=\"black\" points=\"545.541,-62.6976 550.31,-53.2367 540.682,-57.6586 545.541,-62.6976\"/>\r\n",
       "</g>\r\n",
       "</g>\r\n",
       "</svg>\r\n"
      ],
      "text/plain": [
       "<graphviz.files.Source at 0x273922dda90>"
      ]
     },
     "execution_count": 88,
     "metadata": {},
     "output_type": "execute_result"
    }
   ],
   "source": [
    "tree = Pipeline([('preprocessing', prep), ('Tree',DecisionTreeClassifier( \n",
    "                                        min_impurity_decrease=0.01,\n",
    "                                     \n",
    "                                        min_samples_leaf=20, min_samples_split=40,\n",
    "                                        min_weight_fraction_leaf=0.0001,))])\n",
    "\n",
    "tree.fit(X_train,y_train)\n",
    "\n",
    "print(\"{0} training accuracy: {1:.3f} and test accuracy: {2:.3f}\".\\\n",
    "      format('tree',\\\n",
    "              tree.score(X_train,y_train),tree.score(X_test,y_test)))\n",
    "\n",
    "tree_dot = export_graphviz(tree.named_steps['Tree'], out_file=None, feature_names=cols)\n",
    "graph = graphviz.Source(tree_dot)\n",
    "graph.render(cleanup=True)\n",
    "graph"
   ]
  },
  {
   "cell_type": "code",
   "execution_count": 89,
   "metadata": {},
   "outputs": [
    {
     "data": {
      "image/png": "[encoded data removed]",
      "text/plain": [
       "<Figure size 432x288 with 1 Axes>"
      ]
     },
     "metadata": {
      "needs_background": "light"
     },
     "output_type": "display_data"
    }
   ],
   "source": [
    "fpr_log, tpr_log, thresholds_log = roc_curve(y_test, log.predict_proba(X_test)[:,1])\n",
    "fpr_tree, tpr_tree, thresholds_tree = roc_curve(y_test, tree.predict_proba(X_test)[:,1])\n",
    "plt.plot(fpr_tree, tpr_tree, label = 'Decision Tree')\n",
    "plt.plot(fpr_log, tpr_log, label = 'Log')\n",
    "plt.xlabel(\"FPR\")\n",
    "plt.ylabel(\"TPR\")\n",
    "plt.title(\"ROC Curve for Tree and Log\")\n",
    "plt.legend()\n",
    "plt.show()"
   ]
  },
  {
   "cell_type": "markdown",
   "metadata": {},
   "source": [
    "### Step 4 Refining the variables\n",
    "1. those vars that dropped due to so many categories, check whether we can aggregate them\n",
    "2. for string var, use NLP to check "
   ]
  },
  {
   "cell_type": "code",
   "execution_count": 93,
   "metadata": {
    "collapsed": true
   },
   "outputs": [
    {
     "ename": "ValueError",
     "evalue": "cannot insert level_0, already exists",
     "output_type": "error",
     "traceback": [
      "\u001b[1;31m---------------------------------------------------------------------------\u001b[0m",
      "\u001b[1;31mValueError\u001b[0m                                Traceback (most recent call last)",
      "\u001b[1;32m<ipython-input-93-16eacaf864e6>\u001b[0m in \u001b[0;36m<module>\u001b[1;34m\u001b[0m\n\u001b[1;32m----> 1\u001b[1;33m \u001b[0mcomb_reg\u001b[0m\u001b[1;33m.\u001b[0m\u001b[0mreset_index\u001b[0m\u001b[1;33m(\u001b[0m\u001b[0minplace\u001b[0m\u001b[1;33m=\u001b[0m\u001b[1;32mTrue\u001b[0m\u001b[1;33m)\u001b[0m\u001b[1;33m\u001b[0m\u001b[1;33m\u001b[0m\u001b[0m\n\u001b[0m",
      "\u001b[1;32m~\\Anaconda3\\lib\\site-packages\\pandas\\core\\frame.py\u001b[0m in \u001b[0;36mreset_index\u001b[1;34m(self, level, drop, inplace, col_level, col_fill)\u001b[0m\n\u001b[0;32m   4707\u001b[0m                 \u001b[1;31m# to ndarray and maybe infer different dtype\u001b[0m\u001b[1;33m\u001b[0m\u001b[1;33m\u001b[0m\u001b[1;33m\u001b[0m\u001b[0m\n\u001b[0;32m   4708\u001b[0m                 \u001b[0mlevel_values\u001b[0m \u001b[1;33m=\u001b[0m \u001b[0m_maybe_casted_values\u001b[0m\u001b[1;33m(\u001b[0m\u001b[0mlev\u001b[0m\u001b[1;33m,\u001b[0m \u001b[0mlab\u001b[0m\u001b[1;33m)\u001b[0m\u001b[1;33m\u001b[0m\u001b[1;33m\u001b[0m\u001b[0m\n\u001b[1;32m-> 4709\u001b[1;33m                 \u001b[0mnew_obj\u001b[0m\u001b[1;33m.\u001b[0m\u001b[0minsert\u001b[0m\u001b[1;33m(\u001b[0m\u001b[1;36m0\u001b[0m\u001b[1;33m,\u001b[0m \u001b[0mname\u001b[0m\u001b[1;33m,\u001b[0m \u001b[0mlevel_values\u001b[0m\u001b[1;33m)\u001b[0m\u001b[1;33m\u001b[0m\u001b[1;33m\u001b[0m\u001b[0m\n\u001b[0m\u001b[0;32m   4710\u001b[0m \u001b[1;33m\u001b[0m\u001b[0m\n\u001b[0;32m   4711\u001b[0m         \u001b[0mnew_obj\u001b[0m\u001b[1;33m.\u001b[0m\u001b[0mindex\u001b[0m \u001b[1;33m=\u001b[0m \u001b[0mnew_index\u001b[0m\u001b[1;33m\u001b[0m\u001b[1;33m\u001b[0m\u001b[0m\n",
      "\u001b[1;32m~\\Anaconda3\\lib\\site-packages\\pandas\\core\\frame.py\u001b[0m in \u001b[0;36minsert\u001b[1;34m(self, loc, column, value, allow_duplicates)\u001b[0m\n\u001b[0;32m   3589\u001b[0m         \u001b[0mself\u001b[0m\u001b[1;33m.\u001b[0m\u001b[0m_ensure_valid_index\u001b[0m\u001b[1;33m(\u001b[0m\u001b[0mvalue\u001b[0m\u001b[1;33m)\u001b[0m\u001b[1;33m\u001b[0m\u001b[1;33m\u001b[0m\u001b[0m\n\u001b[0;32m   3590\u001b[0m         \u001b[0mvalue\u001b[0m \u001b[1;33m=\u001b[0m \u001b[0mself\u001b[0m\u001b[1;33m.\u001b[0m\u001b[0m_sanitize_column\u001b[0m\u001b[1;33m(\u001b[0m\u001b[0mcolumn\u001b[0m\u001b[1;33m,\u001b[0m \u001b[0mvalue\u001b[0m\u001b[1;33m,\u001b[0m \u001b[0mbroadcast\u001b[0m\u001b[1;33m=\u001b[0m\u001b[1;32mFalse\u001b[0m\u001b[1;33m)\u001b[0m\u001b[1;33m\u001b[0m\u001b[1;33m\u001b[0m\u001b[0m\n\u001b[1;32m-> 3591\u001b[1;33m         \u001b[0mself\u001b[0m\u001b[1;33m.\u001b[0m\u001b[0m_data\u001b[0m\u001b[1;33m.\u001b[0m\u001b[0minsert\u001b[0m\u001b[1;33m(\u001b[0m\u001b[0mloc\u001b[0m\u001b[1;33m,\u001b[0m \u001b[0mcolumn\u001b[0m\u001b[1;33m,\u001b[0m \u001b[0mvalue\u001b[0m\u001b[1;33m,\u001b[0m \u001b[0mallow_duplicates\u001b[0m\u001b[1;33m=\u001b[0m\u001b[0mallow_duplicates\u001b[0m\u001b[1;33m)\u001b[0m\u001b[1;33m\u001b[0m\u001b[1;33m\u001b[0m\u001b[0m\n\u001b[0m\u001b[0;32m   3592\u001b[0m \u001b[1;33m\u001b[0m\u001b[0m\n\u001b[0;32m   3593\u001b[0m     \u001b[1;32mdef\u001b[0m \u001b[0massign\u001b[0m\u001b[1;33m(\u001b[0m\u001b[0mself\u001b[0m\u001b[1;33m,\u001b[0m \u001b[1;33m**\u001b[0m\u001b[0mkwargs\u001b[0m\u001b[1;33m)\u001b[0m\u001b[1;33m:\u001b[0m\u001b[1;33m\u001b[0m\u001b[1;33m\u001b[0m\u001b[0m\n",
      "\u001b[1;32m~\\Anaconda3\\lib\\site-packages\\pandas\\core\\internals\\managers.py\u001b[0m in \u001b[0;36minsert\u001b[1;34m(self, loc, item, value, allow_duplicates)\u001b[0m\n\u001b[0;32m   1171\u001b[0m         \u001b[1;32mif\u001b[0m \u001b[1;32mnot\u001b[0m \u001b[0mallow_duplicates\u001b[0m \u001b[1;32mand\u001b[0m \u001b[0mitem\u001b[0m \u001b[1;32min\u001b[0m \u001b[0mself\u001b[0m\u001b[1;33m.\u001b[0m\u001b[0mitems\u001b[0m\u001b[1;33m:\u001b[0m\u001b[1;33m\u001b[0m\u001b[1;33m\u001b[0m\u001b[0m\n\u001b[0;32m   1172\u001b[0m             \u001b[1;31m# Should this be a different kind of error??\u001b[0m\u001b[1;33m\u001b[0m\u001b[1;33m\u001b[0m\u001b[1;33m\u001b[0m\u001b[0m\n\u001b[1;32m-> 1173\u001b[1;33m             \u001b[1;32mraise\u001b[0m \u001b[0mValueError\u001b[0m\u001b[1;33m(\u001b[0m\u001b[1;34m\"cannot insert {}, already exists\"\u001b[0m\u001b[1;33m.\u001b[0m\u001b[0mformat\u001b[0m\u001b[1;33m(\u001b[0m\u001b[0mitem\u001b[0m\u001b[1;33m)\u001b[0m\u001b[1;33m)\u001b[0m\u001b[1;33m\u001b[0m\u001b[1;33m\u001b[0m\u001b[0m\n\u001b[0m\u001b[0;32m   1174\u001b[0m \u001b[1;33m\u001b[0m\u001b[0m\n\u001b[0;32m   1175\u001b[0m         \u001b[1;32mif\u001b[0m \u001b[1;32mnot\u001b[0m \u001b[0misinstance\u001b[0m\u001b[1;33m(\u001b[0m\u001b[0mloc\u001b[0m\u001b[1;33m,\u001b[0m \u001b[0mint\u001b[0m\u001b[1;33m)\u001b[0m\u001b[1;33m:\u001b[0m\u001b[1;33m\u001b[0m\u001b[1;33m\u001b[0m\u001b[0m\n",
      "\u001b[1;31mValueError\u001b[0m: cannot insert level_0, already exists"
     ]
    }
   ],
   "source": [
    "comb_reg.reset_index(inplace=True)\n",
    "comb_reg.drop('index',axis=1,inplace=True)"
   ]
  },
  {
   "cell_type": "code",
   "execution_count": 95,
   "metadata": {},
   "outputs": [
    {
     "data": {
      "text/plain": [
       "Index(['level_0', 'index',\n",
       "       'Applicable_Manufacturer_or_Applicable_GPO_Making_Payment_Country',\n",
       "       'Applicable_Manufacturer_or_Applicable_GPO_Making_Payment_State',\n",
       "       'Change_Type', 'Covered_or_Noncovered_Indicator_1',\n",
       "       'Dispute_Status_for_Publication',\n",
       "       'Form_of_Payment_or_Transfer_of_Value',\n",
       "       'Indicate_Drug_or_Biological_or_Device_or_Medical_Supply_1',\n",
       "       'Recipient_Country', 'Recipient_State', 'Related_Product_Indicator',\n",
       "       'Total_Amount_of_Payment_USDollars'],\n",
       "      dtype='object')"
      ]
     },
     "execution_count": 95,
     "metadata": {},
     "output_type": "execute_result"
    }
   ],
   "source": [
    "comb_reg.columns"
   ]
  },
  {
   "cell_type": "code",
   "execution_count": 27,
   "metadata": {},
   "outputs": [
    {
     "name": "stdout",
     "output_type": "stream",
     "text": [
      "gen\n",
      "50458-580-30    4988\n",
      "0169-4060-90    4756\n",
      "00031-062-10    3789\n",
      "0078-0659-20    3189\n",
      "50458-140-30    2724\n",
      "55513-710-01    2724\n",
      "0002-1433-80    2294\n",
      "0006-0277-82    2244\n",
      "00597-0152-0    2229\n",
      "0074-4339-02    2157\n",
      "Name: Associated_Drug_or_Biological_NDC_1, dtype: int64\n",
      "res\n",
      "0006-3029-01    9568\n",
      "62856-529-60    8493\n",
      "64406-006-02    3538\n",
      "0597-0140-30    2782\n",
      "0169-2660-15    2732\n",
      "65757-300-01    2109\n",
      "0597-0152-30    1920\n",
      "0069-0187-21    1788\n",
      "0024-5901-00    1755\n",
      "62856-710-30    1645\n",
      "Name: Associated_Drug_or_Biological_NDC_1, dtype: int64\n",
      "In common\n",
      "0\n"
     ]
    }
   ],
   "source": [
    "top_cat(\"Associated_Drug_or_Biological_NDC_1\")"
   ]
  },
  {
   "cell_type": "code",
   "execution_count": 17,
   "metadata": {},
   "outputs": [],
   "source": [
    "#break them down and check the pattern\n",
    "s=[]\n",
    "for  i in comb[ \"Associated_Drug_or_Biological_NDC_1\"].fillna('0-0-0'): \n",
    "    s.append(i.split('-'))\n",
    "NDC_1_DF=pd.DataFrame(s,columns=['dig1','dig2','dig3'])              "
   ]
  },
  {
   "cell_type": "code",
   "execution_count": 102,
   "metadata": {},
   "outputs": [],
   "source": [
    "comb_modify=pd.concat([comb_reg,NDC_1_DF],axis=1)"
   ]
  },
  {
   "cell_type": "code",
   "execution_count": 18,
   "metadata": {},
   "outputs": [],
   "source": [
    "for i in ['dig1','dig2','dig3']: \n",
    "    l=comb_modify[i].value_counts()[:10].index.tolist()\n",
    "    comb_modify[i] = np.where([i in l for i in comb_modify[i]], comb_modify[i],'0')"
   ]
  },
  {
   "cell_type": "markdown",
   "metadata": {},
   "source": [
    "for this variable, we want to break down into 3 digits and leave the top 10 unchanged for each one"
   ]
  },
  {
   "cell_type": "markdown",
   "metadata": {},
   "source": [
    "check Applicable_Manufacturer_or_Applicable_GPO_Making_Payment_ID  and leave top 10 category"
   ]
  },
  {
   "cell_type": "code",
   "execution_count": 103,
   "metadata": {},
   "outputs": [],
   "source": [
    "l=comb.Applicable_Manufacturer_or_Applicable_GPO_Making_Payment_ID.value_counts()[:20]\n",
    "\n",
    "l.index\n",
    "\n",
    "[i in l.index for i in comb['Applicable_Manufacturer_or_Applicable_GPO_Making_Payment_ID'] ]\n",
    "\n",
    "comb_modify['Applicable_Manufacturer_or_Applicable_GPO_M']=\\\n",
    "np.where([i in l.index for i in comb['Applicable_Manufacturer_or_Applicable_GPO_Making_Payment_ID'] ],\\\n",
    "         comb['Applicable_Manufacturer_or_Applicable_GPO_Making_Payment_ID'],'000000000000')"
   ]
  },
  {
   "cell_type": "markdown",
   "metadata": {},
   "source": [
    "CHECK DATE OF PAYMENT"
   ]
  },
  {
   "cell_type": "code",
   "execution_count": 104,
   "metadata": {},
   "outputs": [],
   "source": [
    "comb_modify['Payment_Weekday']=\\\n",
    "pd.to_datetime(comb['Date_of_Payment']).apply(lambda x:str(x.weekday())).tolist()"
   ]
  },
  {
   "cell_type": "code",
   "execution_count": 105,
   "metadata": {},
   "outputs": [],
   "source": [
    "comb_modify['Payment_Month']=\\\n",
    "pd.to_datetime(comb['Date_of_Payment']).apply(lambda x:str(x.month)).tolist()"
   ]
  },
  {
   "cell_type": "markdown",
   "metadata": {},
   "source": [
    "Check name of drug"
   ]
  },
  {
   "cell_type": "code",
   "execution_count": 153,
   "metadata": {},
   "outputs": [
    {
     "data": {
      "text/plain": [
       "KEYTRUDA                             9995\n",
       "Belviq                               8641\n",
       "Victoza                              5820\n",
       "XARELTO                              5621\n",
       "JARDIANCE                            4614\n",
       "                                     ... \n",
       "Oryx and Lotus                          1\n",
       "Provox Laryngectomy Pulmonary Kit       1\n",
       "SELF-CATH                               1\n",
       "SHIFT                                   1\n",
       "RECOMBIVAX HIB                          1\n",
       "Name: Name_of_Drug_or_Biological_or_Device_or_Medical_Supply_1, Length: 5026, dtype: int64"
      ]
     },
     "execution_count": 153,
     "metadata": {},
     "output_type": "execute_result"
    }
   ],
   "source": [
    "comb['Name_of_Drug_or_Biological_or_Device_or_Medical_Supply_1'].value_counts()"
   ]
  },
  {
   "cell_type": "code",
   "execution_count": 154,
   "metadata": {},
   "outputs": [
    {
     "name": "stdout",
     "output_type": "stream",
     "text": [
      "gen\n",
      "XARELTO      4998\n",
      "Victoza      4756\n",
      "FARXIGA      3789\n",
      "ENTRESTO     3184\n",
      "ELIQUIS      3047\n",
      "JARDIANCE    2751\n",
      "INVOKANA     2730\n",
      "Prolia       2724\n",
      "TRULICITY    2294\n",
      "JANUVIA      2244\n",
      "Name: Name_of_Drug_or_Biological_or_Device_or_Medical_Supply_1, dtype: int64\n",
      "res\n",
      "KEYTRUDA               9568\n",
      "Belviq                 8493\n",
      "TECFIDERA              3538\n",
      "TRADJENTA              2782\n",
      "Tresiba                2732\n",
      "Non-Covered Product    2487\n",
      "Sentus                 2232\n",
      "Vivitrol 380mg         2109\n",
      "SAR231893              1888\n",
      "JARDIANCE              1863\n",
      "Name: Name_of_Drug_or_Biological_or_Device_or_Medical_Supply_1, dtype: int64\n",
      "In common\n",
      "1\n"
     ]
    }
   ],
   "source": [
    "top_cat('Name_of_Drug_or_Biological_or_Device_or_Medical_Supply_1')"
   ]
  },
  {
   "cell_type": "markdown",
   "metadata": {},
   "source": [
    "This the type of drug associated with the payment, <br>\n",
    "Standardize the format and try to extract key element"
   ]
  },
  {
   "cell_type": "code",
   "execution_count": 106,
   "metadata": {},
   "outputs": [],
   "source": [
    "conv=comb['Name_of_Drug_or_Biological_or_Device_or_Medical_Supply_1'].apply(lambda x:str(x).lower())#.value_counts()\n",
    "\n",
    "conv=comb['Name_of_Drug_or_Biological_or_Device_or_Medical_Supply_1'].apply(lambda x:str(x).lower())\n",
    "l=conv.value_counts()[:20]\n",
    "\n",
    "comb_modify['Name_of_Drug_or_Biological_or_Device_or_Medical_Supply_1_M']=\\\n",
    "np.where([i in l.index for i in conv],conv,'Other')"
   ]
  },
  {
   "cell_type": "markdown",
   "metadata": {},
   "source": [
    "check 'Product_Category_or_Therapeutic_Area_1'"
   ]
  },
  {
   "cell_type": "code",
   "execution_count": 163,
   "metadata": {
    "collapsed": true
   },
   "outputs": [
    {
     "name": "stdout",
     "output_type": "stream",
     "text": [
      "gen\n",
      "Diabetes                         10319\n",
      "RESPIRATORY                       9065\n",
      "Cardiovascular & Metabolism       7788\n",
      "Immunology                        6023\n",
      "CARDIOVASCULAR                    5875\n",
      "NEUROSCIENCE                      5375\n",
      "Endocrinology                     5060\n",
      "Cardiovascular and Metabolism     4865\n",
      "GASTROENTEROLOGY                  4661\n",
      "Oncology                          4316\n",
      "Name: Product_Category_or_Therapeutic_Area_1, dtype: int64\n",
      "res\n",
      "ONCOLOGY                        18090\n",
      "Nutrition and Weight Loss        8493\n",
      "Oncology                         7688\n",
      "DIABETES                         7604\n",
      "Diabetes                         6485\n",
      "Cardiology/Vascular Diseases     5975\n",
      "NEUROLOGY                        5788\n",
      "Immunology                       3878\n",
      "CNS                              3803\n",
      "CARDIOVASCULAR                   3596\n",
      "Name: Product_Category_or_Therapeutic_Area_1, dtype: int64\n",
      "In common\n",
      "4\n"
     ]
    }
   ],
   "source": [
    "top_cat(\"Product_Category_or_Therapeutic_Area_1\")"
   ]
  },
  {
   "cell_type": "code",
   "execution_count": 107,
   "metadata": {},
   "outputs": [],
   "source": [
    "conv=comb['Product_Category_or_Therapeutic_Area_1'].apply(lambda x:str(x).lower())\n",
    "l=conv.value_counts()[:20]\n",
    "\n",
    "comb_modify['Name_of_Drug_or_Biological_or_Device_or_Medical_Supply_1_M']=\\\n",
    "np.where([i in l.index for i in conv],conv,'Other')"
   ]
  },
  {
   "cell_type": "markdown",
   "metadata": {},
   "source": [
    "check Therapeutic Area"
   ]
  },
  {
   "cell_type": "code",
   "execution_count": 109,
   "metadata": {},
   "outputs": [],
   "source": [
    "comb_modify['Product_Category']=comb['Product_Category_or_Therapeutic_Area_1'].apply(lambda x:str(x).lower()).tolist()"
   ]
  },
  {
   "cell_type": "code",
   "execution_count": 110,
   "metadata": {},
   "outputs": [],
   "source": [
    "comb_modify['Product_Category'] = np.where(comb_modify['Product_Category'].str.contains('resp', regex=True), 'resp', comb_modify['Product_Category'])\n",
    "\n",
    "comb_modify['Product_Category'] = np.where(comb_modify['Product_Category'].str.contains('diab', regex=True), 'diab', comb_modify['Product_Category'])\n",
    "\n",
    "comb_modify['Product_Category'] = np.where(comb_modify['Product_Category'].str.contains('oncol', regex=True), 'oncol', comb_modify['Product_Category'])\n",
    "\n",
    "comb_modify['Product_Category'] = np.where(comb_modify['Product_Category'].str.contains('cardio', regex=True), 'cardio', comb_modify['Product_Category'])\n",
    "\n",
    "comb_modify['Product_Category'] = np.where(comb_modify['Product_Category'].str.contains('nero', regex=True), 'nero', comb_modify['Product_Category'])\n",
    "\n",
    "comb_modify['Product_Category'] = np.where(comb_modify['Product_Category'].str.contains('immun', regex=True), 'immun', comb_modify['Product_Category'])\n",
    "\n",
    "comb_modify['Product_Category'] = np.where(comb_modify['Product_Category'].str.contains('gastro', regex=True), 'gastro', comb_modify['Product_Category'])\n",
    "\n",
    "comb_modify['Product_Category'] = np.where(comb_modify['Product_Category'].str.contains\\\n",
    "                                           ('resp|diab|oncol|cardio|nero|immun|gastro', regex=True), comb_modify['Product_Category'], 'other')\n"
   ]
  },
  {
   "cell_type": "code",
   "execution_count": 111,
   "metadata": {},
   "outputs": [
    {
     "data": {
      "text/plain": [
       "other     252194\n",
       "cardio     40909\n",
       "oncol      38574\n",
       "diab       29288\n",
       "resp       16542\n",
       "immun      14425\n",
       "gastro      8066\n",
       "Name: Product_Category, dtype: int64"
      ]
     },
     "execution_count": 111,
     "metadata": {},
     "output_type": "execute_result"
    }
   ],
   "source": [
    "comb_modify['Product_Category'].value_counts()"
   ]
  },
  {
   "cell_type": "code",
   "execution_count": 176,
   "metadata": {},
   "outputs": [
    {
     "name": "stdout",
     "output_type": "stream",
     "text": [
      "gen\n",
      "9500 EUCLID AVE            226\n",
      "11100 EUCLID AVE           175\n",
      "2500 N STATE ST            161\n",
      "200 1ST ST SW              139\n",
      "5323 HARRY HINES BLVD      128\n",
      "10666 N TORREY PINES RD    124\n",
      "100 E LANCASTER AVE        122\n",
      "3800 RESERVOIR RD NW       114\n",
      "6550 FANNIN ST             103\n",
      "3400 SPRUCE ST              95\n",
      "Name: Recipient_Primary_Business_Street_Address_Line1, dtype: int64\n",
      "res\n",
      "1 Triangle Dr                1838\n",
      "12221 MERIT DR STE 500        920\n",
      "619 SOUTH 19TH STREET         808\n",
      "1515 HOLCOMBE BLVD            738\n",
      "2301 COMMONWEALTH BLVD        532\n",
      "450 BROOKLINE AVE             505\n",
      "175 CROSS KEYS ROAD           477\n",
      "11818 WILSHIRE BLVD           461\n",
      "1211 MEDICAL CENTER DRIVE     440\n",
      "3730 S EASTERN AVE            429\n",
      "Name: Recipient_Primary_Business_Street_Address_Line1, dtype: int64\n",
      "In common\n",
      "0\n"
     ]
    }
   ],
   "source": [
    "top_cat('Recipient_Primary_Business_Street_Address_Line1')"
   ]
  },
  {
   "cell_type": "markdown",
   "metadata": {},
   "source": [
    "the address field is hard to extract any information"
   ]
  },
  {
   "cell_type": "code",
   "execution_count": 177,
   "metadata": {},
   "outputs": [
    {
     "name": "stdout",
     "output_type": "stream",
     "text": [
      "gen\n",
      "Janssen Pharmaceuticals, Inc                  11108\n",
      "Pfizer Inc.                                   10609\n",
      "Allergan Inc.                                  9052\n",
      "AstraZeneca Pharmaceuticals LP                 8224\n",
      "Novo Nordisk Inc                               7504\n",
      "Merck Sharp & Dohme Corporation                6763\n",
      "Amgen Inc.                                     6076\n",
      "Novartis Pharmaceuticals Corporation           5970\n",
      "GlaxoSmithKline, LLC.                          5838\n",
      "Boehringer Ingelheim Pharmaceuticals, Inc.     5687\n",
      "Name: Submitting_Applicable_Manufacturer_or_Applicable_GPO_Name, dtype: int64\n",
      "res\n",
      "Pfizer Inc.                                   15205\n",
      "Merck Sharp & Dohme Corporation               13370\n",
      "Incyte Corporation                            12030\n",
      "Eisai Inc.                                    10933\n",
      "Sanofi and Genzyme US Companies               10713\n",
      "Boehringer Ingelheim Corporate Center GmbH     9723\n",
      "Alkermes, Inc.                                 8919\n",
      "AbbVie, Inc.                                   7543\n",
      "Novo Nordisk Inc                               6791\n",
      "Genentech, Inc.                                6687\n",
      "Name: Submitting_Applicable_Manufacturer_or_Applicable_GPO_Name, dtype: int64\n",
      "In common\n",
      "3\n"
     ]
    }
   ],
   "source": [
    "top_cat('Submitting_Applicable_Manufacturer_or_Applicable_GPO_Name')"
   ]
  },
  {
   "cell_type": "code",
   "execution_count": 112,
   "metadata": {},
   "outputs": [
    {
     "data": {
      "text/plain": [
       "other          241971\n",
       "pfizer          25655\n",
       "merck           20426\n",
       "sanofi          16674\n",
       "boehringer      16564\n",
       "janssen         16563\n",
       "novo            14274\n",
       "abbvie,         13110\n",
       "incyte          12231\n",
       "astrazeneca     11420\n",
       "eisai           11110\n",
       "Name: GPO_M, dtype: int64"
      ]
     },
     "execution_count": 112,
     "metadata": {},
     "output_type": "execute_result"
    }
   ],
   "source": [
    "GPO=comb['Submitting_Applicable_Manufacturer_or_Applicable_GPO_Name'].fillna('NA').apply(lambda x: x.lower().split(' ')[0])\n",
    "\n",
    "L=GPO.value_counts()[:10].index\n",
    "\n",
    "comb_modify['GPO_M']=[i if i in L else 'other' for i in GPO ]\n",
    "\n",
    "comb_modify['GPO_M'].value_counts()"
   ]
  },
  {
   "cell_type": "markdown",
   "metadata": {},
   "source": [
    "### Step 5. Refining Models"
   ]
  },
  {
   "cell_type": "code",
   "execution_count": 113,
   "metadata": {},
   "outputs": [],
   "source": [
    "comb_modify.to_csv('comb_modify.csv')"
   ]
  },
  {
   "cell_type": "code",
   "execution_count": 4,
   "metadata": {},
   "outputs": [],
   "source": [
    "comb_modify=pd.read_csv('comb_modify.csv')"
   ]
  },
  {
   "cell_type": "code",
   "execution_count": 12,
   "metadata": {},
   "outputs": [],
   "source": [
    "comb_modify['Total_Amount_of_Payment_USDollars']=np.log(comb['Total_Amount_of_Payment_USDollars'].tolist())"
   ]
  },
  {
   "cell_type": "code",
   "execution_count": 34,
   "metadata": {},
   "outputs": [
    {
     "name": "stdout",
     "output_type": "stream",
     "text": [
      "<class 'pandas.core.frame.DataFrame'>\n",
      "RangeIndex: 399998 entries, 0 to 399997\n",
      "Data columns (total 20 columns):\n",
      "Unnamed: 0                                                          399998 non-null int64\n",
      "Applicable_Manufacturer_or_Applicable_GPO_Making_Payment_Country    399998 non-null object\n",
      "Applicable_Manufacturer_or_Applicable_GPO_Making_Payment_State      399998 non-null object\n",
      "Covered_or_Noncovered_Indicator_1                                   399998 non-null object\n",
      "Dispute_Status_for_Publication                                      399998 non-null object\n",
      "Form_of_Payment_or_Transfer_of_Value                                399998 non-null object\n",
      "Indicate_Drug_or_Biological_or_Device_or_Medical_Supply_1           399998 non-null object\n",
      "Recipient_Country                                                   399998 non-null object\n",
      "Recipient_State                                                     399998 non-null object\n",
      "Related_Product_Indicator                                           399998 non-null object\n",
      "Total_Amount_of_Payment_USDollars                                   399998 non-null float64\n",
      "dig1                                                                399998 non-null object\n",
      "dig2                                                                399998 non-null object\n",
      "dig3                                                                399998 non-null object\n",
      "Applicable_Manufacturer_or_Applicable_GPO_M                         399998 non-null int64\n",
      "Payment_Weekday                                                     399998 non-null int64\n",
      "Payment_Month                                                       399998 non-null int64\n",
      "Name_of_Drug_or_Biological_or_Device_or_Medical_Supply_1_M          399998 non-null object\n",
      "Product_Category                                                    399998 non-null object\n",
      "GPO_M                                                               399998 non-null object\n",
      "dtypes: float64(1), int64(4), object(15)\n",
      "memory usage: 61.0+ MB\n"
     ]
    }
   ],
   "source": [
    "comb_modify.info()"
   ]
  },
  {
   "cell_type": "code",
   "execution_count": 128,
   "metadata": {},
   "outputs": [],
   "source": [
    "comb_modify.drop('Applicable_Manufacturer_or_Applicable_GPO_M',axis=1,inplace=True)"
   ]
  },
  {
   "cell_type": "code",
   "execution_count": 129,
   "metadata": {},
   "outputs": [
    {
     "data": {
      "text/html": [
       "<div>\n",
       "<style scoped>\n",
       "    .dataframe tbody tr th:only-of-type {\n",
       "        vertical-align: middle;\n",
       "    }\n",
       "\n",
       "    .dataframe tbody tr th {\n",
       "        vertical-align: top;\n",
       "    }\n",
       "\n",
       "    .dataframe thead th {\n",
       "        text-align: right;\n",
       "    }\n",
       "</style>\n",
       "<table border=\"1\" class=\"dataframe\">\n",
       "  <thead>\n",
       "    <tr style=\"text-align: right;\">\n",
       "      <th></th>\n",
       "      <th>Applicable_Manufacturer_or_Applicable_GPO_Making_Payment_Country</th>\n",
       "      <th>Applicable_Manufacturer_or_Applicable_GPO_Making_Payment_State</th>\n",
       "      <th>Covered_or_Noncovered_Indicator_1</th>\n",
       "      <th>Dispute_Status_for_Publication</th>\n",
       "      <th>Form_of_Payment_or_Transfer_of_Value</th>\n",
       "      <th>Indicate_Drug_or_Biological_or_Device_or_Medical_Supply_1</th>\n",
       "      <th>Recipient_Country</th>\n",
       "      <th>Recipient_State</th>\n",
       "      <th>Related_Product_Indicator</th>\n",
       "      <th>Total_Amount_of_Payment_USDollars</th>\n",
       "      <th>dig1</th>\n",
       "      <th>dig2</th>\n",
       "      <th>dig3</th>\n",
       "      <th>Payment_Weekday</th>\n",
       "      <th>Payment_Month</th>\n",
       "      <th>Name_of_Drug_or_Biological_or_Device_or_Medical_Supply_1_M</th>\n",
       "      <th>Product_Category</th>\n",
       "      <th>GPO_M</th>\n",
       "    </tr>\n",
       "  </thead>\n",
       "  <tbody>\n",
       "    <tr>\n",
       "      <th>0</th>\n",
       "      <td>United States</td>\n",
       "      <td>TX</td>\n",
       "      <td>Covered</td>\n",
       "      <td>No</td>\n",
       "      <td>In-kind items and services</td>\n",
       "      <td>Drug</td>\n",
       "      <td>United States</td>\n",
       "      <td>PA</td>\n",
       "      <td>Yes</td>\n",
       "      <td>2.438863</td>\n",
       "      <td>0</td>\n",
       "      <td>0</td>\n",
       "      <td>30</td>\n",
       "      <td>5</td>\n",
       "      <td>8</td>\n",
       "      <td>Other</td>\n",
       "      <td>other</td>\n",
       "      <td>other</td>\n",
       "    </tr>\n",
       "    <tr>\n",
       "      <th>1</th>\n",
       "      <td>United States</td>\n",
       "      <td>FL</td>\n",
       "      <td>NA</td>\n",
       "      <td>No</td>\n",
       "      <td>Cash or cash equivalent</td>\n",
       "      <td>NA</td>\n",
       "      <td>United States</td>\n",
       "      <td>OR</td>\n",
       "      <td>No</td>\n",
       "      <td>3.099642</td>\n",
       "      <td>0</td>\n",
       "      <td>0</td>\n",
       "      <td>0</td>\n",
       "      <td>6</td>\n",
       "      <td>4</td>\n",
       "      <td>NA</td>\n",
       "      <td>other</td>\n",
       "      <td>other</td>\n",
       "    </tr>\n",
       "    <tr>\n",
       "      <th>2</th>\n",
       "      <td>United States</td>\n",
       "      <td>FL</td>\n",
       "      <td>NA</td>\n",
       "      <td>No</td>\n",
       "      <td>Cash or cash equivalent</td>\n",
       "      <td>NA</td>\n",
       "      <td>United States</td>\n",
       "      <td>CA</td>\n",
       "      <td>No</td>\n",
       "      <td>4.759349</td>\n",
       "      <td>0</td>\n",
       "      <td>0</td>\n",
       "      <td>0</td>\n",
       "      <td>1</td>\n",
       "      <td>3</td>\n",
       "      <td>NA</td>\n",
       "      <td>other</td>\n",
       "      <td>other</td>\n",
       "    </tr>\n",
       "    <tr>\n",
       "      <th>3</th>\n",
       "      <td>United States</td>\n",
       "      <td>TX</td>\n",
       "      <td>Covered</td>\n",
       "      <td>No</td>\n",
       "      <td>In-kind items and services</td>\n",
       "      <td>Drug</td>\n",
       "      <td>United States</td>\n",
       "      <td>NY</td>\n",
       "      <td>Yes</td>\n",
       "      <td>2.573375</td>\n",
       "      <td>0</td>\n",
       "      <td>0</td>\n",
       "      <td>0</td>\n",
       "      <td>4</td>\n",
       "      <td>10</td>\n",
       "      <td>Other</td>\n",
       "      <td>other</td>\n",
       "      <td>other</td>\n",
       "    </tr>\n",
       "    <tr>\n",
       "      <th>4</th>\n",
       "      <td>United States</td>\n",
       "      <td>TX</td>\n",
       "      <td>Covered</td>\n",
       "      <td>No</td>\n",
       "      <td>In-kind items and services</td>\n",
       "      <td>Drug</td>\n",
       "      <td>United States</td>\n",
       "      <td>PA</td>\n",
       "      <td>Yes</td>\n",
       "      <td>2.778819</td>\n",
       "      <td>0</td>\n",
       "      <td>0</td>\n",
       "      <td>30</td>\n",
       "      <td>1</td>\n",
       "      <td>10</td>\n",
       "      <td>Other</td>\n",
       "      <td>other</td>\n",
       "      <td>other</td>\n",
       "    </tr>\n",
       "  </tbody>\n",
       "</table>\n",
       "</div>"
      ],
      "text/plain": [
       "  Applicable_Manufacturer_or_Applicable_GPO_Making_Payment_Country  \\\n",
       "0                                      United States                 \n",
       "1                                      United States                 \n",
       "2                                      United States                 \n",
       "3                                      United States                 \n",
       "4                                      United States                 \n",
       "\n",
       "  Applicable_Manufacturer_or_Applicable_GPO_Making_Payment_State  \\\n",
       "0                                                 TX               \n",
       "1                                                 FL               \n",
       "2                                                 FL               \n",
       "3                                                 TX               \n",
       "4                                                 TX               \n",
       "\n",
       "  Covered_or_Noncovered_Indicator_1 Dispute_Status_for_Publication  \\\n",
       "0                           Covered                             No   \n",
       "1                                NA                             No   \n",
       "2                                NA                             No   \n",
       "3                           Covered                             No   \n",
       "4                           Covered                             No   \n",
       "\n",
       "  Form_of_Payment_or_Transfer_of_Value  \\\n",
       "0           In-kind items and services   \n",
       "1              Cash or cash equivalent   \n",
       "2              Cash or cash equivalent   \n",
       "3           In-kind items and services   \n",
       "4           In-kind items and services   \n",
       "\n",
       "  Indicate_Drug_or_Biological_or_Device_or_Medical_Supply_1 Recipient_Country  \\\n",
       "0                                               Drug            United States   \n",
       "1                                                 NA            United States   \n",
       "2                                                 NA            United States   \n",
       "3                                               Drug            United States   \n",
       "4                                               Drug            United States   \n",
       "\n",
       "  Recipient_State Related_Product_Indicator  \\\n",
       "0              PA                       Yes   \n",
       "1              OR                        No   \n",
       "2              CA                        No   \n",
       "3              NY                       Yes   \n",
       "4              PA                       Yes   \n",
       "\n",
       "   Total_Amount_of_Payment_USDollars dig1 dig2 dig3 Payment_Weekday  \\\n",
       "0                           2.438863    0    0   30               5   \n",
       "1                           3.099642    0    0    0               6   \n",
       "2                           4.759349    0    0    0               1   \n",
       "3                           2.573375    0    0    0               4   \n",
       "4                           2.778819    0    0   30               1   \n",
       "\n",
       "  Payment_Month Name_of_Drug_or_Biological_or_Device_or_Medical_Supply_1_M  \\\n",
       "0             8                                              Other           \n",
       "1             4                                                 NA           \n",
       "2             3                                                 NA           \n",
       "3            10                                              Other           \n",
       "4            10                                              Other           \n",
       "\n",
       "  Product_Category  GPO_M  \n",
       "0            other  other  \n",
       "1            other  other  \n",
       "2            other  other  \n",
       "3            other  other  \n",
       "4            other  other  "
      ]
     },
     "execution_count": 129,
     "metadata": {},
     "output_type": "execute_result"
    }
   ],
   "source": [
    "comb_modify.head()"
   ]
  },
  {
   "cell_type": "code",
   "execution_count": 36,
   "metadata": {},
   "outputs": [],
   "source": [
    "comb_modify.drop('Unnamed: 0',axis=1,inplace=True )"
   ]
  },
  {
   "cell_type": "code",
   "execution_count": null,
   "metadata": {},
   "outputs": [],
   "source": [
    "comb_modify['dig1']=comb_modify['dig1'].astype(str)   \n",
    "comb_modify['dig2']=comb_modify['dig2'].astype(str)  \n",
    "comb_modify['dig3']=comb_modify['dig3'].astype(str)  "
   ]
  },
  {
   "cell_type": "code",
   "execution_count": 59,
   "metadata": {},
   "outputs": [],
   "source": [
    "comb_modify['Payment_Month']=comb_modify['Payment_Month'].astype(str)  \n",
    "comb_modify['Payment_Weekday']=comb_modify['Payment_Weekday'].astype(str)  \n",
    "comb_modify['Applicable_Manufacturer_or_Applicable_GPO_M']=comb_modify['Applicable_Manufacturer_or_Applicable_GPO_M'].astype(str)  "
   ]
  },
  {
   "cell_type": "code",
   "execution_count": 60,
   "metadata": {},
   "outputs": [],
   "source": [
    "X_trainval,X_test,y_trainval,y_test=train_test_split(comb_modify,comb['Tag'])\n",
    "X_train,X_val,y_train,y_val=train_test_split(X_trainval,y_trainval)"
   ]
  },
  {
   "cell_type": "code",
   "execution_count": 61,
   "metadata": {},
   "outputs": [
    {
     "name": "stdout",
     "output_type": "stream",
     "text": [
      "<class 'pandas.core.frame.DataFrame'>\n",
      "RangeIndex: 399998 entries, 0 to 399997\n",
      "Data columns (total 19 columns):\n",
      "Applicable_Manufacturer_or_Applicable_GPO_Making_Payment_Country    399998 non-null object\n",
      "Applicable_Manufacturer_or_Applicable_GPO_Making_Payment_State      399998 non-null object\n",
      "Covered_or_Noncovered_Indicator_1                                   399998 non-null object\n",
      "Dispute_Status_for_Publication                                      399998 non-null object\n",
      "Form_of_Payment_or_Transfer_of_Value                                399998 non-null object\n",
      "Indicate_Drug_or_Biological_or_Device_or_Medical_Supply_1           399998 non-null object\n",
      "Recipient_Country                                                   399998 non-null object\n",
      "Recipient_State                                                     399998 non-null object\n",
      "Related_Product_Indicator                                           399998 non-null object\n",
      "Total_Amount_of_Payment_USDollars                                   399998 non-null float64\n",
      "dig1                                                                399998 non-null object\n",
      "dig2                                                                399998 non-null object\n",
      "dig3                                                                399998 non-null object\n",
      "Applicable_Manufacturer_or_Applicable_GPO_M                         399998 non-null object\n",
      "Payment_Weekday                                                     399998 non-null object\n",
      "Payment_Month                                                       399998 non-null object\n",
      "Name_of_Drug_or_Biological_or_Device_or_Medical_Supply_1_M          399998 non-null object\n",
      "Product_Category                                                    399998 non-null object\n",
      "GPO_M                                                               399998 non-null object\n",
      "dtypes: float64(1), object(18)\n",
      "memory usage: 58.0+ MB\n"
     ]
    }
   ],
   "source": [
    "comb_modify.info()"
   ]
  },
  {
   "cell_type": "code",
   "execution_count": 15,
   "metadata": {},
   "outputs": [],
   "source": [
    "comb_modify.fillna('NA',inplace=True)"
   ]
  },
  {
   "cell_type": "code",
   "execution_count": 53,
   "metadata": {},
   "outputs": [
    {
     "data": {
      "text/plain": [
       "Applicable_Manufacturer_or_Applicable_GPO_Making_Payment_Country       23\n",
       "Applicable_Manufacturer_or_Applicable_GPO_Making_Payment_State         47\n",
       "Covered_or_Noncovered_Indicator_1                                       3\n",
       "Dispute_Status_for_Publication                                          2\n",
       "Form_of_Payment_or_Transfer_of_Value                                    5\n",
       "Indicate_Drug_or_Biological_or_Device_or_Medical_Supply_1               5\n",
       "Recipient_Country                                                      11\n",
       "Recipient_State                                                        58\n",
       "Related_Product_Indicator                                               2\n",
       "Total_Amount_of_Payment_USDollars                                   75059\n",
       "dig1                                                                   10\n",
       "dig2                                                                   10\n",
       "dig3                                                                   10\n",
       "Applicable_Manufacturer_or_Applicable_GPO_M                            21\n",
       "Payment_Weekday                                                         7\n",
       "Payment_Month                                                          12\n",
       "Name_of_Drug_or_Biological_or_Device_or_Medical_Supply_1_M             21\n",
       "Product_Category                                                        7\n",
       "GPO_M                                                                  11\n",
       "dtype: int64"
      ]
     },
     "execution_count": 53,
     "metadata": {},
     "output_type": "execute_result"
    }
   ],
   "source": [
    "comb_modify.nunique()"
   ]
  },
  {
   "cell_type": "markdown",
   "metadata": {},
   "source": [
    "Rerun log reg"
   ]
  },
  {
   "cell_type": "code",
   "execution_count": null,
   "metadata": {},
   "outputs": [],
   "source": [
    "X_trainval,X_test,y_trainval,y_test=train_test_split(comb_modify,comb['Tag'])\n",
    "X_train,X_val,y_train,y_val=train_test_split(X_trainval,y_trainval)"
   ]
  },
  {
   "cell_type": "code",
   "execution_count": 108,
   "metadata": {},
   "outputs": [
    {
     "data": {
      "text/plain": [
       "Applicable_Manufacturer_or_Applicable_GPO_Making_Payment_Country     True\n",
       "Applicable_Manufacturer_or_Applicable_GPO_Making_Payment_State       True\n",
       "Covered_or_Noncovered_Indicator_1                                    True\n",
       "Dispute_Status_for_Publication                                       True\n",
       "Form_of_Payment_or_Transfer_of_Value                                 True\n",
       "Indicate_Drug_or_Biological_or_Device_or_Medical_Supply_1            True\n",
       "Recipient_Country                                                    True\n",
       "Recipient_State                                                      True\n",
       "Related_Product_Indicator                                            True\n",
       "Total_Amount_of_Payment_USDollars                                   False\n",
       "dig1                                                                 True\n",
       "dig2                                                                 True\n",
       "dig3                                                                 True\n",
       "Applicable_Manufacturer_or_Applicable_GPO_M                          True\n",
       "Payment_Weekday                                                      True\n",
       "Payment_Month                                                        True\n",
       "Name_of_Drug_or_Biological_or_Device_or_Medical_Supply_1_M           True\n",
       "Product_Category                                                     True\n",
       "GPO_M                                                                True\n",
       "dtype: bool"
      ]
     },
     "execution_count": 108,
     "metadata": {},
     "output_type": "execute_result"
    }
   ],
   "source": [
    "cat"
   ]
  },
  {
   "cell_type": "code",
   "execution_count": 102,
   "metadata": {},
   "outputs": [],
   "source": [
    "cat=comb_modify.dtypes=='object'\n",
    "cont=comb_modify.dtypes!='object'\n",
    "\n",
    "prep = ColumnTransformer([(\"OneHot\", OneHotEncoder(handle_unknown='ignore'),cat), ('pt', 'passthrough',cont)])"
   ]
  },
  {
   "cell_type": "code",
   "execution_count": 109,
   "metadata": {},
   "outputs": [
    {
     "name": "stderr",
     "output_type": "stream",
     "text": [
      "C:\\Users\\Yilun\\Anaconda3\\lib\\site-packages\\sklearn\\linear_model\\sag.py:337: ConvergenceWarning: The max_iter was reached which means the coef_ did not converge\n",
      "  \"the coef_ did not converge\", ConvergenceWarning)\n"
     ]
    },
    {
     "data": {
      "text/plain": [
       "Pipeline(memory=None,\n",
       "         steps=[('preprocessing',\n",
       "                 ColumnTransformer(n_jobs=None, remainder='drop',\n",
       "                                   sparse_threshold=0.3,\n",
       "                                   transformer_weights=None,\n",
       "                                   transformers=[('OneHot',\n",
       "                                                  OneHotEncoder(categorical_features=None,\n",
       "                                                                categories=None,\n",
       "                                                                drop=None,\n",
       "                                                                dtype=<class 'numpy.float64'>,\n",
       "                                                                handle_unknown='ignore',\n",
       "                                                                n_values=None,\n",
       "                                                                sparse=True),\n",
       "                                                  Applicable_Manufacturer_or_Applicable_GPO_...\n",
       "Name_of_Drug_or_Biological_or_Device_or_Medical_Supply_1_M          False\n",
       "Product_Category                                                    False\n",
       "GPO_M                                                               False\n",
       "dtype: bool)],\n",
       "                                   verbose=False)),\n",
       "                ('LogReg',\n",
       "                 LogisticRegression(C=1, class_weight=None, dual=False,\n",
       "                                    fit_intercept=True, intercept_scaling=1,\n",
       "                                    l1_ratio=None, max_iter=100,\n",
       "                                    multi_class='warn', n_jobs=None,\n",
       "                                    penalty='l1', random_state=None,\n",
       "                                    solver='saga', tol=0.0001, verbose=0,\n",
       "                                    warm_start=False))],\n",
       "         verbose=False)"
      ]
     },
     "execution_count": 109,
     "metadata": {},
     "output_type": "execute_result"
    }
   ],
   "source": [
    "log_pipe = Pipeline([('preprocessing', prep), ('LogReg',LogisticRegression(penalty='l1',solver='saga',C=1))])\n",
    "\n",
    "log_pipe.fit(X_train,y_train)"
   ]
  },
  {
   "cell_type": "code",
   "execution_count": 64,
   "metadata": {},
   "outputs": [
    {
     "data": {
      "text/plain": [
       "0.944359505417826"
      ]
     },
     "execution_count": 64,
     "metadata": {},
     "output_type": "execute_result"
    }
   ],
   "source": [
    "#LogReg seems to have a fair result. Check the actual parameter for the model -- which variable plays a more important role\n",
    "log_pipe.score(X_train,y_train)"
   ]
  },
  {
   "cell_type": "code",
   "execution_count": 65,
   "metadata": {},
   "outputs": [
    {
     "data": {
      "text/plain": [
       "0.94271"
      ]
     },
     "execution_count": 65,
     "metadata": {},
     "output_type": "execute_result"
    }
   ],
   "source": [
    "log_pipe.score(X_test,y_test)"
   ]
  },
  {
   "cell_type": "code",
   "execution_count": 66,
   "metadata": {},
   "outputs": [
    {
     "data": {
      "text/plain": [
       "261"
      ]
     },
     "execution_count": 66,
     "metadata": {},
     "output_type": "execute_result"
    }
   ],
   "source": [
    "len(log_pipe.named_steps['LogReg'].coef_[0])"
   ]
  },
  {
   "cell_type": "code",
   "execution_count": 68,
   "metadata": {},
   "outputs": [],
   "source": [
    "cols = log_pipe.named_steps['preprocessing'].named_transformers_['OneHot'].get_feature_names().tolist() \\\n",
    "+ ['Total_Amount_of_Payment_USDollars']"
   ]
  },
  {
   "cell_type": "code",
   "execution_count": 69,
   "metadata": {},
   "outputs": [
    {
     "data": {
      "text/plain": [
       "261"
      ]
     },
     "execution_count": 69,
     "metadata": {},
     "output_type": "execute_result"
    }
   ],
   "source": [
    "len(cols)"
   ]
  },
  {
   "cell_type": "code",
   "execution_count": 73,
   "metadata": {},
   "outputs": [],
   "source": [
    "a={i:j for i,j in zip(cols,  log_pipe.named_steps['LogReg'].coef_[0])}"
   ]
  },
  {
   "cell_type": "code",
   "execution_count": 78,
   "metadata": {},
   "outputs": [],
   "source": [
    "outcome=pd.Series(a)"
   ]
  },
  {
   "cell_type": "code",
   "execution_count": 88,
   "metadata": {},
   "outputs": [
    {
     "name": "stdout",
     "output_type": "stream",
     "text": [
      "0 Applicable_Manufacturer_or_Applicable_GPO_Making_Payment_Country\n",
      "1 Applicable_Manufacturer_or_Applicable_GPO_Making_Payment_State\n",
      "2 Covered_or_Noncovered_Indicator_1\n",
      "3 Dispute_Status_for_Publication\n",
      "4 Form_of_Payment_or_Transfer_of_Value\n",
      "5 Indicate_Drug_or_Biological_or_Device_or_Medical_Supply_1\n",
      "6 Recipient_Country\n",
      "7 Recipient_State\n",
      "8 Related_Product_Indicator\n",
      "9 dig1\n",
      "10 dig2\n",
      "11 dig3\n",
      "12 Applicable_Manufacturer_or_Applicable_GPO_M\n",
      "13 Payment_Weekday\n",
      "14 Payment_Month\n",
      "15 Name_of_Drug_or_Biological_or_Device_or_Medical_Supply_1_M\n",
      "16 Product_Category\n",
      "17 GPO_M\n"
     ]
    }
   ],
   "source": [
    "for i ,j in enumerate(comb_modify.columns[cat]):\n",
    "    print(i,j)"
   ]
  },
  {
   "cell_type": "code",
   "execution_count": 85,
   "metadata": {},
   "outputs": [
    {
     "data": {
      "text/plain": [
       "(Index(['x12_100000000232', 'x12_100000000234', 'x12_100000000144', 'x10_152'], dtype='object'),\n",
       " x12_100000000232   -8.269934\n",
       " x12_100000000234   -7.221079\n",
       " x12_100000000144   -6.589039\n",
       " x10_152            -3.001802\n",
       " dtype: float64)"
      ]
     },
     "execution_count": 85,
     "metadata": {},
     "output_type": "execute_result"
    }
   ],
   "source": [
    "outcome.sort_values()[:4]"
   ]
  },
  {
   "cell_type": "code",
   "execution_count": 89,
   "metadata": {},
   "outputs": [
    {
     "data": {
      "text/plain": [
       "x12_100000010579    4.736432\n",
       "x12_100000000163    5.310122\n",
       "x12_100000000067    6.660959\n",
       "x17_boehringer      7.259178\n",
       "dtype: float64"
      ]
     },
     "execution_count": 89,
     "metadata": {},
     "output_type": "execute_result"
    }
   ],
   "source": [
    "outcome.sort_values()[-4:]"
   ]
  },
  {
   "cell_type": "markdown",
   "metadata": {},
   "source": [
    "variables with most important power are those fine tuned vars"
   ]
  },
  {
   "cell_type": "code",
   "execution_count": 70,
   "metadata": {},
   "outputs": [
    {
     "data": {
      "image/png": "[encoded data removed]",
      "text/plain": [
       "<Figure size 1800x576 with 1 Axes>"
      ]
     },
     "metadata": {
      "needs_background": "light"
     },
     "output_type": "display_data"
    }
   ],
   "source": [
    "\n",
    "fig, ax = plt.subplots(1, 1, figsize=(25, 8))\n",
    "plt.xticks(rotation='vertical')\n",
    "sns.barplot(x=cols, y=log_pipe.named_steps['LogReg'].coef_[0])\n",
    "plt.show()"
   ]
  },
  {
   "cell_type": "code",
   "execution_count": 43,
   "metadata": {},
   "outputs": [],
   "source": [
    "#cross validation\n",
    "param_grid_logr = {'LogReg__C': np.logspace(-3, 2, 6)}\n",
    "\n",
    "grid_logr = GridSearchCV(log_pipe, param_grid_logr, cv=3, n_jobs=-1).fit(X_train, y_train)"
   ]
  },
  {
   "cell_type": "code",
   "execution_count": 44,
   "metadata": {},
   "outputs": [],
   "source": [
    "res = pd.DataFrame(grid_logr.cv_results_)"
   ]
  },
  {
   "cell_type": "code",
   "execution_count": 46,
   "metadata": {},
   "outputs": [
    {
     "data": {
      "text/html": [
       "<div>\n",
       "<style scoped>\n",
       "    .dataframe tbody tr th:only-of-type {\n",
       "        vertical-align: middle;\n",
       "    }\n",
       "\n",
       "    .dataframe tbody tr th {\n",
       "        vertical-align: top;\n",
       "    }\n",
       "\n",
       "    .dataframe thead th {\n",
       "        text-align: right;\n",
       "    }\n",
       "</style>\n",
       "<table border=\"1\" class=\"dataframe\">\n",
       "  <thead>\n",
       "    <tr style=\"text-align: right;\">\n",
       "      <th></th>\n",
       "      <th>mean_fit_time</th>\n",
       "      <th>std_fit_time</th>\n",
       "      <th>mean_score_time</th>\n",
       "      <th>std_score_time</th>\n",
       "      <th>param_LogReg__C</th>\n",
       "      <th>params</th>\n",
       "      <th>split0_test_score</th>\n",
       "      <th>split1_test_score</th>\n",
       "      <th>split2_test_score</th>\n",
       "      <th>mean_test_score</th>\n",
       "      <th>std_test_score</th>\n",
       "      <th>rank_test_score</th>\n",
       "    </tr>\n",
       "  </thead>\n",
       "  <tbody>\n",
       "    <tr>\n",
       "      <th>0</th>\n",
       "      <td>8.518065</td>\n",
       "      <td>1.096841</td>\n",
       "      <td>0.759453</td>\n",
       "      <td>0.140694</td>\n",
       "      <td>0.001</td>\n",
       "      <td>{'LogReg__C': 0.001}</td>\n",
       "      <td>0.638533</td>\n",
       "      <td>0.639449</td>\n",
       "      <td>0.634755</td>\n",
       "      <td>0.637579</td>\n",
       "      <td>0.002031</td>\n",
       "      <td>6</td>\n",
       "    </tr>\n",
       "    <tr>\n",
       "      <th>1</th>\n",
       "      <td>10.574476</td>\n",
       "      <td>0.975294</td>\n",
       "      <td>0.802119</td>\n",
       "      <td>0.207989</td>\n",
       "      <td>0.01</td>\n",
       "      <td>{'LogReg__C': 0.01}</td>\n",
       "      <td>0.645133</td>\n",
       "      <td>0.646649</td>\n",
       "      <td>0.642262</td>\n",
       "      <td>0.644681</td>\n",
       "      <td>0.001819</td>\n",
       "      <td>5</td>\n",
       "    </tr>\n",
       "    <tr>\n",
       "      <th>2</th>\n",
       "      <td>11.488757</td>\n",
       "      <td>1.226887</td>\n",
       "      <td>0.781254</td>\n",
       "      <td>0.098168</td>\n",
       "      <td>0.1</td>\n",
       "      <td>{'LogReg__C': 0.1}</td>\n",
       "      <td>0.645480</td>\n",
       "      <td>0.647062</td>\n",
       "      <td>0.642329</td>\n",
       "      <td>0.644957</td>\n",
       "      <td>0.001967</td>\n",
       "      <td>4</td>\n",
       "    </tr>\n",
       "    <tr>\n",
       "      <th>3</th>\n",
       "      <td>13.069168</td>\n",
       "      <td>1.324641</td>\n",
       "      <td>0.790214</td>\n",
       "      <td>0.115983</td>\n",
       "      <td>1</td>\n",
       "      <td>{'LogReg__C': 1.0}</td>\n",
       "      <td>0.646120</td>\n",
       "      <td>0.646982</td>\n",
       "      <td>0.641875</td>\n",
       "      <td>0.644992</td>\n",
       "      <td>0.002232</td>\n",
       "      <td>3</td>\n",
       "    </tr>\n",
       "    <tr>\n",
       "      <th>4</th>\n",
       "      <td>12.728244</td>\n",
       "      <td>0.888214</td>\n",
       "      <td>0.777529</td>\n",
       "      <td>0.025456</td>\n",
       "      <td>10</td>\n",
       "      <td>{'LogReg__C': 10.0}</td>\n",
       "      <td>0.645800</td>\n",
       "      <td>0.646942</td>\n",
       "      <td>0.642595</td>\n",
       "      <td>0.645112</td>\n",
       "      <td>0.001840</td>\n",
       "      <td>1</td>\n",
       "    </tr>\n",
       "    <tr>\n",
       "      <th>5</th>\n",
       "      <td>9.895734</td>\n",
       "      <td>1.809515</td>\n",
       "      <td>0.485009</td>\n",
       "      <td>0.071907</td>\n",
       "      <td>100</td>\n",
       "      <td>{'LogReg__C': 100.0}</td>\n",
       "      <td>0.645787</td>\n",
       "      <td>0.646915</td>\n",
       "      <td>0.642622</td>\n",
       "      <td>0.645108</td>\n",
       "      <td>0.001817</td>\n",
       "      <td>2</td>\n",
       "    </tr>\n",
       "  </tbody>\n",
       "</table>\n",
       "</div>"
      ],
      "text/plain": [
       "   mean_fit_time  std_fit_time  mean_score_time  std_score_time  \\\n",
       "0       8.518065      1.096841         0.759453        0.140694   \n",
       "1      10.574476      0.975294         0.802119        0.207989   \n",
       "2      11.488757      1.226887         0.781254        0.098168   \n",
       "3      13.069168      1.324641         0.790214        0.115983   \n",
       "4      12.728244      0.888214         0.777529        0.025456   \n",
       "5       9.895734      1.809515         0.485009        0.071907   \n",
       "\n",
       "  param_LogReg__C                params  split0_test_score  split1_test_score  \\\n",
       "0           0.001  {'LogReg__C': 0.001}           0.638533           0.639449   \n",
       "1            0.01   {'LogReg__C': 0.01}           0.645133           0.646649   \n",
       "2             0.1    {'LogReg__C': 0.1}           0.645480           0.647062   \n",
       "3               1    {'LogReg__C': 1.0}           0.646120           0.646982   \n",
       "4              10   {'LogReg__C': 10.0}           0.645800           0.646942   \n",
       "5             100  {'LogReg__C': 100.0}           0.645787           0.646915   \n",
       "\n",
       "   split2_test_score  mean_test_score  std_test_score  rank_test_score  \n",
       "0           0.634755         0.637579        0.002031                6  \n",
       "1           0.642262         0.644681        0.001819                5  \n",
       "2           0.642329         0.644957        0.001967                4  \n",
       "3           0.641875         0.644992        0.002232                3  \n",
       "4           0.642595         0.645112        0.001840                1  \n",
       "5           0.642622         0.645108        0.001817                2  "
      ]
     },
     "execution_count": 46,
     "metadata": {},
     "output_type": "execute_result"
    }
   ],
   "source": [
    "res"
   ]
  },
  {
   "cell_type": "code",
   "execution_count": 48,
   "metadata": {},
   "outputs": [
    {
     "data": {
      "image/png": "[encoded data removed]",
      "text/plain": [
       "<Figure size 864x432 with 1 Axes>"
      ]
     },
     "metadata": {
      "needs_background": "light"
     },
     "output_type": "display_data"
    }
   ],
   "source": [
    "fig, ax = plt.subplots(1, 1, figsize=(12,6))\n",
    "\n",
    "##sns.lineplot(x='param_LogReg__C', y='mean_train_score', data=res, label='Train Score')\n",
    "sns.lineplot(x='param_LogReg__C', y='mean_test_score', data=res, label='Test Score')\n",
    "\n",
    "ax.set_xlabel('C')\n",
    "plt.xscale(\"log\")\n",
    "plt.legend()\n",
    "plt.show()"
   ]
  },
  {
   "cell_type": "code",
   "execution_count": 90,
   "metadata": {},
   "outputs": [],
   "source": [
    "tree_pipe = Pipeline([('preprocessing', prep), ('Tree',DecisionTreeClassifier( \n",
    "                                        min_impurity_decrease=0.01,\n",
    "                                     \n",
    "                                        min_samples_leaf=20, min_samples_split=20,\n",
    "                                        min_weight_fraction_leaf=0.001))])"
   ]
  },
  {
   "cell_type": "code",
   "execution_count": 91,
   "metadata": {},
   "outputs": [
    {
     "name": "stdout",
     "output_type": "stream",
     "text": [
      "tree training accuracy: 0.848 and test accuracy: 0.847\n"
     ]
    }
   ],
   "source": [
    "tree_pipe.fit(X_train,y_train)\n",
    "\n",
    "print(\"{0} training accuracy: {1:.3f} and test accuracy: {2:.3f}\".\\\n",
    "      format('tree',\\\n",
    "              tree_pipe.score(X_train,y_train),tree_pipe.score(X_test,y_test)))"
   ]
  },
  {
   "cell_type": "code",
   "execution_count": 92,
   "metadata": {},
   "outputs": [
    {
     "data": {
      "image/svg+xml": [
       "<?xml version=\"1.0\" encoding=\"UTF-8\" standalone=\"no\"?>\r\n",
       "<!DOCTYPE svg PUBLIC \"-//W3C//DTD SVG 1.1//EN\"\r\n",
       " \"http://www.w3.org/Graphics/SVG/1.1/DTD/svg11.dtd\">\r\n",
       "<!-- Generated by graphviz version 2.38.0 (20140413.2041)\r\n",
       " -->\r\n",
       "<!-- Title: Tree Pages: 1 -->\r\n",
       "<svg width=\"324pt\" height=\"165pt\"\r\n",
       " viewBox=\"0.00 0.00 323.50 165.00\" xmlns=\"http://www.w3.org/2000/svg\" xmlns:xlink=\"http://www.w3.org/1999/xlink\">\r\n",
       "<g id=\"graph0\" class=\"graph\" transform=\"scale(1 1) rotate(0) translate(4 161)\">\r\n",
       "<title>Tree</title>\r\n",
       "<polygon fill=\"white\" stroke=\"none\" points=\"-4,4 -4,-161 319.5,-161 319.5,4 -4,4\"/>\r\n",
       "<!-- 0 -->\r\n",
       "<g id=\"node1\" class=\"node\"><title>0</title>\r\n",
       "<polygon fill=\"none\" stroke=\"black\" points=\"299,-157 12,-157 12,-89 299,-89 299,-157\"/>\r\n",
       "<text text-anchor=\"middle\" x=\"155.5\" y=\"-141.8\" font-family=\"Times New Roman,serif\" font-size=\"14.00\">Total_Amount_of_Payment_USDollars &lt;= 3.48</text>\r\n",
       "<text text-anchor=\"middle\" x=\"155.5\" y=\"-126.8\" font-family=\"Times New Roman,serif\" font-size=\"14.00\">gini = 0.5</text>\r\n",
       "<text text-anchor=\"middle\" x=\"155.5\" y=\"-111.8\" font-family=\"Times New Roman,serif\" font-size=\"14.00\">samples = 224998</text>\r\n",
       "<text text-anchor=\"middle\" x=\"155.5\" y=\"-96.8\" font-family=\"Times New Roman,serif\" font-size=\"14.00\">value = [112515, 112483]</text>\r\n",
       "</g>\r\n",
       "<!-- 1 -->\r\n",
       "<g id=\"node2\" class=\"node\"><title>1</title>\r\n",
       "<polygon fill=\"none\" stroke=\"black\" points=\"145,-53 0,-53 0,-0 145,-0 145,-53\"/>\r\n",
       "<text text-anchor=\"middle\" x=\"72.5\" y=\"-37.8\" font-family=\"Times New Roman,serif\" font-size=\"14.00\">gini = 0.189</text>\r\n",
       "<text text-anchor=\"middle\" x=\"72.5\" y=\"-22.8\" font-family=\"Times New Roman,serif\" font-size=\"14.00\">samples = 99103</text>\r\n",
       "<text text-anchor=\"middle\" x=\"72.5\" y=\"-7.8\" font-family=\"Times New Roman,serif\" font-size=\"14.00\">value = [88656, 10447]</text>\r\n",
       "</g>\r\n",
       "<!-- 0&#45;&gt;1 -->\r\n",
       "<g id=\"edge1\" class=\"edge\"><title>0&#45;&gt;1</title>\r\n",
       "<path fill=\"none\" stroke=\"black\" d=\"M126.471,-88.9485C118.516,-79.892 109.888,-70.0682 101.912,-60.9875\"/>\r\n",
       "<polygon fill=\"black\" stroke=\"black\" points=\"104.334,-58.4405 95.1047,-53.2367 99.0742,-63.0599 104.334,-58.4405\"/>\r\n",
       "<text text-anchor=\"middle\" x=\"93.4884\" y=\"-74.4844\" font-family=\"Times New Roman,serif\" font-size=\"14.00\">True</text>\r\n",
       "</g>\r\n",
       "<!-- 2 -->\r\n",
       "<g id=\"node3\" class=\"node\"><title>2</title>\r\n",
       "<polygon fill=\"none\" stroke=\"black\" points=\"315.5,-53 163.5,-53 163.5,-0 315.5,-0 315.5,-53\"/>\r\n",
       "<text text-anchor=\"middle\" x=\"239.5\" y=\"-37.8\" font-family=\"Times New Roman,serif\" font-size=\"14.00\">gini = 0.307</text>\r\n",
       "<text text-anchor=\"middle\" x=\"239.5\" y=\"-22.8\" font-family=\"Times New Roman,serif\" font-size=\"14.00\">samples = 125895</text>\r\n",
       "<text text-anchor=\"middle\" x=\"239.5\" y=\"-7.8\" font-family=\"Times New Roman,serif\" font-size=\"14.00\">value = [23859, 102036]</text>\r\n",
       "</g>\r\n",
       "<!-- 0&#45;&gt;2 -->\r\n",
       "<g id=\"edge2\" class=\"edge\"><title>0&#45;&gt;2</title>\r\n",
       "<path fill=\"none\" stroke=\"black\" d=\"M184.879,-88.9485C193.011,-79.8005 201.838,-69.8697 209.978,-60.7126\"/>\r\n",
       "<polygon fill=\"black\" stroke=\"black\" points=\"212.595,-63.0361 216.623,-53.2367 207.363,-58.3855 212.595,-63.0361\"/>\r\n",
       "<text text-anchor=\"middle\" x=\"218.091\" y=\"-74.4936\" font-family=\"Times New Roman,serif\" font-size=\"14.00\">False</text>\r\n",
       "</g>\r\n",
       "</g>\r\n",
       "</svg>\r\n"
      ],
      "text/plain": [
       "<graphviz.files.Source at 0x25b456a5668>"
      ]
     },
     "execution_count": 92,
     "metadata": {},
     "output_type": "execute_result"
    }
   ],
   "source": [
    "tree_dot = export_graphviz(tree_pipe.named_steps['Tree'], out_file=None, feature_names=cols)\n",
    "graph = graphviz.Source(tree_dot)\n",
    "graph.render(cleanup=True)\n",
    "graph"
   ]
  },
  {
   "cell_type": "code",
   "execution_count": 93,
   "metadata": {},
   "outputs": [],
   "source": [
    "tree_pipe = Pipeline([('preprocessing', prep), ('Tree',DecisionTreeClassifier( \n",
    "                                        min_impurity_decrease=0.01,\n",
    "                                     \n",
    "                                        min_samples_leaf=20, min_samples_split=20,\n",
    "                                        min_weight_fraction_leaf=0.001))])"
   ]
  },
  {
   "cell_type": "code",
   "execution_count": null,
   "metadata": {},
   "outputs": [],
   "source": [
    "tree_pipe.fit(X_train,y_train)\n",
    "\n",
    "print(\"{0} training accuracy: {1:.3f} and test accuracy: {2:.3f}\".\\\n",
    "      format('tree',\\\n",
    "              tree_pipe.score(X_train,y_train),tree_pipe.score(X_test,y_test)))"
   ]
  },
  {
   "cell_type": "code",
   "execution_count": null,
   "metadata": {},
   "outputs": [],
   "source": [
    "tree_dot = export_graphviz(tree_pipe.named_steps['Tree'], out_file=None, feature_names=cols)\n",
    "graph = graphviz.Source(tree_dot)\n",
    "graph.render(cleanup=True)\n",
    "graph"
   ]
  },
  {
   "cell_type": "code",
   "execution_count": 97,
   "metadata": {},
   "outputs": [
    {
     "name": "stdout",
     "output_type": "stream",
     "text": [
      "x1_NA 0.04277439647415692\n",
      "x12_100000000193 0.03719061339729068\n",
      "x12_100000000263 0.05197537224759333\n",
      "x15_Other 0.04580634261572859\n",
      "Total_Amount_of_Payment_USDollars 0.8222532752652304\n"
     ]
    }
   ],
   "source": [
    "for i,j in zip(cols,tree_pipe.named_steps['Tree'].feature_importances_):\n",
    "    if j!=0:\n",
    "        print(i,j)"
   ]
  },
  {
   "cell_type": "code",
   "execution_count": null,
   "metadata": {},
   "outputs": [],
   "source": [
    "# try RF and grid search for parameter tuning"
   ]
  },
  {
   "cell_type": "code",
   "execution_count": 104,
   "metadata": {},
   "outputs": [],
   "source": [
    "voting = VotingClassifier(\n",
    "    [('logreg', LogisticRegression(C=100)),\n",
    "     ('tree', DecisionTreeClassifier(max_depth=3, random_state=0))],\n",
    "    voting='soft')\n",
    "voting_pipe = Pipeline([('preprocessing', prep), ('Volting',voting)])"
   ]
  },
  {
   "cell_type": "code",
   "execution_count": 101,
   "metadata": {},
   "outputs": [
    {
     "data": {
      "text/plain": [
       "(224998, 19)"
      ]
     },
     "execution_count": 101,
     "metadata": {},
     "output_type": "execute_result"
    }
   ],
   "source": [
    "X_train.shape"
   ]
  },
  {
   "cell_type": "code",
   "execution_count": 107,
   "metadata": {},
   "outputs": [
    {
     "name": "stdout",
     "output_type": "stream",
     "text": [
      "<class 'pandas.core.frame.DataFrame'>\n",
      "Int64Index: 224998 entries, 75524 to 74228\n",
      "Data columns (total 19 columns):\n",
      "Applicable_Manufacturer_or_Applicable_GPO_Making_Payment_Country    224998 non-null object\n",
      "Applicable_Manufacturer_or_Applicable_GPO_Making_Payment_State      224998 non-null object\n",
      "Covered_or_Noncovered_Indicator_1                                   224998 non-null object\n",
      "Dispute_Status_for_Publication                                      224998 non-null object\n",
      "Form_of_Payment_or_Transfer_of_Value                                224998 non-null object\n",
      "Indicate_Drug_or_Biological_or_Device_or_Medical_Supply_1           224998 non-null object\n",
      "Recipient_Country                                                   224998 non-null object\n",
      "Recipient_State                                                     224998 non-null object\n",
      "Related_Product_Indicator                                           224998 non-null object\n",
      "Total_Amount_of_Payment_USDollars                                   224998 non-null float64\n",
      "dig1                                                                224998 non-null object\n",
      "dig2                                                                224998 non-null object\n",
      "dig3                                                                224998 non-null object\n",
      "Applicable_Manufacturer_or_Applicable_GPO_M                         224998 non-null object\n",
      "Payment_Weekday                                                     224998 non-null object\n",
      "Payment_Month                                                       224998 non-null object\n",
      "Name_of_Drug_or_Biological_or_Device_or_Medical_Supply_1_M          224998 non-null object\n",
      "Product_Category                                                    224998 non-null object\n",
      "GPO_M                                                               224998 non-null object\n",
      "dtypes: float64(1), object(18)\n",
      "memory usage: 34.3+ MB\n"
     ]
    }
   ],
   "source": [
    "X_train.info()"
   ]
  },
  {
   "cell_type": "code",
   "execution_count": 2,
   "metadata": {},
   "outputs": [],
   "source": [
    "#voting.fit(X_train, y_train)\n",
    " \n",
    "#voting.score(X_test, y_test) "
   ]
  },
  {
   "cell_type": "markdown",
   "metadata": {},
   "source": [
    "feature selection might be slow for current setting"
   ]
  },
  {
   "cell_type": "code",
   "execution_count": null,
   "metadata": {},
   "outputs": [],
   "source": [
    "def drop_feature_importance(est, X, y):\n",
    "    base_score = np.mean(cross_val_score(est, X, y, cv=5))\n",
    "    scores = []\n",
    "    for feature in range(X.shape[1]):\n",
    "        mask = np.ones(X.shape[1], 'bool')\n",
    "        mask[feature] = False\n",
    "        X_new = X[:, mask]\n",
    "        this_score = np.mean(cross_val_score(est, X_new, y, cv=5))\n",
    "        scores.append(base_score - this_score)\n",
    "    return np.array(scores)"
   ]
  },
  {
   "cell_type": "code",
   "execution_count": null,
   "metadata": {},
   "outputs": [],
   "source": [
    "#try rf"
   ]
  },
  {
   "cell_type": "code",
   "execution_count": null,
   "metadata": {},
   "outputs": [],
   "source": [
    "gbrt = GradientBoostingRegressor().fit(X_train, y_train)\n",
    "fig, axs = plot_partial_dependence(\n",
    "    gbrt, X_train, np.argsort(gbrt.feature_importances_)[-6:],\n",
    "    feature_names=boston.feature_names, n_jobs=3,\n",
    "    grid_resolution=50)"
   ]
  },
  {
   "cell_type": "code",
   "execution_count": null,
   "metadata": {},
   "outputs": [],
   "source": [
    "# get rid of pipline and convert all predictor in advance"
   ]
  },
  {
   "cell_type": "code",
   "execution_count": 115,
   "metadata": {},
   "outputs": [],
   "source": [
    "ohc= OneHotEncoder(handle_unknown='ignore')"
   ]
  },
  {
   "cell_type": "code",
   "execution_count": 118,
   "metadata": {},
   "outputs": [
    {
     "data": {
      "text/plain": [
       "OneHotEncoder(categorical_features=None, categories=None, drop=None,\n",
       "              dtype=<class 'numpy.float64'>, handle_unknown='ignore',\n",
       "              n_values=None, sparse=True)"
      ]
     },
     "execution_count": 118,
     "metadata": {},
     "output_type": "execute_result"
    }
   ],
   "source": [
    "ohc.fit(comb_modify.drop(\"Total_Amount_of_Payment_USDollars\",axis=1))"
   ]
  },
  {
   "cell_type": "code",
   "execution_count": 119,
   "metadata": {},
   "outputs": [],
   "source": [
    "desc=ohc.transform(comb_modify.drop(\"Total_Amount_of_Payment_USDollars\",axis=1))"
   ]
  },
  {
   "cell_type": "code",
   "execution_count": 124,
   "metadata": {},
   "outputs": [
    {
     "data": {
      "text/plain": [
       "[array(['Austria', 'Barbados', 'Belgium', 'Brazil', 'Canada', 'Denmark',\n",
       "        'Finland', 'France', 'Germany', 'Great Britain (Uk)', 'Iceland',\n",
       "        'Ireland', 'Israel', 'Japan', 'Korea (Republic of)', 'Netherlands',\n",
       "        'New Zealand', 'Norway', 'Spain', 'Sweden', 'Switzerland',\n",
       "        'United Arab Emirates', 'United States'], dtype=object),\n",
       " array(['AL', 'AR', 'AZ', 'CA', 'CO', 'CT', 'DC', 'DE', 'FL', 'GA', 'IA',\n",
       "        'ID', 'IL', 'IN', 'KS', 'KY', 'LA', 'MA', 'MD', 'MI', 'MN', 'MO',\n",
       "        'MS', 'MT', 'NA', 'NC', 'NH', 'NJ', 'NM', 'NV', 'NY', 'OH', 'OK',\n",
       "        'OR', 'PA', 'PR', 'RI', 'SC', 'SD', 'TN', 'TX', 'UT', 'VA', 'VT',\n",
       "        'WA', 'WI', 'WV'], dtype=object),\n",
       " array(['Covered', 'NA', 'Non-Covered'], dtype=object),\n",
       " array(['No', 'Yes'], dtype=object),\n",
       " array(['Any other ownership interest', 'Cash or cash equivalent',\n",
       "        'Dividend, profit or other return on investment',\n",
       "        'In-kind items and services', 'Stock'], dtype=object),\n",
       " array(['Biological', 'Device', 'Drug', 'Medical Supply', 'NA'],\n",
       "       dtype=object),\n",
       " array(['Australia', 'Belgium', 'Canada', 'Denmark', 'Germany',\n",
       "        'Great Britain (Uk)', 'Japan', 'Mexico', 'NA', 'United States',\n",
       "        'United States Minor Outlying Islands'], dtype=object),\n",
       " array(['AA', 'AE', 'AK', 'AL', 'AP', 'AR', 'AZ', 'CA', 'CO', 'CT', 'DC',\n",
       "        'DE', 'FL', 'GA', 'HI', 'IA', 'ID', 'IL', 'IN', 'KS', 'KY', 'LA',\n",
       "        'MA', 'MD', 'ME', 'MI', 'MN', 'MO', 'MS', 'MT', 'NA', 'NC', 'ND',\n",
       "        'NE', 'NH', 'NJ', 'NM', 'NV', 'NY', 'OH', 'OK', 'OR', 'PA', 'PR',\n",
       "        'PW', 'RI', 'SC', 'SD', 'TN', 'TX', 'UT', 'VA', 'VI', 'VT', 'WA',\n",
       "        'WI', 'WV', 'WY'], dtype=object),\n",
       " array(['No', 'Yes'], dtype=object),\n",
       " array(['0', '169', '24', '31', '50458', '597', '6', '62856', '69', '78'],\n",
       "       dtype=object),\n",
       " array(['0', '140', '152', '3029', '4060', '529', '580', '6', '62', '710'],\n",
       "       dtype=object),\n",
       " array(['0', '1', '10', '15', '2', '20', '3', '30', '60', '90'],\n",
       "       dtype=object),\n",
       " array(['0', '100000000053', '100000000067', '100000000089',\n",
       "        '100000000108', '100000000136', '100000000144', '100000000146',\n",
       "        '100000000163', '100000000193', '100000000203', '100000000204',\n",
       "        '100000000228', '100000000232', '100000000234', '100000000255',\n",
       "        '100000000263', '100000000278', '100000000286', '100000005449',\n",
       "        '100000010579'], dtype=object),\n",
       " array(['0', '1', '2', '3', '4', '5', '6'], dtype=object),\n",
       " array(['1', '10', '11', '12', '2', '3', '4', '5', '6', '7', '8', '9'],\n",
       "       dtype=object),\n",
       " array(['NA', 'Other', 'biooncology',\n",
       "        'cardiac arrhythmias and heart failure',\n",
       "        'cardiology/vascular diseases', 'cardiovascular',\n",
       "        'cardiovascular & metabolism', 'cardiovascular and metabolism',\n",
       "        'cns', 'dermatology', 'diabetes', 'endocrinology',\n",
       "        'gastroenterology', 'hiv', 'immunology', 'neurology',\n",
       "        'neuroscience', 'nutrition and weight loss', 'oncology',\n",
       "        'ophthalmology', 'respiratory'], dtype=object),\n",
       " array(['cardio', 'diab', 'gastro', 'immun', 'oncol', 'other', 'resp'],\n",
       "       dtype=object),\n",
       " array(['abbvie,', 'astrazeneca', 'boehringer', 'eisai', 'incyte',\n",
       "        'janssen', 'merck', 'novo', 'other', 'pfizer', 'sanofi'],\n",
       "       dtype=object)]"
      ]
     },
     "execution_count": 124,
     "metadata": {},
     "output_type": "execute_result"
    }
   ],
   "source": [
    "ohc.categories_"
   ]
  },
  {
   "cell_type": "code",
   "execution_count": 136,
   "metadata": {},
   "outputs": [],
   "source": [
    "col_ohc=ohc.get_feature_names().tolist()"
   ]
  },
  {
   "cell_type": "code",
   "execution_count": 125,
   "metadata": {},
   "outputs": [],
   "source": [
    "ohc.categorical_features"
   ]
  },
  {
   "cell_type": "code",
   "execution_count": 137,
   "metadata": {},
   "outputs": [],
   "source": [
    "col_ohc.append('spend')"
   ]
  },
  {
   "cell_type": "code",
   "execution_count": 141,
   "metadata": {},
   "outputs": [],
   "source": [
    "desc_df=pd.DataFrame(desc.todense(),columns=col_ohc[:-1])"
   ]
  },
  {
   "cell_type": "code",
   "execution_count": 144,
   "metadata": {},
   "outputs": [
    {
     "data": {
      "text/html": [
       "<div>\n",
       "<style scoped>\n",
       "    .dataframe tbody tr th:only-of-type {\n",
       "        vertical-align: middle;\n",
       "    }\n",
       "\n",
       "    .dataframe tbody tr th {\n",
       "        vertical-align: top;\n",
       "    }\n",
       "\n",
       "    .dataframe thead th {\n",
       "        text-align: right;\n",
       "    }\n",
       "</style>\n",
       "<table border=\"1\" class=\"dataframe\">\n",
       "  <thead>\n",
       "    <tr style=\"text-align: right;\">\n",
       "      <th></th>\n",
       "      <th>x0_Austria</th>\n",
       "      <th>x0_Barbados</th>\n",
       "      <th>x0_Belgium</th>\n",
       "      <th>x0_Brazil</th>\n",
       "      <th>x0_Canada</th>\n",
       "      <th>x0_Denmark</th>\n",
       "      <th>x0_Finland</th>\n",
       "      <th>x0_France</th>\n",
       "      <th>x0_Germany</th>\n",
       "      <th>x0_Great Britain (Uk)</th>\n",
       "      <th>...</th>\n",
       "      <th>x17_astrazeneca</th>\n",
       "      <th>x17_boehringer</th>\n",
       "      <th>x17_eisai</th>\n",
       "      <th>x17_incyte</th>\n",
       "      <th>x17_janssen</th>\n",
       "      <th>x17_merck</th>\n",
       "      <th>x17_novo</th>\n",
       "      <th>x17_other</th>\n",
       "      <th>x17_pfizer</th>\n",
       "      <th>x17_sanofi</th>\n",
       "    </tr>\n",
       "  </thead>\n",
       "  <tbody>\n",
       "    <tr>\n",
       "      <th>0</th>\n",
       "      <td>0.0</td>\n",
       "      <td>0.0</td>\n",
       "      <td>0.0</td>\n",
       "      <td>0.0</td>\n",
       "      <td>0.0</td>\n",
       "      <td>0.0</td>\n",
       "      <td>0.0</td>\n",
       "      <td>0.0</td>\n",
       "      <td>0.0</td>\n",
       "      <td>0.0</td>\n",
       "      <td>...</td>\n",
       "      <td>0.0</td>\n",
       "      <td>0.0</td>\n",
       "      <td>0.0</td>\n",
       "      <td>0.0</td>\n",
       "      <td>0.0</td>\n",
       "      <td>0.0</td>\n",
       "      <td>0.0</td>\n",
       "      <td>1.0</td>\n",
       "      <td>0.0</td>\n",
       "      <td>0.0</td>\n",
       "    </tr>\n",
       "    <tr>\n",
       "      <th>1</th>\n",
       "      <td>0.0</td>\n",
       "      <td>0.0</td>\n",
       "      <td>0.0</td>\n",
       "      <td>0.0</td>\n",
       "      <td>0.0</td>\n",
       "      <td>0.0</td>\n",
       "      <td>0.0</td>\n",
       "      <td>0.0</td>\n",
       "      <td>0.0</td>\n",
       "      <td>0.0</td>\n",
       "      <td>...</td>\n",
       "      <td>0.0</td>\n",
       "      <td>0.0</td>\n",
       "      <td>0.0</td>\n",
       "      <td>0.0</td>\n",
       "      <td>0.0</td>\n",
       "      <td>0.0</td>\n",
       "      <td>0.0</td>\n",
       "      <td>1.0</td>\n",
       "      <td>0.0</td>\n",
       "      <td>0.0</td>\n",
       "    </tr>\n",
       "    <tr>\n",
       "      <th>2</th>\n",
       "      <td>0.0</td>\n",
       "      <td>0.0</td>\n",
       "      <td>0.0</td>\n",
       "      <td>0.0</td>\n",
       "      <td>0.0</td>\n",
       "      <td>0.0</td>\n",
       "      <td>0.0</td>\n",
       "      <td>0.0</td>\n",
       "      <td>0.0</td>\n",
       "      <td>0.0</td>\n",
       "      <td>...</td>\n",
       "      <td>0.0</td>\n",
       "      <td>0.0</td>\n",
       "      <td>0.0</td>\n",
       "      <td>0.0</td>\n",
       "      <td>0.0</td>\n",
       "      <td>0.0</td>\n",
       "      <td>0.0</td>\n",
       "      <td>1.0</td>\n",
       "      <td>0.0</td>\n",
       "      <td>0.0</td>\n",
       "    </tr>\n",
       "    <tr>\n",
       "      <th>3</th>\n",
       "      <td>0.0</td>\n",
       "      <td>0.0</td>\n",
       "      <td>0.0</td>\n",
       "      <td>0.0</td>\n",
       "      <td>0.0</td>\n",
       "      <td>0.0</td>\n",
       "      <td>0.0</td>\n",
       "      <td>0.0</td>\n",
       "      <td>0.0</td>\n",
       "      <td>0.0</td>\n",
       "      <td>...</td>\n",
       "      <td>0.0</td>\n",
       "      <td>0.0</td>\n",
       "      <td>0.0</td>\n",
       "      <td>0.0</td>\n",
       "      <td>0.0</td>\n",
       "      <td>0.0</td>\n",
       "      <td>0.0</td>\n",
       "      <td>1.0</td>\n",
       "      <td>0.0</td>\n",
       "      <td>0.0</td>\n",
       "    </tr>\n",
       "    <tr>\n",
       "      <th>4</th>\n",
       "      <td>0.0</td>\n",
       "      <td>0.0</td>\n",
       "      <td>0.0</td>\n",
       "      <td>0.0</td>\n",
       "      <td>0.0</td>\n",
       "      <td>0.0</td>\n",
       "      <td>0.0</td>\n",
       "      <td>0.0</td>\n",
       "      <td>0.0</td>\n",
       "      <td>0.0</td>\n",
       "      <td>...</td>\n",
       "      <td>0.0</td>\n",
       "      <td>0.0</td>\n",
       "      <td>0.0</td>\n",
       "      <td>0.0</td>\n",
       "      <td>0.0</td>\n",
       "      <td>0.0</td>\n",
       "      <td>0.0</td>\n",
       "      <td>1.0</td>\n",
       "      <td>0.0</td>\n",
       "      <td>0.0</td>\n",
       "    </tr>\n",
       "  </tbody>\n",
       "</table>\n",
       "<p>5 rows × 265 columns</p>\n",
       "</div>"
      ],
      "text/plain": [
       "   x0_Austria  x0_Barbados  x0_Belgium  x0_Brazil  x0_Canada  x0_Denmark  \\\n",
       "0         0.0          0.0         0.0        0.0        0.0         0.0   \n",
       "1         0.0          0.0         0.0        0.0        0.0         0.0   \n",
       "2         0.0          0.0         0.0        0.0        0.0         0.0   \n",
       "3         0.0          0.0         0.0        0.0        0.0         0.0   \n",
       "4         0.0          0.0         0.0        0.0        0.0         0.0   \n",
       "\n",
       "   x0_Finland  x0_France  x0_Germany  x0_Great Britain (Uk)  ...  \\\n",
       "0         0.0        0.0         0.0                    0.0  ...   \n",
       "1         0.0        0.0         0.0                    0.0  ...   \n",
       "2         0.0        0.0         0.0                    0.0  ...   \n",
       "3         0.0        0.0         0.0                    0.0  ...   \n",
       "4         0.0        0.0         0.0                    0.0  ...   \n",
       "\n",
       "   x17_astrazeneca  x17_boehringer  x17_eisai  x17_incyte  x17_janssen  \\\n",
       "0              0.0             0.0        0.0         0.0          0.0   \n",
       "1              0.0             0.0        0.0         0.0          0.0   \n",
       "2              0.0             0.0        0.0         0.0          0.0   \n",
       "3              0.0             0.0        0.0         0.0          0.0   \n",
       "4              0.0             0.0        0.0         0.0          0.0   \n",
       "\n",
       "   x17_merck  x17_novo  x17_other  x17_pfizer  x17_sanofi  \n",
       "0        0.0       0.0        1.0         0.0         0.0  \n",
       "1        0.0       0.0        1.0         0.0         0.0  \n",
       "2        0.0       0.0        1.0         0.0         0.0  \n",
       "3        0.0       0.0        1.0         0.0         0.0  \n",
       "4        0.0       0.0        1.0         0.0         0.0  \n",
       "\n",
       "[5 rows x 265 columns]"
      ]
     },
     "execution_count": 144,
     "metadata": {},
     "output_type": "execute_result"
    }
   ],
   "source": [
    "desc_df.head()"
   ]
  },
  {
   "cell_type": "code",
   "execution_count": 145,
   "metadata": {},
   "outputs": [
    {
     "data": {
      "text/html": [
       "<div>\n",
       "<style scoped>\n",
       "    .dataframe tbody tr th:only-of-type {\n",
       "        vertical-align: middle;\n",
       "    }\n",
       "\n",
       "    .dataframe tbody tr th {\n",
       "        vertical-align: top;\n",
       "    }\n",
       "\n",
       "    .dataframe thead th {\n",
       "        text-align: right;\n",
       "    }\n",
       "</style>\n",
       "<table border=\"1\" class=\"dataframe\">\n",
       "  <thead>\n",
       "    <tr style=\"text-align: right;\">\n",
       "      <th></th>\n",
       "      <th>Total_Amount_of_Payment_USDollars</th>\n",
       "    </tr>\n",
       "  </thead>\n",
       "  <tbody>\n",
       "    <tr>\n",
       "      <th>0</th>\n",
       "      <td>2.438863</td>\n",
       "    </tr>\n",
       "    <tr>\n",
       "      <th>1</th>\n",
       "      <td>3.099642</td>\n",
       "    </tr>\n",
       "    <tr>\n",
       "      <th>2</th>\n",
       "      <td>4.759349</td>\n",
       "    </tr>\n",
       "    <tr>\n",
       "      <th>3</th>\n",
       "      <td>2.573375</td>\n",
       "    </tr>\n",
       "    <tr>\n",
       "      <th>4</th>\n",
       "      <td>2.778819</td>\n",
       "    </tr>\n",
       "  </tbody>\n",
       "</table>\n",
       "</div>"
      ],
      "text/plain": [
       "   Total_Amount_of_Payment_USDollars\n",
       "0                           2.438863\n",
       "1                           3.099642\n",
       "2                           4.759349\n",
       "3                           2.573375\n",
       "4                           2.778819"
      ]
     },
     "execution_count": 145,
     "metadata": {},
     "output_type": "execute_result"
    }
   ],
   "source": [
    "comb_modify[[\"Total_Amount_of_Payment_USDollars\"]].head()"
   ]
  },
  {
   "cell_type": "code",
   "execution_count": 146,
   "metadata": {},
   "outputs": [],
   "source": [
    "desc_df['log_spend']=comb_modify[\"Total_Amount_of_Payment_USDollars\"]"
   ]
  },
  {
   "cell_type": "code",
   "execution_count": 148,
   "metadata": {},
   "outputs": [
    {
     "data": {
      "text/html": [
       "<div>\n",
       "<style scoped>\n",
       "    .dataframe tbody tr th:only-of-type {\n",
       "        vertical-align: middle;\n",
       "    }\n",
       "\n",
       "    .dataframe tbody tr th {\n",
       "        vertical-align: top;\n",
       "    }\n",
       "\n",
       "    .dataframe thead th {\n",
       "        text-align: right;\n",
       "    }\n",
       "</style>\n",
       "<table border=\"1\" class=\"dataframe\">\n",
       "  <thead>\n",
       "    <tr style=\"text-align: right;\">\n",
       "      <th></th>\n",
       "      <th>x0_Austria</th>\n",
       "      <th>x0_Barbados</th>\n",
       "      <th>x0_Belgium</th>\n",
       "      <th>x0_Brazil</th>\n",
       "      <th>x0_Canada</th>\n",
       "      <th>x0_Denmark</th>\n",
       "      <th>x0_Finland</th>\n",
       "      <th>x0_France</th>\n",
       "      <th>x0_Germany</th>\n",
       "      <th>x0_Great Britain (Uk)</th>\n",
       "      <th>...</th>\n",
       "      <th>x17_boehringer</th>\n",
       "      <th>x17_eisai</th>\n",
       "      <th>x17_incyte</th>\n",
       "      <th>x17_janssen</th>\n",
       "      <th>x17_merck</th>\n",
       "      <th>x17_novo</th>\n",
       "      <th>x17_other</th>\n",
       "      <th>x17_pfizer</th>\n",
       "      <th>x17_sanofi</th>\n",
       "      <th>log_spend</th>\n",
       "    </tr>\n",
       "  </thead>\n",
       "  <tbody>\n",
       "    <tr>\n",
       "      <th>0</th>\n",
       "      <td>0.0</td>\n",
       "      <td>0.0</td>\n",
       "      <td>0.0</td>\n",
       "      <td>0.0</td>\n",
       "      <td>0.0</td>\n",
       "      <td>0.0</td>\n",
       "      <td>0.0</td>\n",
       "      <td>0.0</td>\n",
       "      <td>0.0</td>\n",
       "      <td>0.0</td>\n",
       "      <td>...</td>\n",
       "      <td>0.0</td>\n",
       "      <td>0.0</td>\n",
       "      <td>0.0</td>\n",
       "      <td>0.0</td>\n",
       "      <td>0.0</td>\n",
       "      <td>0.0</td>\n",
       "      <td>1.0</td>\n",
       "      <td>0.0</td>\n",
       "      <td>0.0</td>\n",
       "      <td>2.438863</td>\n",
       "    </tr>\n",
       "    <tr>\n",
       "      <th>1</th>\n",
       "      <td>0.0</td>\n",
       "      <td>0.0</td>\n",
       "      <td>0.0</td>\n",
       "      <td>0.0</td>\n",
       "      <td>0.0</td>\n",
       "      <td>0.0</td>\n",
       "      <td>0.0</td>\n",
       "      <td>0.0</td>\n",
       "      <td>0.0</td>\n",
       "      <td>0.0</td>\n",
       "      <td>...</td>\n",
       "      <td>0.0</td>\n",
       "      <td>0.0</td>\n",
       "      <td>0.0</td>\n",
       "      <td>0.0</td>\n",
       "      <td>0.0</td>\n",
       "      <td>0.0</td>\n",
       "      <td>1.0</td>\n",
       "      <td>0.0</td>\n",
       "      <td>0.0</td>\n",
       "      <td>3.099642</td>\n",
       "    </tr>\n",
       "    <tr>\n",
       "      <th>2</th>\n",
       "      <td>0.0</td>\n",
       "      <td>0.0</td>\n",
       "      <td>0.0</td>\n",
       "      <td>0.0</td>\n",
       "      <td>0.0</td>\n",
       "      <td>0.0</td>\n",
       "      <td>0.0</td>\n",
       "      <td>0.0</td>\n",
       "      <td>0.0</td>\n",
       "      <td>0.0</td>\n",
       "      <td>...</td>\n",
       "      <td>0.0</td>\n",
       "      <td>0.0</td>\n",
       "      <td>0.0</td>\n",
       "      <td>0.0</td>\n",
       "      <td>0.0</td>\n",
       "      <td>0.0</td>\n",
       "      <td>1.0</td>\n",
       "      <td>0.0</td>\n",
       "      <td>0.0</td>\n",
       "      <td>4.759349</td>\n",
       "    </tr>\n",
       "    <tr>\n",
       "      <th>3</th>\n",
       "      <td>0.0</td>\n",
       "      <td>0.0</td>\n",
       "      <td>0.0</td>\n",
       "      <td>0.0</td>\n",
       "      <td>0.0</td>\n",
       "      <td>0.0</td>\n",
       "      <td>0.0</td>\n",
       "      <td>0.0</td>\n",
       "      <td>0.0</td>\n",
       "      <td>0.0</td>\n",
       "      <td>...</td>\n",
       "      <td>0.0</td>\n",
       "      <td>0.0</td>\n",
       "      <td>0.0</td>\n",
       "      <td>0.0</td>\n",
       "      <td>0.0</td>\n",
       "      <td>0.0</td>\n",
       "      <td>1.0</td>\n",
       "      <td>0.0</td>\n",
       "      <td>0.0</td>\n",
       "      <td>2.573375</td>\n",
       "    </tr>\n",
       "    <tr>\n",
       "      <th>4</th>\n",
       "      <td>0.0</td>\n",
       "      <td>0.0</td>\n",
       "      <td>0.0</td>\n",
       "      <td>0.0</td>\n",
       "      <td>0.0</td>\n",
       "      <td>0.0</td>\n",
       "      <td>0.0</td>\n",
       "      <td>0.0</td>\n",
       "      <td>0.0</td>\n",
       "      <td>0.0</td>\n",
       "      <td>...</td>\n",
       "      <td>0.0</td>\n",
       "      <td>0.0</td>\n",
       "      <td>0.0</td>\n",
       "      <td>0.0</td>\n",
       "      <td>0.0</td>\n",
       "      <td>0.0</td>\n",
       "      <td>1.0</td>\n",
       "      <td>0.0</td>\n",
       "      <td>0.0</td>\n",
       "      <td>2.778819</td>\n",
       "    </tr>\n",
       "  </tbody>\n",
       "</table>\n",
       "<p>5 rows × 266 columns</p>\n",
       "</div>"
      ],
      "text/plain": [
       "   x0_Austria  x0_Barbados  x0_Belgium  x0_Brazil  x0_Canada  x0_Denmark  \\\n",
       "0         0.0          0.0         0.0        0.0        0.0         0.0   \n",
       "1         0.0          0.0         0.0        0.0        0.0         0.0   \n",
       "2         0.0          0.0         0.0        0.0        0.0         0.0   \n",
       "3         0.0          0.0         0.0        0.0        0.0         0.0   \n",
       "4         0.0          0.0         0.0        0.0        0.0         0.0   \n",
       "\n",
       "   x0_Finland  x0_France  x0_Germany  x0_Great Britain (Uk)  ...  \\\n",
       "0         0.0        0.0         0.0                    0.0  ...   \n",
       "1         0.0        0.0         0.0                    0.0  ...   \n",
       "2         0.0        0.0         0.0                    0.0  ...   \n",
       "3         0.0        0.0         0.0                    0.0  ...   \n",
       "4         0.0        0.0         0.0                    0.0  ...   \n",
       "\n",
       "   x17_boehringer  x17_eisai  x17_incyte  x17_janssen  x17_merck  x17_novo  \\\n",
       "0             0.0        0.0         0.0          0.0        0.0       0.0   \n",
       "1             0.0        0.0         0.0          0.0        0.0       0.0   \n",
       "2             0.0        0.0         0.0          0.0        0.0       0.0   \n",
       "3             0.0        0.0         0.0          0.0        0.0       0.0   \n",
       "4             0.0        0.0         0.0          0.0        0.0       0.0   \n",
       "\n",
       "   x17_other  x17_pfizer  x17_sanofi  log_spend  \n",
       "0        1.0         0.0         0.0   2.438863  \n",
       "1        1.0         0.0         0.0   3.099642  \n",
       "2        1.0         0.0         0.0   4.759349  \n",
       "3        1.0         0.0         0.0   2.573375  \n",
       "4        1.0         0.0         0.0   2.778819  \n",
       "\n",
       "[5 rows x 266 columns]"
      ]
     },
     "execution_count": 148,
     "metadata": {},
     "output_type": "execute_result"
    }
   ],
   "source": [
    "desc_df.head()"
   ]
  },
  {
   "cell_type": "markdown",
   "metadata": {},
   "source": [
    "### Part 6. Model & Feature selection"
   ]
  },
  {
   "cell_type": "code",
   "execution_count": 150,
   "metadata": {},
   "outputs": [],
   "source": [
    "X_trainval,X_test,y_trainval,y_test=train_test_split(desc_df,comb['Tag'])\n",
    "X_train,X_val,y_train,y_val=train_test_split(X_trainval,y_trainval)"
   ]
  },
  {
   "cell_type": "code",
   "execution_count": 153,
   "metadata": {},
   "outputs": [
    {
     "ename": "NameError",
     "evalue": "name 'plot_partial_dependence' is not defined",
     "output_type": "error",
     "traceback": [
      "\u001b[1;31m---------------------------------------------------------------------------\u001b[0m",
      "\u001b[1;31mNameError\u001b[0m                                 Traceback (most recent call last)",
      "\u001b[1;32m<ipython-input-153-0cb388d0b24b>\u001b[0m in \u001b[0;36m<module>\u001b[1;34m\u001b[0m\n\u001b[0;32m      1\u001b[0m \u001b[0mgbrt\u001b[0m \u001b[1;33m=\u001b[0m \u001b[0mGradientBoostingRegressor\u001b[0m\u001b[1;33m(\u001b[0m\u001b[1;33m)\u001b[0m\u001b[1;33m.\u001b[0m\u001b[0mfit\u001b[0m\u001b[1;33m(\u001b[0m\u001b[0mX_train\u001b[0m\u001b[1;33m,\u001b[0m \u001b[0my_train\u001b[0m\u001b[1;33m)\u001b[0m\u001b[1;33m\u001b[0m\u001b[1;33m\u001b[0m\u001b[0m\n\u001b[1;32m----> 2\u001b[1;33m fig, axs = plot_partial_dependence(\n\u001b[0m\u001b[0;32m      3\u001b[0m     \u001b[0mgbrt\u001b[0m\u001b[1;33m,\u001b[0m \u001b[0mX_train\u001b[0m\u001b[1;33m,\u001b[0m \u001b[0mnp\u001b[0m\u001b[1;33m.\u001b[0m\u001b[0margsort\u001b[0m\u001b[1;33m(\u001b[0m\u001b[0mgbrt\u001b[0m\u001b[1;33m.\u001b[0m\u001b[0mfeature_importances_\u001b[0m\u001b[1;33m)\u001b[0m\u001b[1;33m[\u001b[0m\u001b[1;33m-\u001b[0m\u001b[1;36m6\u001b[0m\u001b[1;33m:\u001b[0m\u001b[1;33m]\u001b[0m\u001b[1;33m,\u001b[0m\u001b[1;33m\u001b[0m\u001b[1;33m\u001b[0m\u001b[0m\n\u001b[0;32m      4\u001b[0m     \u001b[0mfeature_names\u001b[0m\u001b[1;33m=\u001b[0m\u001b[0mcol_ohc\u001b[0m\u001b[1;33m,\u001b[0m \u001b[0mn_jobs\u001b[0m\u001b[1;33m=\u001b[0m\u001b[1;36m3\u001b[0m\u001b[1;33m,\u001b[0m\u001b[1;33m\u001b[0m\u001b[1;33m\u001b[0m\u001b[0m\n\u001b[0;32m      5\u001b[0m     grid_resolution=50)\n",
      "\u001b[1;31mNameError\u001b[0m: name 'plot_partial_dependence' is not defined"
     ]
    }
   ],
   "source": [
    "gbrt = GradientBoostingRegressor().fit(X_train, y_train)\n"
   ]
  },
  {
   "cell_type": "code",
   "execution_count": 154,
   "metadata": {},
   "outputs": [
    {
     "data": {
      "text/plain": [
       "0.8180253588223776"
      ]
     },
     "execution_count": 154,
     "metadata": {},
     "output_type": "execute_result"
    }
   ],
   "source": [
    "gbrt.score(X_test,y_test)"
   ]
  },
  {
   "cell_type": "code",
   "execution_count": null,
   "metadata": {},
   "outputs": [],
   "source": [
    "grid_gbrt = {'LogReg__C': np.logspace(-3, 2, 6)}\n",
    "\n",
    "grid_logr = GridSearchCV(log_pipe, param_grid_logr, cv=3, n_jobs=-1).fit(X_train, y_train)"
   ]
  },
  {
   "cell_type": "code",
   "execution_count": 162,
   "metadata": {},
   "outputs": [
    {
     "ename": "TypeError",
     "evalue": "'module' object is not callable",
     "output_type": "error",
     "traceback": [
      "\u001b[1;31m---------------------------------------------------------------------------\u001b[0m",
      "\u001b[1;31mTypeError\u001b[0m                                 Traceback (most recent call last)",
      "\u001b[1;32m<ipython-input-162-4828141d16aa>\u001b[0m in \u001b[0;36m<module>\u001b[1;34m\u001b[0m\n\u001b[1;32m----> 1\u001b[1;33m \u001b[0mxbrt\u001b[0m \u001b[1;33m=\u001b[0m \u001b[0mxgb\u001b[0m\u001b[1;33m(\u001b[0m\u001b[1;33m)\u001b[0m\u001b[1;33m.\u001b[0m\u001b[0mfit\u001b[0m\u001b[1;33m(\u001b[0m\u001b[0mX_train\u001b[0m\u001b[1;33m,\u001b[0m \u001b[0my_train\u001b[0m\u001b[1;33m)\u001b[0m\u001b[1;33m\u001b[0m\u001b[1;33m\u001b[0m\u001b[0m\n\u001b[0m",
      "\u001b[1;31mTypeError\u001b[0m: 'module' object is not callable"
     ]
    }
   ],
   "source": [
    "xbrt = xgb().fit(X_train, y_train)"
   ]
  },
  {
   "cell_type": "code",
   "execution_count": 165,
   "metadata": {},
   "outputs": [
    {
     "name": "stderr",
     "output_type": "stream",
     "text": [
      "C:\\Users\\Yilun\\Anaconda3\\lib\\site-packages\\xgboost\\core.py:587: FutureWarning: Series.base is deprecated and will be removed in a future version\n",
      "  if getattr(data, 'base', None) is not None and \\\n"
     ]
    }
   ],
   "source": [
    "dtrain = xgb.DMatrix(X_train, label=y_train)"
   ]
  },
  {
   "cell_type": "code",
   "execution_count": 166,
   "metadata": {},
   "outputs": [],
   "source": [
    "dtest = xgb.DMatrix(X_test, label=y_test)"
   ]
  },
  {
   "cell_type": "code",
   "execution_count": 167,
   "metadata": {},
   "outputs": [],
   "source": [
    "dtrain = xgb.DMatrix(X_train, label=y_train)"
   ]
  },
  {
   "cell_type": "code",
   "execution_count": 168,
   "metadata": {},
   "outputs": [],
   "source": [
    "param = {'max_depth': 2, 'eta': 1, 'objective': 'binary:logistic'}\n",
    "param['nthread'] = 4\n",
    "param['eval_metric'] = 'auc'\n",
    "# You can also specify multiple eval metrics:\n",
    "\n",
    "param['eval_metric'] = ['auc', 'ams@0']\n",
    "\n",
    "# alternatively:\n",
    "# plst = param.items()\n",
    "# plst += [('eval_metric', 'ams@0')]\n",
    "# Specify validations set to watch performance\n",
    "\n",
    "evallist = [(dtest, 'eval'), (dtrain, 'train')]"
   ]
  },
  {
   "cell_type": "code",
   "execution_count": 169,
   "metadata": {},
   "outputs": [
    {
     "name": "stdout",
     "output_type": "stream",
     "text": [
      "[0]\teval-auc:0.907643\teval-ams@0:357.311\ttrain-auc:0.904592\ttrain-ams@0:530.27\n",
      "[1]\teval-auc:0.950966\teval-ams@0:388.696\ttrain-auc:0.949044\ttrain-ams@0:576.218\n",
      "[2]\teval-auc:0.962695\teval-ams@0:412.558\ttrain-auc:0.961391\ttrain-ams@0:612.6\n",
      "[3]\teval-auc:0.966003\teval-ams@0:415.845\ttrain-auc:0.96473\ttrain-ams@0:618.996\n",
      "[4]\teval-auc:0.970072\teval-ams@0:427.962\ttrain-auc:0.969082\ttrain-ams@0:632.899\n",
      "[5]\teval-auc:0.971385\teval-ams@0:427.823\ttrain-auc:0.970332\ttrain-ams@0:636.149\n",
      "[6]\teval-auc:0.974157\teval-ams@0:439.338\ttrain-auc:0.973105\ttrain-ams@0:653.457\n",
      "[7]\teval-auc:0.975736\teval-ams@0:443.489\ttrain-auc:0.974735\ttrain-ams@0:661.01\n",
      "[8]\teval-auc:0.976948\teval-ams@0:447.204\ttrain-auc:0.976001\ttrain-ams@0:666.378\n",
      "[9]\teval-auc:0.977948\teval-ams@0:452.959\ttrain-auc:0.977057\ttrain-ams@0:675.362\n"
     ]
    }
   ],
   "source": [
    "num_round = 10\n",
    "bst = xgb.train(param, dtrain, num_round, evallist)"
   ]
  },
  {
   "cell_type": "code",
   "execution_count": null,
   "metadata": {},
   "outputs": [],
   "source": [
    "bst.save_model('0001.model')\n",
    "#The model and its feature map can also be dumped to a text file."
   ]
  },
  {
   "cell_type": "code",
   "execution_count": 171,
   "metadata": {},
   "outputs": [],
   "source": [
    "# dump model\n",
    "bst.dump_model('dump.raw.txt')"
   ]
  },
  {
   "cell_type": "code",
   "execution_count": 170,
   "metadata": {
    "collapsed": true
   },
   "outputs": [
    {
     "ename": "ValueError",
     "evalue": "No such file: featmap.txt",
     "output_type": "error",
     "traceback": [
      "\u001b[1;31m---------------------------------------------------------------------------\u001b[0m",
      "\u001b[1;31mValueError\u001b[0m                                Traceback (most recent call last)",
      "\u001b[1;32m<ipython-input-170-8746d7e5604d>\u001b[0m in \u001b[0;36m<module>\u001b[1;34m\u001b[0m\n\u001b[0;32m      5\u001b[0m \u001b[0mbst\u001b[0m\u001b[1;33m.\u001b[0m\u001b[0mdump_model\u001b[0m\u001b[1;33m(\u001b[0m\u001b[1;34m'dump.raw.txt'\u001b[0m\u001b[1;33m)\u001b[0m\u001b[1;33m\u001b[0m\u001b[1;33m\u001b[0m\u001b[0m\n\u001b[0;32m      6\u001b[0m \u001b[1;31m# dump model with feature map\u001b[0m\u001b[1;33m\u001b[0m\u001b[1;33m\u001b[0m\u001b[1;33m\u001b[0m\u001b[0m\n\u001b[1;32m----> 7\u001b[1;33m \u001b[0mbst\u001b[0m\u001b[1;33m.\u001b[0m\u001b[0mdump_model\u001b[0m\u001b[1;33m(\u001b[0m\u001b[1;34m'dump.raw.txt'\u001b[0m\u001b[1;33m,\u001b[0m \u001b[1;34m'featmap.txt'\u001b[0m\u001b[1;33m)\u001b[0m\u001b[1;33m\u001b[0m\u001b[1;33m\u001b[0m\u001b[0m\n\u001b[0m\u001b[0;32m      8\u001b[0m \u001b[1;31m#A saved model can be loaded as follows:\u001b[0m\u001b[1;33m\u001b[0m\u001b[1;33m\u001b[0m\u001b[1;33m\u001b[0m\u001b[0m\n\u001b[0;32m      9\u001b[0m \u001b[1;33m\u001b[0m\u001b[0m\n",
      "\u001b[1;32m~\\Anaconda3\\lib\\site-packages\\xgboost\\core.py\u001b[0m in \u001b[0;36mdump_model\u001b[1;34m(self, fout, fmap, with_stats, dump_format)\u001b[0m\n\u001b[0;32m   1391\u001b[0m         \u001b[1;32melse\u001b[0m\u001b[1;33m:\u001b[0m\u001b[1;33m\u001b[0m\u001b[1;33m\u001b[0m\u001b[0m\n\u001b[0;32m   1392\u001b[0m             \u001b[0mneed_close\u001b[0m \u001b[1;33m=\u001b[0m \u001b[1;32mFalse\u001b[0m\u001b[1;33m\u001b[0m\u001b[1;33m\u001b[0m\u001b[0m\n\u001b[1;32m-> 1393\u001b[1;33m         \u001b[0mret\u001b[0m \u001b[1;33m=\u001b[0m \u001b[0mself\u001b[0m\u001b[1;33m.\u001b[0m\u001b[0mget_dump\u001b[0m\u001b[1;33m(\u001b[0m\u001b[0mfmap\u001b[0m\u001b[1;33m,\u001b[0m \u001b[0mwith_stats\u001b[0m\u001b[1;33m,\u001b[0m \u001b[0mdump_format\u001b[0m\u001b[1;33m)\u001b[0m\u001b[1;33m\u001b[0m\u001b[1;33m\u001b[0m\u001b[0m\n\u001b[0m\u001b[0;32m   1394\u001b[0m         \u001b[1;32mif\u001b[0m \u001b[0mdump_format\u001b[0m \u001b[1;33m==\u001b[0m \u001b[1;34m'json'\u001b[0m\u001b[1;33m:\u001b[0m\u001b[1;33m\u001b[0m\u001b[1;33m\u001b[0m\u001b[0m\n\u001b[0;32m   1395\u001b[0m             \u001b[0mfout\u001b[0m\u001b[1;33m.\u001b[0m\u001b[0mwrite\u001b[0m\u001b[1;33m(\u001b[0m\u001b[1;34m'[\\n'\u001b[0m\u001b[1;33m)\u001b[0m\u001b[1;33m\u001b[0m\u001b[1;33m\u001b[0m\u001b[0m\n",
      "\u001b[1;32m~\\Anaconda3\\lib\\site-packages\\xgboost\\core.py\u001b[0m in \u001b[0;36mget_dump\u001b[1;34m(self, fmap, with_stats, dump_format)\u001b[0m\n\u001b[0;32m   1443\u001b[0m         \u001b[1;32melse\u001b[0m\u001b[1;33m:\u001b[0m\u001b[1;33m\u001b[0m\u001b[1;33m\u001b[0m\u001b[0m\n\u001b[0;32m   1444\u001b[0m             \u001b[1;32mif\u001b[0m \u001b[0mfmap\u001b[0m \u001b[1;33m!=\u001b[0m \u001b[1;34m''\u001b[0m \u001b[1;32mand\u001b[0m \u001b[1;32mnot\u001b[0m \u001b[0mos\u001b[0m\u001b[1;33m.\u001b[0m\u001b[0mpath\u001b[0m\u001b[1;33m.\u001b[0m\u001b[0mexists\u001b[0m\u001b[1;33m(\u001b[0m\u001b[0mfmap\u001b[0m\u001b[1;33m)\u001b[0m\u001b[1;33m:\u001b[0m\u001b[1;33m\u001b[0m\u001b[1;33m\u001b[0m\u001b[0m\n\u001b[1;32m-> 1445\u001b[1;33m                 \u001b[1;32mraise\u001b[0m \u001b[0mValueError\u001b[0m\u001b[1;33m(\u001b[0m\u001b[1;34m\"No such file: {0}\"\u001b[0m\u001b[1;33m.\u001b[0m\u001b[0mformat\u001b[0m\u001b[1;33m(\u001b[0m\u001b[0mfmap\u001b[0m\u001b[1;33m)\u001b[0m\u001b[1;33m)\u001b[0m\u001b[1;33m\u001b[0m\u001b[1;33m\u001b[0m\u001b[0m\n\u001b[0m\u001b[0;32m   1446\u001b[0m             _check_call(_LIB.XGBoosterDumpModelEx(self.handle,\n\u001b[0;32m   1447\u001b[0m                                                   \u001b[0mc_str\u001b[0m\u001b[1;33m(\u001b[0m\u001b[0mfmap\u001b[0m\u001b[1;33m)\u001b[0m\u001b[1;33m,\u001b[0m\u001b[1;33m\u001b[0m\u001b[1;33m\u001b[0m\u001b[0m\n",
      "\u001b[1;31mValueError\u001b[0m: No such file: featmap.txt"
     ]
    }
   ],
   "source": [
    "# dump model with feature map\n",
    "bst.dump_model('dump.raw.txt', 'featmap.txt')\n",
    "#A saved model can be loaded as follows:\n",
    "\n",
    "#bst = xgb.Booster({'nthread': 4})  # init model\n",
    "#bst.load_model('model.bin')  # load data"
   ]
  },
  {
   "cell_type": "code",
   "execution_count": 172,
   "metadata": {},
   "outputs": [
    {
     "data": {
      "text/plain": [
       "<matplotlib.axes._subplots.AxesSubplot at 0x25b07188ac8>"
      ]
     },
     "execution_count": 172,
     "metadata": {},
     "output_type": "execute_result"
    },
    {
     "data": {
      "image/png": "[encoded data removed]",
      "text/plain": [
       "<Figure size 432x288 with 1 Axes>"
      ]
     },
     "metadata": {
      "needs_background": "light"
     },
     "output_type": "display_data"
    }
   ],
   "source": [
    "xgb.plot_importance(bst)"
   ]
  },
  {
   "cell_type": "markdown",
   "metadata": {},
   "source": [
    "the ensamble model did yield to a much better result compared with single models <br>\n",
    "and the feature importance reflected of what we saw in the single model result"
   ]
  },
  {
   "cell_type": "markdown",
   "metadata": {},
   "source": [
    "try cv for svm"
   ]
  },
  {
   "cell_type": "code",
   "execution_count": null,
   "metadata": {},
   "outputs": [],
   "source": [
    "clf = svm.SVC()\n",
    "clf.train(X_train,y_train)\n",
    "grid"
   ]
  },
  {
   "cell_type": "code",
   "execution_count": 177,
   "metadata": {},
   "outputs": [],
   "source": [
    "clf=RandomForestClassifier()"
   ]
  },
  {
   "cell_type": "markdown",
   "metadata": {},
   "source": [
    "Leverage random search to find parameters using random forest<br>"
   ]
  },
  {
   "cell_type": "code",
   "execution_count": 178,
   "metadata": {},
   "outputs": [],
   "source": [
    "from scipy.stats import randint\n",
    "param_dist = {\"max_depth\": [3, None],\n",
    "              \"max_features\": randint(1, 11),\n",
    "              \"min_samples_split\": randint(2, 11),\n",
    "              \"bootstrap\": [True, False],\n",
    "              \"criterion\": [\"gini\", \"entropy\"]}\n",
    "n_iter_search = 20\n",
    "random_search = RandomizedSearchCV(clf,\n",
    "                                   param_distributions=param_dist,\n",
    "                                   n_iter=200, cv=5)"
   ]
  },
  {
   "cell_type": "code",
   "execution_count": 1,
   "metadata": {},
   "outputs": [],
   "source": [
    "#random_search.fit(X_train,y_train)"
   ]
  },
  {
   "cell_type": "markdown",
   "metadata": {},
   "source": [
    "RandomizedSearchCV(cv=5, error_score='raise-deprecating',\n",
    "                   estimator=RandomForestClassifier(bootstrap=True,\n",
    "                                                    class_weight=None,\n",
    "                                                    criterion='gini',\n",
    "                                                    max_depth=None,\n",
    "                                                    max_features='auto',\n",
    "                                                    max_leaf_nodes=None,\n",
    "                                                    min_impurity_decrease=0.0,\n",
    "                                                    min_impurity_split=None,\n",
    "                                                    min_samples_leaf=1,\n",
    "                                                    min_samples_split=2,\n",
    "                                                    min_weight_fraction_leaf=0.0,\n",
    "                                                    n_estimators='warn',\n",
    "                                                    n_jobs=None,\n",
    "                                                    oob_sc...\n",
    "                   param_distributions={'bootstrap': [True, False],\n",
    "                                        'criterion': ['gini', 'entropy'],\n",
    "                                        'max_depth': [3, None],\n",
    "                                        'max_features': <scipy.stats._distn_infrastructure.rv_frozen object at 0x0000025B04732048>,\n",
    "                                        'min_samples_split': <scipy.stats._distn_infrastructure.rv_frozen object at 0x0000025B0720B860>},\n",
    "                   pre_dispatch='2*n_jobs', random_state=None, refit=True,\n",
    "                   return_train_score=False, scoring=None, verbose=0)"
   ]
  },
  {
   "cell_type": "code",
   "execution_count": 182,
   "metadata": {},
   "outputs": [
    {
     "data": {
      "text/plain": [
       "{'bootstrap': False,\n",
       " 'criterion': 'gini',\n",
       " 'max_depth': None,\n",
       " 'max_features': 10,\n",
       " 'min_samples_split': 5}"
      ]
     },
     "execution_count": 182,
     "metadata": {},
     "output_type": "execute_result"
    }
   ],
   "source": [
    "random_search.best_params_"
   ]
  },
  {
   "cell_type": "code",
   "execution_count": 183,
   "metadata": {},
   "outputs": [
    {
     "data": {
      "text/plain": [
       "RandomForestClassifier(bootstrap=False, class_weight=None, criterion='gini',\n",
       "                       max_depth=None, max_features=10, max_leaf_nodes=None,\n",
       "                       min_impurity_decrease=0.0, min_impurity_split=None,\n",
       "                       min_samples_leaf=1, min_samples_split=5,\n",
       "                       min_weight_fraction_leaf=0.0, n_estimators=10,\n",
       "                       n_jobs=None, oob_score=False, random_state=None,\n",
       "                       verbose=0, warm_start=False)"
      ]
     },
     "execution_count": 183,
     "metadata": {},
     "output_type": "execute_result"
    }
   ],
   "source": [
    "random_search.best_estimator_"
   ]
  },
  {
   "cell_type": "code",
   "execution_count": 189,
   "metadata": {},
   "outputs": [
    {
     "data": {
      "text/plain": [
       "array([0.96818638, 0.9688575 , 0.87053663, 0.96403524, 0.96813305,\n",
       "       0.85494093, 0.96748416, 0.87663446, 0.7940115 , 0.95988853])"
      ]
     },
     "execution_count": 189,
     "metadata": {},
     "output_type": "execute_result"
    }
   ],
   "source": [
    "random_search.cv_results_['mean_test_score'][random_search.cv_results_['rank_test_score']-1][:10]"
   ]
  },
  {
   "cell_type": "code",
   "execution_count": 205,
   "metadata": {},
   "outputs": [
    {
     "data": {
      "text/plain": [
       "array([171, 119, 167, 103,  38, 170, 140, 195,  73, 105])"
      ]
     },
     "execution_count": 205,
     "metadata": {},
     "output_type": "execute_result"
    }
   ],
   "source": [
    "random_search.cv_results_['rank_test_score'][:10]-1"
   ]
  },
  {
   "cell_type": "code",
   "execution_count": 206,
   "metadata": {},
   "outputs": [
    {
     "name": "stdout",
     "output_type": "stream",
     "text": [
      "{'bootstrap': True, 'criterion': 'gini', 'max_depth': None, 'max_features': 9, 'min_samples_split': 5}\n",
      "{'bootstrap': False, 'criterion': 'entropy', 'max_depth': None, 'max_features': 8, 'min_samples_split': 9}\n",
      "{'bootstrap': True, 'criterion': 'entropy', 'max_depth': 3, 'max_features': 10, 'min_samples_split': 9}\n",
      "{'bootstrap': True, 'criterion': 'entropy', 'max_depth': None, 'max_features': 5, 'min_samples_split': 7}\n",
      "{'bootstrap': True, 'criterion': 'entropy', 'max_depth': None, 'max_features': 9, 'min_samples_split': 5}\n",
      "{'bootstrap': False, 'criterion': 'gini', 'max_depth': 3, 'max_features': 7, 'min_samples_split': 3}\n",
      "{'bootstrap': False, 'criterion': 'entropy', 'max_depth': None, 'max_features': 7, 'min_samples_split': 2}\n",
      "{'bootstrap': True, 'criterion': 'gini', 'max_depth': 3, 'max_features': 8, 'min_samples_split': 5}\n",
      "{'bootstrap': True, 'criterion': 'entropy', 'max_depth': 3, 'max_features': 3, 'min_samples_split': 7}\n",
      "{'bootstrap': False, 'criterion': 'gini', 'max_depth': None, 'max_features': 1, 'min_samples_split': 3}\n"
     ]
    }
   ],
   "source": [
    "for i in random_search.cv_results_['rank_test_score'][:10]-1:\n",
    "    print(random_search.cv_results_['params'][i])"
   ]
  },
  {
   "cell_type": "code",
   "execution_count": 207,
   "metadata": {},
   "outputs": [],
   "source": [
    "model = random_search.best_estimator_"
   ]
  },
  {
   "cell_type": "code",
   "execution_count": 208,
   "metadata": {},
   "outputs": [
    {
     "data": {
      "text/plain": [
       "Index(['x0_Austria', 'x0_Barbados', 'x0_Belgium', 'x0_Brazil', 'x0_Canada',\n",
       "       'x0_Denmark', 'x0_Finland', 'x0_France', 'x0_Germany',\n",
       "       'x0_Great Britain (Uk)',\n",
       "       ...\n",
       "       'x17_boehringer', 'x17_eisai', 'x17_incyte', 'x17_janssen', 'x17_merck',\n",
       "       'x17_novo', 'x17_other', 'x17_pfizer', 'x17_sanofi', 'log_spend'],\n",
       "      dtype='object', length=266)"
      ]
     },
     "execution_count": 208,
     "metadata": {},
     "output_type": "execute_result"
    }
   ],
   "source": [
    "X_train.columns"
   ]
  },
  {
   "cell_type": "code",
   "execution_count": 210,
   "metadata": {},
   "outputs": [
    {
     "data": {
      "image/png": "[encoded data removed]",
      "text/plain": [
       "<Figure size 1440x360 with 1 Axes>"
      ]
     },
     "metadata": {
      "needs_background": "light"
     },
     "output_type": "display_data"
    }
   ],
   "source": [
    "# get the encoded col_names\n",
    "cols = X_train.columns.tolist()\n",
    "# get the ordinal vars\n",
    " \n",
    "# add the continuous vars\n",
    " \n",
    " \n",
    "model_res = pd.DataFrame(data={'cols': cols,\n",
    "                               'feature_importances': model.feature_importances_})\n",
    "\n",
    "model_res.sort_values(by='feature_importances', ascending=False, inplace=True)\n",
    " \n",
    "fig, ax = plt.subplots(1, 1, figsize=(20, 5))\n",
    "sns.barplot(x='cols', y='feature_importances', data=model_res, ax=ax, color='lightblue')\n",
    "plt.xticks(rotation='vertical')\n",
    "plt.tight_layout()\n",
    "plt.show()"
   ]
  },
  {
   "cell_type": "code",
   "execution_count": 213,
   "metadata": {},
   "outputs": [],
   "source": [
    "tree=DecisionTreeClassifier(   criterion= 'gini', max_depth=None, max_features=9, min_samples_split=5)"
   ]
  },
  {
   "cell_type": "code",
   "execution_count": null,
   "metadata": {},
   "outputs": [],
   "source": [
    "tree.fit(X_train,y_train)\n",
    "\n",
    "print(\"{0} training accuracy: {1:.3f} and test accuracy: {2:.3f}\".\\\n",
    "      format('tree',\\\n",
    "              tree.score(X_train,y_train),tree.score(X_test,y_test)))\n",
    "\n",
    "tree_dot = export_graphviz(tree, out_file=None, feature_names=cols)\n",
    "graph = graphviz.Source(tree_dot)\n",
    "graph.render(cleanup=True)"
   ]
  },
  {
   "cell_type": "code",
   "execution_count": 3,
   "metadata": {
    "scrolled": false
   },
   "outputs": [],
   "source": [
    "#graph"
   ]
  },
  {
   "cell_type": "code",
   "execution_count": null,
   "metadata": {},
   "outputs": [],
   "source": []
  }
 ],
 "metadata": {
  "kernelspec": {
   "display_name": "Python 3",
   "language": "python",
   "name": "python3"
  },
  "language_info": {
   "codemirror_mode": {
    "name": "ipython",
    "version": 3
   },
   "file_extension": ".py",
   "mimetype": "text/x-python",
   "name": "python",
   "nbconvert_exporter": "python",
   "pygments_lexer": "ipython3",
   "version": "3.7.3"
  }
 },
 "nbformat": 4,
 "nbformat_minor": 2
}
